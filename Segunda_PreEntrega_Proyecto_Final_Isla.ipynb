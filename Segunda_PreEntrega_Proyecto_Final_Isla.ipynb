{
  "cells": [
    {
      "cell_type": "markdown",
      "metadata": {
        "id": "view-in-github",
        "colab_type": "text"
      },
      "source": [
        "<a href=\"https://colab.research.google.com/github/islanicolas/Data-Science-Coderhouse/blob/Segunda-Pre-Entrega-Proy-Final/Segunda_PreEntrega_Proyecto_Final_Isla.ipynb\" target=\"_parent\"><img src=\"https://colab.research.google.com/assets/colab-badge.svg\" alt=\"Open In Colab\"/></a>"
      ]
    },
    {
      "cell_type": "markdown",
      "metadata": {
        "id": "KJzg-po-BGJU"
      },
      "source": [
        "# **Caso de Estudio** #\n",
        "\n",
        "\n",
        "## <font color='red'>Análisis de recursos del Aeroparque Jorge Newbery ✈"
      ]
    },
    {
      "cell_type": "markdown",
      "metadata": {
        "id": "SRpgWFpCD8LD"
      },
      "source": [
        "**Objetivo:**\n",
        "Analizar y **determinar** puntos críticos de saturación de recursos aeroportuarios."
      ]
    },
    {
      "cell_type": "markdown",
      "metadata": {
        "id": "EPWDTtrkTAyj"
      },
      "source": [
        "##Descripción de Contexto"
      ]
    },
    {
      "cell_type": "markdown",
      "metadata": {
        "id": "eUIPzbZWEuKu"
      },
      "source": [
        ">**Contexto empresarial.**\n",
        "\n",
        "Dada la excelente ubicación geográfica (a minutos de Capital Federal), el Aeropuerto Jorge Newbery es estretégico para la explotación de empresas aéreas tanto domésticas o internacionales. Luego de la pandemia del Covid 19 se decretó que el mismo volvería a ser un aeropuerto internacional (destinos del Mercosur y países de Sudamérica). Es por esto, que se han incrementado exponencialmente sus operaciones y su infraestructura para soportar este incremento no ha acompañado. \n",
        "Durante la pandemia se recontruyó la única pista que este aeródormo posee, pero esa obra no es suficiente, ya que la terminal de pasajeros ha permanecido prácticamente sin grandes incrementos de su capacidad.\n",
        "Se realizará el estudio de los datos provistos por el explotador aéreo  existente a fin de prever los picos de capacidad de todos los subsistemas que integran al aeropuerto en sí y así evitar saturaciones de los mismos, permitiendo una mejor planificación de los recursos aeroportuarios.\n",
        "\n"
      ]
    },
    {
      "cell_type": "markdown",
      "metadata": {
        "id": "u3dk_OhaEuKw"
      },
      "source": [
        ">**Problema comercial**\n",
        "\n",
        "Se procederá a formatear los datos existentes y proporcionar visualizaciones que respondan las siguientes preguntas:\n",
        "\n",
        "* Cantidad de arribos por mes\n",
        "* Cantidad de Pasajeros por mes\n",
        "* Distribución de arribos por día y frecuencia\n",
        "* Distribucion de vuelos provenientes de Brasil\n",
        "* Se pueden predecir demoras por ruta?\n",
        "* Durante un año, qué cabecera es la que más se utilizó? y qué posición?\n",
        "* Hay zonas geográficas que tienden a tener más demoras que otras?\n",
        "* Cuáles son los horarios picos de pasajeros en la terminal?\n"
      ]
    },
    {
      "cell_type": "markdown",
      "metadata": {
        "id": "E9ASFJCyEuKx"
      },
      "source": [
        "**Contexto analítico.** \n",
        "\n",
        "Se proporciona un archivo CSV  que contiene datos de vuelos entre los años 2019 y  septiembre del 2022 inclusive. Cuenta con información de cantidad de pasajeros, horas de arribo y de programación, etc.\n",
        "\n",
        "Se adiciona un detaset con información de aeropuertos para complementar el análisis.\n",
        "\n",
        "\n"
      ]
    },
    {
      "cell_type": "markdown",
      "metadata": {
        "id": "0GM6PGODEuKz"
      },
      "source": [
        "## **Exploracion de datos (EDA)** 🔍"
      ]
    },
    {
      "cell_type": "markdown",
      "metadata": {
        "id": "UPYH4xffVkl2"
      },
      "source": [
        "###<font color='blue'>Librerías 📚"
      ]
    },
    {
      "cell_type": "code",
      "execution_count": 1,
      "metadata": {
        "id": "b6q334tgD9jO",
        "colab": {
          "base_uri": "https://localhost:8080/"
        },
        "outputId": "2a9ebdf3-b61e-4129-bd2b-fb9c22d36666"
      },
      "outputs": [
        {
          "output_type": "stream",
          "name": "stdout",
          "text": [
            "\u001b[?25l     \u001b[90m━━━━━━━━━━━━━━━━━━━━━━━━━━━━━━━━━━━━━━━━\u001b[0m \u001b[32m0.0/198.6 KB\u001b[0m \u001b[31m?\u001b[0m eta \u001b[36m-:--:--\u001b[0m\r\u001b[2K     \u001b[91m━━━━━━━━━━━━━━━━━━━━━━━━━━━━━━━━━━━━━\u001b[0m\u001b[90m╺\u001b[0m \u001b[32m194.6/198.6 KB\u001b[0m \u001b[31m45.1 MB/s\u001b[0m eta \u001b[36m0:00:01\u001b[0m\r\u001b[2K     \u001b[90m━━━━━━━━━━━━━━━━━━━━━━━━━━━━━━━━━━━━━━━\u001b[0m \u001b[32m198.6/198.6 KB\u001b[0m \u001b[31m3.6 MB/s\u001b[0m eta \u001b[36m0:00:00\u001b[0m\n",
            "\u001b[?25h  Preparing metadata (setup.py) ... \u001b[?25l\u001b[?25hdone\n",
            "  Building wheel for littleutils (setup.py) ... \u001b[?25l\u001b[?25hdone\n"
          ]
        }
      ],
      "source": [
        "!pip install -q pingouin"
      ]
    },
    {
      "cell_type": "code",
      "execution_count": 2,
      "metadata": {
        "colab": {
          "base_uri": "https://localhost:8080/"
        },
        "id": "DogMqblIWY8v",
        "outputId": "cca8f966-a1f7-495d-c4ee-a38c8722024a"
      },
      "outputs": [
        {
          "output_type": "stream",
          "name": "stdout",
          "text": [
            "Mounted at /content/drive\n"
          ]
        }
      ],
      "source": [
        "import seaborn as sns \n",
        "import sklearn\n",
        "import matplotlib.pyplot as plt\n",
        "import pandas as pd\n",
        "import matplotlib as mpl\n",
        "import numpy as np\n",
        "from google.colab import drive\n",
        "drive.mount('/content/drive')\n",
        "from statsmodels.stats.proportion import proportions_ztest \n",
        "from scipy import stats \n",
        "import pingouin as pg\n",
        "from sklearn.impute import SimpleImputer\n",
        "from sklearn.preprocessing import MinMaxScaler\n",
        "from sklearn.preprocessing import Normalizer\n",
        "from sklearn.cluster import KMeans\n",
        "from sklearn.tree import DecisionTreeClassifier  #arbol de decision\n",
        "from sklearn import tree #arbol de decision\n",
        "from sklearn.model_selection import train_test_split\n",
        "from sklearn import metrics \n",
        "from sklearn.tree import DecisionTreeClassifier\n",
        "from sklearn.model_selection import train_test_split\n",
        "from sklearn import datasets, linear_model\n",
        "from sklearn.metrics import mean_squared_error, r2_score\n",
        "from sklearn.model_selection import KFold, cross_val_score\n",
        "from sklearn.metrics import confusion_matrix\n",
        "from sklearn.neighbors import KNeighborsClassifier\n",
        "from sklearn.linear_model import LinearRegression\n",
        "from sklearn import neighbors\n",
        "import missingno as msno"
      ]
    },
    {
      "cell_type": "code",
      "execution_count": 3,
      "metadata": {
        "id": "cMf9tC-_Ww5o",
        "colab": {
          "base_uri": "https://localhost:8080/"
        },
        "outputId": "53d69f6a-eefe-4daa-c6c7-1b324068ef3b"
      },
      "outputs": [
        {
          "output_type": "stream",
          "name": "stderr",
          "text": [
            "/usr/local/lib/python3.8/dist-packages/IPython/core/interactiveshell.py:3326: DtypeWarning: Columns (4) have mixed types.Specify dtype option on import or set low_memory=False.\n",
            "  exec(code_obj, self.user_global_ns, self.user_ns)\n"
          ]
        }
      ],
      "source": [
        "# Importamos el Dataset\n",
        "df_Vuelos = pd.read_csv('/content/drive/MyDrive/Cursos/CODERHOUSE/DataSet_Proyecto_Final_Data_Science.csv', sep=\";\")\n",
        "#df_Vuelos = pd.read_csv('/content/drive/MyDrive/CODERHOUSE/DataSet_Proyecto_Final_Data_Science.csv', sep=\";\")"
      ]
    },
    {
      "cell_type": "markdown",
      "metadata": {
        "id": "voF_02nrWETO"
      },
      "source": [
        "###<font color='blue'>Exploración y limpieza del Dataset ⚒"
      ]
    },
    {
      "cell_type": "markdown",
      "metadata": {
        "id": "ek8d1FIb-YNs"
      },
      "source": [
        "**Columnas:**\n",
        "* Aero: Aerolinea\n",
        "* Vuelo\n",
        "* Cshare: Código compartido (un vuelo puede ser realizado por empresas del mismo holding)\n",
        "* Origen: Ruta del vuelo\n",
        "* Via: Escala del vuelo\n",
        "* STA: Horario programado de arribo\n",
        "* Sug: Horario sugerido\n",
        "* ETA: Estimated Time Arrival\n",
        "* ATA: Actual Time Arrival\n",
        "* Tipo: Codificación del tipo de vuelo\n",
        "* Asignar:\n",
        "* Pos: Posición asignada al arribo\n",
        "* Ter: Terminal en que opera el arribo\n",
        "* Sec: sector asociado a la terminal\n",
        "* Rmk: Remark (Estado del vuelo)\n",
        "* Cin: Cinta asignada para retirar equipajes\n",
        "* L&F: Mostrador de reclamos de equipajes asignado al vuelo\n",
        "* Pax: Cantidad de pasajeros\n",
        "* Vip: si tiene o no pasajeros vip ese vuelo\n",
        "* Mat: MAtricula de la aeronave\n",
        "* Acft: Tipo de aeronave\n",
        "* Obs.: Observaciones\n",
        "* Aero: empresa aerea asociada a la partida\n",
        "* #Rot: Vuelo asociado a la partida\n",
        "* Cabecera: Cabecera de pista donde operó el arribo\n",
        "* año: año de operación del vuelo\n",
        "* mes: mes de operación del vuelo\n",
        "* Hora: hora de operación del vuelo\n",
        "\n"
      ]
    },
    {
      "cell_type": "code",
      "execution_count": 4,
      "metadata": {
        "colab": {
          "base_uri": "https://localhost:8080/",
          "height": 386
        },
        "id": "4ZcFuloAXB02",
        "outputId": "12d453f0-f1e8-49f6-e62c-901bece5e7df"
      },
      "outputs": [
        {
          "output_type": "execute_result",
          "data": {
            "text/plain": [
              "  Aero #Vuelo  CShare Origen  Via             STA  SUG    ETA             ATA  \\\n",
              "0   DN   6049     NaN    IGR  NaN  1/1/2019 01:50  NaN    NaN  1/1/2019 01:22   \n",
              "1   4M   7623     NaN    COR  NaN  1/1/2019 06:17  NaN  05:50  1/1/2019 06:02   \n",
              "2   4M   7653     NaN    MDZ  NaN  1/1/2019 07:37  NaN  07:30  1/1/2019 07:30   \n",
              "3   AR   1671     NaN    NQN  NaN  1/1/2019 07:40  NaN  07:29  1/1/2019 07:26   \n",
              "4   AR   1611     NaN    MDQ  NaN  1/1/2019 07:55  NaN  07:45  1/1/2019 07:43   \n",
              "\n",
              "    Tipo  ...  Vip    Mat  Acft Obs. Aero.1  #Rot  Cabecera   año mes hora  \n",
              "0  1 C P  ...  NaN  LVHQH   738  NaN     DN  6062      31.0  2019   1    1  \n",
              "1  1 C P  ...  NaN  LVBFO   320  NaN     4M  7502      31.0  2019   1    6  \n",
              "2  1 C P  ...  NaN  LVGLP   320  NaN     4M  7550      13.0  2019   1    7  \n",
              "3  1 C P  ...  NaN  LVFUA  738W  NaN     AR  1672      13.0  2019   1    7  \n",
              "4  1 C P  ...  NaN  LVGVA  738W  NaN     AR  1496      13.0  2019   1    7  \n",
              "\n",
              "[5 rows x 28 columns]"
            ],
            "text/html": [
              "\n",
              "  <div id=\"df-f09dea09-490d-4f26-9ebb-62f16222e60e\">\n",
              "    <div class=\"colab-df-container\">\n",
              "      <div>\n",
              "<style scoped>\n",
              "    .dataframe tbody tr th:only-of-type {\n",
              "        vertical-align: middle;\n",
              "    }\n",
              "\n",
              "    .dataframe tbody tr th {\n",
              "        vertical-align: top;\n",
              "    }\n",
              "\n",
              "    .dataframe thead th {\n",
              "        text-align: right;\n",
              "    }\n",
              "</style>\n",
              "<table border=\"1\" class=\"dataframe\">\n",
              "  <thead>\n",
              "    <tr style=\"text-align: right;\">\n",
              "      <th></th>\n",
              "      <th>Aero</th>\n",
              "      <th>#Vuelo</th>\n",
              "      <th>CShare</th>\n",
              "      <th>Origen</th>\n",
              "      <th>Via</th>\n",
              "      <th>STA</th>\n",
              "      <th>SUG</th>\n",
              "      <th>ETA</th>\n",
              "      <th>ATA</th>\n",
              "      <th>Tipo</th>\n",
              "      <th>...</th>\n",
              "      <th>Vip</th>\n",
              "      <th>Mat</th>\n",
              "      <th>Acft</th>\n",
              "      <th>Obs.</th>\n",
              "      <th>Aero.1</th>\n",
              "      <th>#Rot</th>\n",
              "      <th>Cabecera</th>\n",
              "      <th>año</th>\n",
              "      <th>mes</th>\n",
              "      <th>hora</th>\n",
              "    </tr>\n",
              "  </thead>\n",
              "  <tbody>\n",
              "    <tr>\n",
              "      <th>0</th>\n",
              "      <td>DN</td>\n",
              "      <td>6049</td>\n",
              "      <td>NaN</td>\n",
              "      <td>IGR</td>\n",
              "      <td>NaN</td>\n",
              "      <td>1/1/2019 01:50</td>\n",
              "      <td>NaN</td>\n",
              "      <td>NaN</td>\n",
              "      <td>1/1/2019 01:22</td>\n",
              "      <td>1 C P</td>\n",
              "      <td>...</td>\n",
              "      <td>NaN</td>\n",
              "      <td>LVHQH</td>\n",
              "      <td>738</td>\n",
              "      <td>NaN</td>\n",
              "      <td>DN</td>\n",
              "      <td>6062</td>\n",
              "      <td>31.0</td>\n",
              "      <td>2019</td>\n",
              "      <td>1</td>\n",
              "      <td>1</td>\n",
              "    </tr>\n",
              "    <tr>\n",
              "      <th>1</th>\n",
              "      <td>4M</td>\n",
              "      <td>7623</td>\n",
              "      <td>NaN</td>\n",
              "      <td>COR</td>\n",
              "      <td>NaN</td>\n",
              "      <td>1/1/2019 06:17</td>\n",
              "      <td>NaN</td>\n",
              "      <td>05:50</td>\n",
              "      <td>1/1/2019 06:02</td>\n",
              "      <td>1 C P</td>\n",
              "      <td>...</td>\n",
              "      <td>NaN</td>\n",
              "      <td>LVBFO</td>\n",
              "      <td>320</td>\n",
              "      <td>NaN</td>\n",
              "      <td>4M</td>\n",
              "      <td>7502</td>\n",
              "      <td>31.0</td>\n",
              "      <td>2019</td>\n",
              "      <td>1</td>\n",
              "      <td>6</td>\n",
              "    </tr>\n",
              "    <tr>\n",
              "      <th>2</th>\n",
              "      <td>4M</td>\n",
              "      <td>7653</td>\n",
              "      <td>NaN</td>\n",
              "      <td>MDZ</td>\n",
              "      <td>NaN</td>\n",
              "      <td>1/1/2019 07:37</td>\n",
              "      <td>NaN</td>\n",
              "      <td>07:30</td>\n",
              "      <td>1/1/2019 07:30</td>\n",
              "      <td>1 C P</td>\n",
              "      <td>...</td>\n",
              "      <td>NaN</td>\n",
              "      <td>LVGLP</td>\n",
              "      <td>320</td>\n",
              "      <td>NaN</td>\n",
              "      <td>4M</td>\n",
              "      <td>7550</td>\n",
              "      <td>13.0</td>\n",
              "      <td>2019</td>\n",
              "      <td>1</td>\n",
              "      <td>7</td>\n",
              "    </tr>\n",
              "    <tr>\n",
              "      <th>3</th>\n",
              "      <td>AR</td>\n",
              "      <td>1671</td>\n",
              "      <td>NaN</td>\n",
              "      <td>NQN</td>\n",
              "      <td>NaN</td>\n",
              "      <td>1/1/2019 07:40</td>\n",
              "      <td>NaN</td>\n",
              "      <td>07:29</td>\n",
              "      <td>1/1/2019 07:26</td>\n",
              "      <td>1 C P</td>\n",
              "      <td>...</td>\n",
              "      <td>NaN</td>\n",
              "      <td>LVFUA</td>\n",
              "      <td>738W</td>\n",
              "      <td>NaN</td>\n",
              "      <td>AR</td>\n",
              "      <td>1672</td>\n",
              "      <td>13.0</td>\n",
              "      <td>2019</td>\n",
              "      <td>1</td>\n",
              "      <td>7</td>\n",
              "    </tr>\n",
              "    <tr>\n",
              "      <th>4</th>\n",
              "      <td>AR</td>\n",
              "      <td>1611</td>\n",
              "      <td>NaN</td>\n",
              "      <td>MDQ</td>\n",
              "      <td>NaN</td>\n",
              "      <td>1/1/2019 07:55</td>\n",
              "      <td>NaN</td>\n",
              "      <td>07:45</td>\n",
              "      <td>1/1/2019 07:43</td>\n",
              "      <td>1 C P</td>\n",
              "      <td>...</td>\n",
              "      <td>NaN</td>\n",
              "      <td>LVGVA</td>\n",
              "      <td>738W</td>\n",
              "      <td>NaN</td>\n",
              "      <td>AR</td>\n",
              "      <td>1496</td>\n",
              "      <td>13.0</td>\n",
              "      <td>2019</td>\n",
              "      <td>1</td>\n",
              "      <td>7</td>\n",
              "    </tr>\n",
              "  </tbody>\n",
              "</table>\n",
              "<p>5 rows × 28 columns</p>\n",
              "</div>\n",
              "      <button class=\"colab-df-convert\" onclick=\"convertToInteractive('df-f09dea09-490d-4f26-9ebb-62f16222e60e')\"\n",
              "              title=\"Convert this dataframe to an interactive table.\"\n",
              "              style=\"display:none;\">\n",
              "        \n",
              "  <svg xmlns=\"http://www.w3.org/2000/svg\" height=\"24px\"viewBox=\"0 0 24 24\"\n",
              "       width=\"24px\">\n",
              "    <path d=\"M0 0h24v24H0V0z\" fill=\"none\"/>\n",
              "    <path d=\"M18.56 5.44l.94 2.06.94-2.06 2.06-.94-2.06-.94-.94-2.06-.94 2.06-2.06.94zm-11 1L8.5 8.5l.94-2.06 2.06-.94-2.06-.94L8.5 2.5l-.94 2.06-2.06.94zm10 10l.94 2.06.94-2.06 2.06-.94-2.06-.94-.94-2.06-.94 2.06-2.06.94z\"/><path d=\"M17.41 7.96l-1.37-1.37c-.4-.4-.92-.59-1.43-.59-.52 0-1.04.2-1.43.59L10.3 9.45l-7.72 7.72c-.78.78-.78 2.05 0 2.83L4 21.41c.39.39.9.59 1.41.59.51 0 1.02-.2 1.41-.59l7.78-7.78 2.81-2.81c.8-.78.8-2.07 0-2.86zM5.41 20L4 18.59l7.72-7.72 1.47 1.35L5.41 20z\"/>\n",
              "  </svg>\n",
              "      </button>\n",
              "      \n",
              "  <style>\n",
              "    .colab-df-container {\n",
              "      display:flex;\n",
              "      flex-wrap:wrap;\n",
              "      gap: 12px;\n",
              "    }\n",
              "\n",
              "    .colab-df-convert {\n",
              "      background-color: #E8F0FE;\n",
              "      border: none;\n",
              "      border-radius: 50%;\n",
              "      cursor: pointer;\n",
              "      display: none;\n",
              "      fill: #1967D2;\n",
              "      height: 32px;\n",
              "      padding: 0 0 0 0;\n",
              "      width: 32px;\n",
              "    }\n",
              "\n",
              "    .colab-df-convert:hover {\n",
              "      background-color: #E2EBFA;\n",
              "      box-shadow: 0px 1px 2px rgba(60, 64, 67, 0.3), 0px 1px 3px 1px rgba(60, 64, 67, 0.15);\n",
              "      fill: #174EA6;\n",
              "    }\n",
              "\n",
              "    [theme=dark] .colab-df-convert {\n",
              "      background-color: #3B4455;\n",
              "      fill: #D2E3FC;\n",
              "    }\n",
              "\n",
              "    [theme=dark] .colab-df-convert:hover {\n",
              "      background-color: #434B5C;\n",
              "      box-shadow: 0px 1px 3px 1px rgba(0, 0, 0, 0.15);\n",
              "      filter: drop-shadow(0px 1px 2px rgba(0, 0, 0, 0.3));\n",
              "      fill: #FFFFFF;\n",
              "    }\n",
              "  </style>\n",
              "\n",
              "      <script>\n",
              "        const buttonEl =\n",
              "          document.querySelector('#df-f09dea09-490d-4f26-9ebb-62f16222e60e button.colab-df-convert');\n",
              "        buttonEl.style.display =\n",
              "          google.colab.kernel.accessAllowed ? 'block' : 'none';\n",
              "\n",
              "        async function convertToInteractive(key) {\n",
              "          const element = document.querySelector('#df-f09dea09-490d-4f26-9ebb-62f16222e60e');\n",
              "          const dataTable =\n",
              "            await google.colab.kernel.invokeFunction('convertToInteractive',\n",
              "                                                     [key], {});\n",
              "          if (!dataTable) return;\n",
              "\n",
              "          const docLinkHtml = 'Like what you see? Visit the ' +\n",
              "            '<a target=\"_blank\" href=https://colab.research.google.com/notebooks/data_table.ipynb>data table notebook</a>'\n",
              "            + ' to learn more about interactive tables.';\n",
              "          element.innerHTML = '';\n",
              "          dataTable['output_type'] = 'display_data';\n",
              "          await google.colab.output.renderOutput(dataTable, element);\n",
              "          const docLink = document.createElement('div');\n",
              "          docLink.innerHTML = docLinkHtml;\n",
              "          element.appendChild(docLink);\n",
              "        }\n",
              "      </script>\n",
              "    </div>\n",
              "  </div>\n",
              "  "
            ]
          },
          "metadata": {},
          "execution_count": 4
        }
      ],
      "source": [
        "df_Vuelos.head(5) # Traemos la cabecera del DS"
      ]
    },
    {
      "cell_type": "code",
      "execution_count": 5,
      "metadata": {
        "colab": {
          "base_uri": "https://localhost:8080/"
        },
        "id": "f9oioZQQjntb",
        "outputId": "e826d091-d0a3-4d1c-8140-3eafc25534dd"
      },
      "outputs": [
        {
          "output_type": "execute_result",
          "data": {
            "text/plain": [
              "Aero         object\n",
              "#Vuelo       object\n",
              "CShare      float64\n",
              "Origen       object\n",
              "Via          object\n",
              "STA          object\n",
              "SUG         float64\n",
              "ETA          object\n",
              "ATA          object\n",
              "Tipo         object\n",
              "Asignar     float64\n",
              "Pos          object\n",
              "Ter          object\n",
              "Sec          object\n",
              "Rmk          object\n",
              "Cin          object\n",
              "L&F         float64\n",
              "Pax         float64\n",
              "Vip          object\n",
              "Mat          object\n",
              "Acft         object\n",
              "Obs.         object\n",
              "Aero.1       object\n",
              "#Rot         object\n",
              "Cabecera    float64\n",
              "año           int64\n",
              "mes           int64\n",
              "hora          int64\n",
              "dtype: object"
            ]
          },
          "metadata": {},
          "execution_count": 5
        }
      ],
      "source": [
        "df_Vuelos.dtypes # Verificamos los tipos de datos de cada columna"
      ]
    },
    {
      "cell_type": "code",
      "execution_count": 6,
      "metadata": {
        "colab": {
          "base_uri": "https://localhost:8080/"
        },
        "id": "fDYeRCvzhs9p",
        "outputId": "61cdf300-dbd1-4a2d-e440-6a161bf02fde"
      },
      "outputs": [
        {
          "output_type": "stream",
          "name": "stdout",
          "text": [
            "<class 'pandas.core.frame.DataFrame'>\n",
            "RangeIndex: 127929 entries, 0 to 127928\n",
            "Data columns (total 28 columns):\n",
            " #   Column    Non-Null Count   Dtype  \n",
            "---  ------    --------------   -----  \n",
            " 0   Aero      127929 non-null  object \n",
            " 1   #Vuelo    127929 non-null  object \n",
            " 2   CShare    0 non-null       float64\n",
            " 3   Origen    127929 non-null  object \n",
            " 4   Via       778 non-null     object \n",
            " 5   STA       127929 non-null  object \n",
            " 6   SUG       0 non-null       float64\n",
            " 7   ETA       100446 non-null  object \n",
            " 8   ATA       125588 non-null  object \n",
            " 9   Tipo      127929 non-null  object \n",
            " 10  Asignar   0 non-null       float64\n",
            " 11  Pos       125598 non-null  object \n",
            " 12  Ter       127817 non-null  object \n",
            " 13  Sec       115477 non-null  object \n",
            " 14  Rmk       127929 non-null  object \n",
            " 15  Cin       113648 non-null  object \n",
            " 16  L&F       189 non-null     float64\n",
            " 17  Pax       125560 non-null  float64\n",
            " 18  Vip       98 non-null      object \n",
            " 19  Mat       125738 non-null  object \n",
            " 20  Acft      127929 non-null  object \n",
            " 21  Obs.      620 non-null     object \n",
            " 22  Aero.1    125598 non-null  object \n",
            " 23  #Rot      125598 non-null  object \n",
            " 24  Cabecera  125629 non-null  float64\n",
            " 25  año       127929 non-null  int64  \n",
            " 26  mes       127929 non-null  int64  \n",
            " 27  hora      127929 non-null  int64  \n",
            "dtypes: float64(6), int64(3), object(19)\n",
            "memory usage: 27.3+ MB\n"
          ]
        }
      ],
      "source": [
        "df_Vuelos.info() # Vemos un pantallazo de tipo de datos y nulos"
      ]
    },
    {
      "cell_type": "markdown",
      "metadata": {
        "id": "QpPBlS_gjTGf"
      },
      "source": [
        "Borrado de Duplicados"
      ]
    },
    {
      "cell_type": "code",
      "execution_count": 7,
      "metadata": {
        "colab": {
          "base_uri": "https://localhost:8080/"
        },
        "id": "rmyS5G_AivwI",
        "outputId": "09519813-aa39-4d98-c39e-516aa278a537"
      },
      "outputs": [
        {
          "output_type": "stream",
          "name": "stdout",
          "text": [
            "(127929, 28)\n",
            "(127929, 28)\n"
          ]
        }
      ],
      "source": [
        "print(df_Vuelos.shape) # Verifico líneas orginales\n",
        "df_Vuelos=df_Vuelos.drop_duplicates() # Borro duplicados \n",
        "print(df_Vuelos.shape) # Verifico líneas al final para saber si hubo cambios"
      ]
    },
    {
      "cell_type": "markdown",
      "metadata": {
        "id": "WMH5Z4qdkp3Q"
      },
      "source": [
        "Reviso valores nulos\n"
      ]
    },
    {
      "cell_type": "code",
      "execution_count": 8,
      "metadata": {
        "colab": {
          "base_uri": "https://localhost:8080/"
        },
        "id": "AaC_ba75kXF-",
        "outputId": "e461163e-ef27-47ba-dc05-8c735cb761d5"
      },
      "outputs": [
        {
          "output_type": "execute_result",
          "data": {
            "text/plain": [
              "Asignar     100.000000\n",
              "CShare      100.000000\n",
              "SUG         100.000000\n",
              "Vip          99.923395\n",
              "L&F          99.852262\n",
              "Obs.         99.515356\n",
              "Via          99.391850\n",
              "ETA          21.483010\n",
              "Cin          11.163223\n",
              "Sec           9.733524\n",
              "Pax           1.851808\n",
              "ATA           1.829921\n",
              "#Rot          1.822104\n",
              "Aero.1        1.822104\n",
              "Pos           1.822104\n",
              "Cabecera      1.797872\n",
              "Mat           1.712669\n",
              "Ter           0.087549\n",
              "dtype: float64"
            ]
          },
          "metadata": {},
          "execution_count": 8
        }
      ],
      "source": [
        "serie=(df_Vuelos.isnull().sum()/df_Vuelos.shape[0])*100 #porcentaje de nulos por columna\n",
        "serie=serie.sort_values(ascending=False)\n",
        "serie[serie>0]"
      ]
    },
    {
      "cell_type": "code",
      "execution_count": 9,
      "metadata": {
        "colab": {
          "base_uri": "https://localhost:8080/"
        },
        "id": "EW9F-CL56b-b",
        "outputId": "8902b820-e881-4ffd-94ac-b87f6dabf0d5"
      },
      "outputs": [
        {
          "output_type": "execute_result",
          "data": {
            "text/plain": [
              "0          True\n",
              "1         False\n",
              "2         False\n",
              "3         False\n",
              "4         False\n",
              "          ...  \n",
              "127924    False\n",
              "127925     True\n",
              "127926    False\n",
              "127927    False\n",
              "127928    False\n",
              "Name: ETA, Length: 127929, dtype: bool"
            ]
          },
          "metadata": {},
          "execution_count": 9
        }
      ],
      "source": [
        "df_Vuelos['ETA'].isnull()"
      ]
    },
    {
      "cell_type": "markdown",
      "metadata": {
        "id": "CyrC9FgUl4mH"
      },
      "source": [
        "Estrategia \n",
        "1.   Borro columnas con muy pocos datos\n",
        "2.   Reemplazo ETA y ATA por STA\n",
        "3.   Reemplazo Valores nulos"
      ]
    },
    {
      "cell_type": "code",
      "execution_count": 10,
      "metadata": {
        "colab": {
          "base_uri": "https://localhost:8080/"
        },
        "id": "zq-VTFuezgWx",
        "outputId": "17ccd5d3-8d02-412f-b3ce-35a495d36df6"
      },
      "outputs": [
        {
          "output_type": "execute_result",
          "data": {
            "text/plain": [
              "Index(['Aero', '#Vuelo', 'Origen', 'STA', 'ETA', 'ATA', 'Tipo', 'Pos', 'Ter',\n",
              "       'Sec', 'Rmk', 'Cin', 'Pax', 'Mat', 'Acft', 'Aero.1', '#Rot', 'Cabecera',\n",
              "       'año', 'mes', 'hora'],\n",
              "      dtype='object')"
            ]
          },
          "metadata": {},
          "execution_count": 10
        }
      ],
      "source": [
        "serie1=['Asignar','CShare','SUG','Vip','L&F','Obs.','Via']\n",
        "df_Vuelos=df_Vuelos.drop(labels=serie1, axis=1)# Borrando las columnas en series1\n",
        "df_Vuelos.columns"
      ]
    },
    {
      "cell_type": "code",
      "source": [
        "df_Vuelos.dropna(subset=['Cabecera'] , inplace=True) # Se borran porque son vuelos que no operaron en AEP\n",
        "df_Vuelos.dropna(subset=['ATA'] , inplace=True) # Se borran porque son vuelos que no operaron en AEP"
      ],
      "metadata": {
        "id": "UNhdMJRUWLVa"
      },
      "execution_count": 11,
      "outputs": []
    },
    {
      "cell_type": "code",
      "execution_count": 12,
      "metadata": {
        "id": "vhseWMb34HWk"
      },
      "outputs": [],
      "source": [
        "df_Vuelos['ETA']=df_Vuelos['ETA'].fillna(df_Vuelos['STA'])\n",
        "#df_Vuelos['ATA']=df_Vuelos['ATA'].fillna(df_Vuelos['STA'])"
      ]
    },
    {
      "cell_type": "code",
      "execution_count": 13,
      "metadata": {
        "id": "FPsOEGKLI32f"
      },
      "outputs": [],
      "source": [
        "df_Vuelos['Pax'].fillna('0', inplace=True)  #Los vuelos CAN o ALT no tienen Pasajeros ya que no operaron en AEP\n",
        "df_Vuelos['Pos'].fillna('0', inplace=True)  #Los vuelos CAN o ALT no tienen Posición ya que no operaron en AEP\n",
        "#df_Vuelos['Cabecera'].fillna('0', inplace=True)  #Los vuelos CAN o ALT no tienen Cabecera ya que no operaron en AEP\n",
        "df_Vuelos['Cin'].fillna('0', inplace=True)  #Los vuelos CAN o ALT no tienen Cinta de Arribo ya que no operaron en AEP\n",
        "df_Vuelos['Mat'].fillna('N/A', inplace=True)  #Los vuelos CAN o ALT no tienen matrícula ya que no operaron en AEP\n",
        "df_Vuelos['Aero.1'].fillna('N/A', inplace=True)  #Los vuelos CAN o ALT no tienen cia asociada a la partida ya que no operaron en AEP\n",
        "df_Vuelos['#Rot'].fillna('N/A', inplace=True)  #Los vuelos CAN o ALT no tienen vuelo asicuado a la partida ya que no operaron en AEP\n",
        "df_Vuelos['Ter'].fillna('N/A', inplace=True) \n",
        "df_Vuelos['Sec'].fillna('N/A', inplace=True) "
      ]
    },
    {
      "cell_type": "code",
      "execution_count": 14,
      "metadata": {
        "colab": {
          "base_uri": "https://localhost:8080/"
        },
        "id": "32BnMpholuvz",
        "outputId": "3c12878b-effe-4516-a0b0-6292b1ffc9a1"
      },
      "outputs": [
        {
          "output_type": "execute_result",
          "data": {
            "text/plain": [
              "0"
            ]
          },
          "metadata": {},
          "execution_count": 14
        }
      ],
      "source": [
        "df_Vuelos.isna().sum().max()# Verifico que no me quedan valores nulos"
      ]
    },
    {
      "cell_type": "code",
      "execution_count": 15,
      "metadata": {
        "colab": {
          "base_uri": "https://localhost:8080/"
        },
        "id": "RyUdhf6CFwvi",
        "outputId": "ba9f1eb9-2c57-46cd-972b-49afeaea01c0"
      },
      "outputs": [
        {
          "output_type": "execute_result",
          "data": {
            "text/plain": [
              "Aero         object\n",
              "#Vuelo       object\n",
              "Origen       object\n",
              "STA          object\n",
              "ETA          object\n",
              "ATA          object\n",
              "Tipo         object\n",
              "Pos          object\n",
              "Ter          object\n",
              "Sec          object\n",
              "Rmk          object\n",
              "Cin          object\n",
              "Pax          object\n",
              "Mat          object\n",
              "Acft         object\n",
              "Aero.1       object\n",
              "#Rot         object\n",
              "Cabecera    float64\n",
              "año           int64\n",
              "mes           int64\n",
              "hora          int64\n",
              "dtype: object"
            ]
          },
          "metadata": {},
          "execution_count": 15
        }
      ],
      "source": [
        "df_Vuelos.dtypes"
      ]
    },
    {
      "cell_type": "code",
      "execution_count": 16,
      "metadata": {
        "id": "8f5hdhruCL7O"
      },
      "outputs": [],
      "source": [
        "# Corrijo tipos de datos que necesito para analizar\n",
        "df_Vuelos.STA = pd.to_datetime(df_Vuelos.STA,dayfirst=True)\n",
        "df_Vuelos.ETA = pd.to_datetime(df_Vuelos.ETA)\n",
        "df_Vuelos.ATA = pd.to_datetime(df_Vuelos.ATA,dayfirst=True)\n",
        "df_Vuelos.Pax = pd.to_numeric(df_Vuelos.Pax)"
      ]
    },
    {
      "cell_type": "code",
      "execution_count": 17,
      "metadata": {
        "colab": {
          "base_uri": "https://localhost:8080/"
        },
        "id": "nToEmlpECRvi",
        "outputId": "2c8d243b-1669-41d2-94d6-ee0a350d27b7"
      },
      "outputs": [
        {
          "output_type": "execute_result",
          "data": {
            "text/plain": [
              "Aero                object\n",
              "#Vuelo              object\n",
              "Origen              object\n",
              "STA         datetime64[ns]\n",
              "ETA         datetime64[ns]\n",
              "ATA         datetime64[ns]\n",
              "Tipo                object\n",
              "Pos                 object\n",
              "Ter                 object\n",
              "Sec                 object\n",
              "Rmk                 object\n",
              "Cin                 object\n",
              "Pax                float64\n",
              "Mat                 object\n",
              "Acft                object\n",
              "Aero.1              object\n",
              "#Rot                object\n",
              "Cabecera           float64\n",
              "año                  int64\n",
              "mes                  int64\n",
              "hora                 int64\n",
              "dtype: object"
            ]
          },
          "metadata": {},
          "execution_count": 17
        }
      ],
      "source": [
        "df_Vuelos.dtypes # Verifico los cambios realizados"
      ]
    },
    {
      "cell_type": "markdown",
      "metadata": {
        "id": "SriMD1y0GcbP"
      },
      "source": [
        "\n",
        "### Evolución de cantidad de Vuelos por mes ✈"
      ]
    },
    {
      "cell_type": "code",
      "execution_count": 18,
      "metadata": {
        "colab": {
          "base_uri": "https://localhost:8080/",
          "height": 307
        },
        "id": "7QR3YgPuGZBH",
        "outputId": "3b927857-ac87-4b79-dcdc-17c7e9a5960c"
      },
      "outputs": [
        {
          "output_type": "display_data",
          "data": {
            "text/plain": [
              "<Figure size 432x288 with 1 Axes>"
            ],
            "image/png": "[encoded data removed]"
          },
          "metadata": {
            "needs_background": "light"
          }
        }
      ],
      "source": [
        "Arribos_mensuales =df_Vuelos.groupby(df_Vuelos['ATA'].dt.to_period('M')).size() \n",
        "Arribos_mensuales.plot.line()\n",
        "plt.title('Total Arribos por mes')\n",
        "plt.xlabel('Date')\n",
        "plt.ylabel('Cantidad Arribos')\n",
        "plt.show()"
      ]
    },
    {
      "cell_type": "code",
      "execution_count": 19,
      "metadata": {
        "colab": {
          "base_uri": "https://localhost:8080/",
          "height": 896
        },
        "id": "5x-MFsJDLvWQ",
        "outputId": "ffe0d715-56b6-4faa-cbc4-c8ed8b35afe4"
      },
      "outputs": [
        {
          "output_type": "execute_result",
          "data": {
            "text/plain": [
              "         count  mes\n",
              "ATA                \n",
              "2019-01   5621    1\n",
              "2019-02   4945    2\n",
              "2019-03   5308    3\n",
              "2019-04   4215    4\n",
              "2019-05   4377    5\n",
              "2019-06   4111    6\n",
              "2019-07   4911    7\n",
              "2020-01   4260    1\n",
              "2020-02   3856    2\n",
              "2020-03   2507    3\n",
              "2020-04    101    4\n",
              "2020-05    146    5\n",
              "2020-06    227    6\n",
              "2020-07    149    7\n",
              "2021-03    846    3\n",
              "2021-04   1892    4\n",
              "2021-05   1288    5\n",
              "2021-06   1029    6\n",
              "2021-07   1888    7\n",
              "2022-01   3601    1\n",
              "2022-02   3499    2\n",
              "2022-03   3978    3\n",
              "2022-04   4154    4\n",
              "2022-05   4162    5\n",
              "2022-06   4046    6\n",
              "2022-07   4395    7"
            ],
            "text/html": [
              "\n",
              "  <div id=\"df-3127054e-1aba-462c-bfcd-52aff61ff5ce\">\n",
              "    <div class=\"colab-df-container\">\n",
              "      <div>\n",
              "<style scoped>\n",
              "    .dataframe tbody tr th:only-of-type {\n",
              "        vertical-align: middle;\n",
              "    }\n",
              "\n",
              "    .dataframe tbody tr th {\n",
              "        vertical-align: top;\n",
              "    }\n",
              "\n",
              "    .dataframe thead th {\n",
              "        text-align: right;\n",
              "    }\n",
              "</style>\n",
              "<table border=\"1\" class=\"dataframe\">\n",
              "  <thead>\n",
              "    <tr style=\"text-align: right;\">\n",
              "      <th></th>\n",
              "      <th>count</th>\n",
              "      <th>mes</th>\n",
              "    </tr>\n",
              "    <tr>\n",
              "      <th>ATA</th>\n",
              "      <th></th>\n",
              "      <th></th>\n",
              "    </tr>\n",
              "  </thead>\n",
              "  <tbody>\n",
              "    <tr>\n",
              "      <th>2019-01</th>\n",
              "      <td>5621</td>\n",
              "      <td>1</td>\n",
              "    </tr>\n",
              "    <tr>\n",
              "      <th>2019-02</th>\n",
              "      <td>4945</td>\n",
              "      <td>2</td>\n",
              "    </tr>\n",
              "    <tr>\n",
              "      <th>2019-03</th>\n",
              "      <td>5308</td>\n",
              "      <td>3</td>\n",
              "    </tr>\n",
              "    <tr>\n",
              "      <th>2019-04</th>\n",
              "      <td>4215</td>\n",
              "      <td>4</td>\n",
              "    </tr>\n",
              "    <tr>\n",
              "      <th>2019-05</th>\n",
              "      <td>4377</td>\n",
              "      <td>5</td>\n",
              "    </tr>\n",
              "    <tr>\n",
              "      <th>2019-06</th>\n",
              "      <td>4111</td>\n",
              "      <td>6</td>\n",
              "    </tr>\n",
              "    <tr>\n",
              "      <th>2019-07</th>\n",
              "      <td>4911</td>\n",
              "      <td>7</td>\n",
              "    </tr>\n",
              "    <tr>\n",
              "      <th>2020-01</th>\n",
              "      <td>4260</td>\n",
              "      <td>1</td>\n",
              "    </tr>\n",
              "    <tr>\n",
              "      <th>2020-02</th>\n",
              "      <td>3856</td>\n",
              "      <td>2</td>\n",
              "    </tr>\n",
              "    <tr>\n",
              "      <th>2020-03</th>\n",
              "      <td>2507</td>\n",
              "      <td>3</td>\n",
              "    </tr>\n",
              "    <tr>\n",
              "      <th>2020-04</th>\n",
              "      <td>101</td>\n",
              "      <td>4</td>\n",
              "    </tr>\n",
              "    <tr>\n",
              "      <th>2020-05</th>\n",
              "      <td>146</td>\n",
              "      <td>5</td>\n",
              "    </tr>\n",
              "    <tr>\n",
              "      <th>2020-06</th>\n",
              "      <td>227</td>\n",
              "      <td>6</td>\n",
              "    </tr>\n",
              "    <tr>\n",
              "      <th>2020-07</th>\n",
              "      <td>149</td>\n",
              "      <td>7</td>\n",
              "    </tr>\n",
              "    <tr>\n",
              "      <th>2021-03</th>\n",
              "      <td>846</td>\n",
              "      <td>3</td>\n",
              "    </tr>\n",
              "    <tr>\n",
              "      <th>2021-04</th>\n",
              "      <td>1892</td>\n",
              "      <td>4</td>\n",
              "    </tr>\n",
              "    <tr>\n",
              "      <th>2021-05</th>\n",
              "      <td>1288</td>\n",
              "      <td>5</td>\n",
              "    </tr>\n",
              "    <tr>\n",
              "      <th>2021-06</th>\n",
              "      <td>1029</td>\n",
              "      <td>6</td>\n",
              "    </tr>\n",
              "    <tr>\n",
              "      <th>2021-07</th>\n",
              "      <td>1888</td>\n",
              "      <td>7</td>\n",
              "    </tr>\n",
              "    <tr>\n",
              "      <th>2022-01</th>\n",
              "      <td>3601</td>\n",
              "      <td>1</td>\n",
              "    </tr>\n",
              "    <tr>\n",
              "      <th>2022-02</th>\n",
              "      <td>3499</td>\n",
              "      <td>2</td>\n",
              "    </tr>\n",
              "    <tr>\n",
              "      <th>2022-03</th>\n",
              "      <td>3978</td>\n",
              "      <td>3</td>\n",
              "    </tr>\n",
              "    <tr>\n",
              "      <th>2022-04</th>\n",
              "      <td>4154</td>\n",
              "      <td>4</td>\n",
              "    </tr>\n",
              "    <tr>\n",
              "      <th>2022-05</th>\n",
              "      <td>4162</td>\n",
              "      <td>5</td>\n",
              "    </tr>\n",
              "    <tr>\n",
              "      <th>2022-06</th>\n",
              "      <td>4046</td>\n",
              "      <td>6</td>\n",
              "    </tr>\n",
              "    <tr>\n",
              "      <th>2022-07</th>\n",
              "      <td>4395</td>\n",
              "      <td>7</td>\n",
              "    </tr>\n",
              "  </tbody>\n",
              "</table>\n",
              "</div>\n",
              "      <button class=\"colab-df-convert\" onclick=\"convertToInteractive('df-3127054e-1aba-462c-bfcd-52aff61ff5ce')\"\n",
              "              title=\"Convert this dataframe to an interactive table.\"\n",
              "              style=\"display:none;\">\n",
              "        \n",
              "  <svg xmlns=\"http://www.w3.org/2000/svg\" height=\"24px\"viewBox=\"0 0 24 24\"\n",
              "       width=\"24px\">\n",
              "    <path d=\"M0 0h24v24H0V0z\" fill=\"none\"/>\n",
              "    <path d=\"M18.56 5.44l.94 2.06.94-2.06 2.06-.94-2.06-.94-.94-2.06-.94 2.06-2.06.94zm-11 1L8.5 8.5l.94-2.06 2.06-.94-2.06-.94L8.5 2.5l-.94 2.06-2.06.94zm10 10l.94 2.06.94-2.06 2.06-.94-2.06-.94-.94-2.06-.94 2.06-2.06.94z\"/><path d=\"M17.41 7.96l-1.37-1.37c-.4-.4-.92-.59-1.43-.59-.52 0-1.04.2-1.43.59L10.3 9.45l-7.72 7.72c-.78.78-.78 2.05 0 2.83L4 21.41c.39.39.9.59 1.41.59.51 0 1.02-.2 1.41-.59l7.78-7.78 2.81-2.81c.8-.78.8-2.07 0-2.86zM5.41 20L4 18.59l7.72-7.72 1.47 1.35L5.41 20z\"/>\n",
              "  </svg>\n",
              "      </button>\n",
              "      \n",
              "  <style>\n",
              "    .colab-df-container {\n",
              "      display:flex;\n",
              "      flex-wrap:wrap;\n",
              "      gap: 12px;\n",
              "    }\n",
              "\n",
              "    .colab-df-convert {\n",
              "      background-color: #E8F0FE;\n",
              "      border: none;\n",
              "      border-radius: 50%;\n",
              "      cursor: pointer;\n",
              "      display: none;\n",
              "      fill: #1967D2;\n",
              "      height: 32px;\n",
              "      padding: 0 0 0 0;\n",
              "      width: 32px;\n",
              "    }\n",
              "\n",
              "    .colab-df-convert:hover {\n",
              "      background-color: #E2EBFA;\n",
              "      box-shadow: 0px 1px 2px rgba(60, 64, 67, 0.3), 0px 1px 3px 1px rgba(60, 64, 67, 0.15);\n",
              "      fill: #174EA6;\n",
              "    }\n",
              "\n",
              "    [theme=dark] .colab-df-convert {\n",
              "      background-color: #3B4455;\n",
              "      fill: #D2E3FC;\n",
              "    }\n",
              "\n",
              "    [theme=dark] .colab-df-convert:hover {\n",
              "      background-color: #434B5C;\n",
              "      box-shadow: 0px 1px 3px 1px rgba(0, 0, 0, 0.15);\n",
              "      filter: drop-shadow(0px 1px 2px rgba(0, 0, 0, 0.3));\n",
              "      fill: #FFFFFF;\n",
              "    }\n",
              "  </style>\n",
              "\n",
              "      <script>\n",
              "        const buttonEl =\n",
              "          document.querySelector('#df-3127054e-1aba-462c-bfcd-52aff61ff5ce button.colab-df-convert');\n",
              "        buttonEl.style.display =\n",
              "          google.colab.kernel.accessAllowed ? 'block' : 'none';\n",
              "\n",
              "        async function convertToInteractive(key) {\n",
              "          const element = document.querySelector('#df-3127054e-1aba-462c-bfcd-52aff61ff5ce');\n",
              "          const dataTable =\n",
              "            await google.colab.kernel.invokeFunction('convertToInteractive',\n",
              "                                                     [key], {});\n",
              "          if (!dataTable) return;\n",
              "\n",
              "          const docLinkHtml = 'Like what you see? Visit the ' +\n",
              "            '<a target=\"_blank\" href=https://colab.research.google.com/notebooks/data_table.ipynb>data table notebook</a>'\n",
              "            + ' to learn more about interactive tables.';\n",
              "          element.innerHTML = '';\n",
              "          dataTable['output_type'] = 'display_data';\n",
              "          await google.colab.output.renderOutput(dataTable, element);\n",
              "          const docLink = document.createElement('div');\n",
              "          docLink.innerHTML = docLinkHtml;\n",
              "          element.appendChild(docLink);\n",
              "        }\n",
              "      </script>\n",
              "    </div>\n",
              "  </div>\n",
              "  "
            ]
          },
          "metadata": {},
          "execution_count": 19
        }
      ],
      "source": [
        "df_Vuelos_2=df_Vuelos[df_Vuelos['ATA'].dt.month<=7]\n",
        "df_Resumen=pd.DataFrame(df_Vuelos_2.groupby(df_Vuelos_2['ATA'].dt.to_period('M')).size()) #conteo de vuelos para cada mes\n",
        "df_Resumen.rename(columns={0:'count'},inplace=True) #cambiando nombre columna\n",
        "df_Resumen['mes']=df_Resumen.index.month #creando una columna donde este solo el mes\n",
        "df_Resumen"
      ]
    },
    {
      "cell_type": "code",
      "execution_count": 20,
      "metadata": {
        "id": "z1NR5Xs4Mngm"
      },
      "outputs": [],
      "source": [
        "year_2019=df_Resumen.loc[df_Resumen.index.year==2019,['count','mes']].set_index(\"mes\")\n",
        "year_2020=df_Resumen.loc[df_Resumen.index.year==2020,['count','mes']].set_index(\"mes\")\n",
        "year_2021=df_Resumen.loc[df_Resumen.index.year==2021,['count','mes']].set_index(\"mes\")\n",
        "year_2022=df_Resumen.loc[df_Resumen.index.year==2022,['count','mes']].set_index(\"mes\")\n",
        "\n"
      ]
    },
    {
      "cell_type": "code",
      "execution_count": 21,
      "metadata": {
        "colab": {
          "base_uri": "https://localhost:8080/",
          "height": 449
        },
        "id": "DjRhnFbmNIAO",
        "outputId": "71277233-6ee4-4859-81c8-e00bdb0877ef"
      },
      "outputs": [
        {
          "output_type": "display_data",
          "data": {
            "text/plain": [
              "<Figure size 750x450 with 1 Axes>"
            ],
            "image/png": "[encoded data removed]"
          },
          "metadata": {
            "needs_background": "light"
          }
        }
      ],
      "source": [
        "plt.figure(figsize=(5, 3), dpi=150)\n",
        "  \n",
        "\n",
        "year_2019['count'].plot(label='2019', color='orange')\n",
        "year_2020['count'].plot(label='2020')\n",
        "year_2021['count'].plot(label='2021')\n",
        "year_2022['count'].plot(label='2022')\n",
        "  \n",
        "plt.xlabel('meses')\n",
        "plt.ylabel('Cantidad de Arribos')\n",
        "plt.legend()\n",
        "plt.show()"
      ]
    },
    {
      "cell_type": "markdown",
      "metadata": {
        "id": "UrpCjyXDYXLc"
      },
      "source": [
        "Conclusiones preliminares:\n",
        "* La cantidad de vuelos recibidos en el aeropuerto en 2022 aún no superó la de 2019 previo a la pandemia, de forma que **todavía hay capacidad de recursos operativos**\n",
        "* La **tendencia en 2022 es creciente**, por lo que es necesario anticiparse a la saturación de recursos\n",
        "* Debido a la pandemia, los años 2020 y 2021 no cuentan con una cantidad de datos suficiente como para analizarlos, por eso se tratará de comparar 2019 y 2022 hasta julio (que es hasta cuando se dispone de datos)"
      ]
    },
    {
      "cell_type": "markdown",
      "metadata": {
        "id": "LJQTZ39EO-4E"
      },
      "source": [
        "### Evolución de cantidad de Pasajeros 2019 🚻"
      ]
    },
    {
      "cell_type": "code",
      "execution_count": 22,
      "metadata": {
        "colab": {
          "base_uri": "https://localhost:8080/",
          "height": 295
        },
        "id": "J42FaxM-PD9V",
        "outputId": "8283eade-46db-4d02-c5b5-0b0cfea897a3"
      },
      "outputs": [
        {
          "output_type": "display_data",
          "data": {
            "text/plain": [
              "<Figure size 432x288 with 1 Axes>"
            ],
            "image/png": "[encoded data removed]"
          },
          "metadata": {
            "needs_background": "light"
          }
        }
      ],
      "source": [
        "df_Vuelos_4=df_Vuelos[df_Vuelos['ATA'].dt.year ==2019]\n",
        "df_Vuelos_4.dtypes\n",
        "Pasajeros_mensuales1 = df_Vuelos_4.groupby(\"mes\")[\"Pax\"].sum()/1000\n",
        "Pasajeros_mensuales1.plot.line()\n",
        "plt.title('Total Pasajeros por mes (miles)')\n",
        "plt.xlabel('Mes')\n",
        "plt.ylabel('Cantidad Pasajeros')\n",
        "plt.ylim(300,650)\n",
        "\n",
        "plt.show()\n"
      ]
    },
    {
      "cell_type": "markdown",
      "source": [
        "Podemos observar dos picos en la cantidad de pasajeros coincidentes con los períodos de vacaciones de verano (Enero-Marzo) y vacaciones de invierno (Julio-Agosto)"
      ],
      "metadata": {
        "id": "fun30Lvw2esD"
      }
    },
    {
      "cell_type": "code",
      "execution_count": 23,
      "metadata": {
        "colab": {
          "base_uri": "https://localhost:8080/",
          "height": 279
        },
        "id": "BKT14gU3YS7c",
        "outputId": "0a4c3f94-d166-47ac-a29a-1f7cd1735bbb"
      },
      "outputs": [
        {
          "output_type": "display_data",
          "data": {
            "text/plain": [
              "<Figure size 432x288 with 1 Axes>"
            ],
            "image/png": "[encoded data removed]"
          },
          "metadata": {
            "needs_background": "light"
          }
        }
      ],
      "source": [
        "sns.boxplot(data=df_Vuelos_4,x=\"mes\", y=\"Pax\")\n",
        "plt.show()"
      ]
    },
    {
      "cell_type": "markdown",
      "source": [
        "La distribución de pasajeros por vuelo es bastante similar entre diferentes meses. En los meses de verano (Enero-Marzo) cuando es el pico de cantidad de pasajeros se observa un poco más de variabilidad (curva más aplanada, bigote más largo) pero la mediana es similar a otros meses.\n",
        "\n",
        "Se puede inferir que no hay una tendencia de vuelos \"más llenos\" o \"más vacíos\" según la época del año."
      ],
      "metadata": {
        "id": "ipCZDb1a9iw4"
      }
    },
    {
      "cell_type": "code",
      "execution_count": 24,
      "metadata": {
        "colab": {
          "base_uri": "https://localhost:8080/",
          "height": 298
        },
        "id": "Eny2PcieYcSV",
        "outputId": "4bf7e8ff-8cf1-4673-9dc6-9859270da47c"
      },
      "outputs": [
        {
          "output_type": "display_data",
          "data": {
            "text/plain": [
              "<Figure size 432x288 with 1 Axes>"
            ],
            "image/png": "[encoded data removed]"
          },
          "metadata": {
            "needs_background": "light"
          }
        }
      ],
      "source": [
        "Pasajeros_Hora = df_Vuelos_4.groupby(\"hora\")[\"Pax\"].mean().round()\n",
        "Pasajeros_Hora.plot.bar()\n",
        "plt.title('Promedio Pasajeros por hora')\n",
        "plt.xlabel('Hora')\n",
        "plt.ylabel('Cantidad promedio de Pasajeros')\n",
        "plt.ylim(60,130)\n",
        "\n",
        "plt.show()"
      ]
    },
    {
      "cell_type": "code",
      "execution_count": 25,
      "metadata": {
        "colab": {
          "base_uri": "https://localhost:8080/",
          "height": 279
        },
        "id": "2HbkBIpXY1nv",
        "outputId": "6deebc19-f567-478f-8912-fb189aab146e"
      },
      "outputs": [
        {
          "output_type": "display_data",
          "data": {
            "text/plain": [
              "<Figure size 432x288 with 1 Axes>"
            ],
            "image/png": "[encoded data removed]"
          },
          "metadata": {
            "needs_background": "light"
          }
        }
      ],
      "source": [
        "sns.boxplot(data=df_Vuelos_4,x=\"hora\", y=\"Pax\")\n",
        "plt.show()"
      ]
    },
    {
      "cell_type": "markdown",
      "metadata": {
        "id": "aDQEmpo_SlMx"
      },
      "source": [
        "### Uso de Cabecera durante año 2019 🚦"
      ]
    },
    {
      "cell_type": "markdown",
      "source": [
        "Cada pista de aterrizaje tiene 2 cabeceras, según el sentido en la que es utilizada. Dado que el aeroparque en estudio tiene sólo 1 pista, analizaremos la distribución de uso de 2 cabeceras."
      ],
      "metadata": {
        "id": "7ZUr6y6cAiTc"
      }
    },
    {
      "cell_type": "code",
      "execution_count": 26,
      "metadata": {
        "colab": {
          "base_uri": "https://localhost:8080/",
          "height": 307
        },
        "id": "DGY3tvDwVQIa",
        "outputId": "7fb0c83c-bcf0-4bbb-e1ff-bfe260d93106"
      },
      "outputs": [
        {
          "output_type": "display_data",
          "data": {
            "text/plain": [
              "<Figure size 432x288 with 1 Axes>"
            ],
            "image/png": "[encoded data removed]"
          },
          "metadata": {
            "needs_background": "light"
          }
        }
      ],
      "source": [
        "df_Vuelos_Cabecera=df_Vuelos[df_Vuelos['ATA'].dt.year ==2019]\n",
        "Cabecera = df_Vuelos_Cabecera.groupby(\"Cabecera\")[\"mes\"].size()\n",
        "Cabecera.plot.bar()\n",
        "plt.title('Total Arribos')\n",
        "plt.xlabel('Cabecera')\n",
        "plt.ylabel('Uso de Cabecera')\n",
        "\n",
        "\n",
        "\n",
        "plt.show()"
      ]
    },
    {
      "cell_type": "code",
      "execution_count": 27,
      "metadata": {
        "colab": {
          "base_uri": "https://localhost:8080/",
          "height": 279
        },
        "id": "fTvcmFr3Zi8d",
        "outputId": "f1299238-11cc-4ab0-a21b-415d5f6db83f"
      },
      "outputs": [
        {
          "output_type": "display_data",
          "data": {
            "text/plain": [
              "<Figure size 432x288 with 1 Axes>"
            ],
            "image/png": "[encoded data removed]"
          },
          "metadata": {
            "needs_background": "light"
          }
        }
      ],
      "source": [
        "sns.histplot(data=df_Vuelos_Cabecera, \n",
        "             x=\"mes\", \n",
        "             hue=\"Cabecera\",\n",
        "             multiple=\"stack\",\n",
        "             palette=\"pastel\" \n",
        "             )\n",
        "plt.show()"
      ]
    },
    {
      "cell_type": "markdown",
      "source": [
        "Observamos un marcado uso de la cabecera 13 respecto a la 31. Habría que indagar si hay cuestiones técnicas que influyan en esta tendencia como factores climáticos (ejemplo: orientación de vientos predominantes) o si efectivamente existe una capacidad ociosa en la cabecera 31 que es posible aprovechar."
      ],
      "metadata": {
        "id": "A27bOeITPg8k"
      }
    },
    {
      "cell_type": "markdown",
      "metadata": {
        "id": "KNrKajlsZM9D"
      },
      "source": [
        "### Distribución de vuelos por Hora 🕐"
      ]
    },
    {
      "cell_type": "code",
      "execution_count": 28,
      "metadata": {
        "colab": {
          "base_uri": "https://localhost:8080/",
          "height": 295
        },
        "id": "0QbxvKtqZF70",
        "outputId": "5dfca587-91e2-420a-f5ab-5b9313aee19e"
      },
      "outputs": [
        {
          "output_type": "display_data",
          "data": {
            "text/plain": [
              "<Figure size 432x288 with 1 Axes>"
            ],
            "image/png": "[encoded data removed]"
          },
          "metadata": {
            "needs_background": "light"
          }
        }
      ],
      "source": [
        "df_Vuelos['HOUR'] = df_Vuelos['ATA'].dt.hour #extrae la hora\n",
        "arribos_por_dia =df_Vuelos.groupby('HOUR').size()\n",
        "plt.bar(arribos_por_dia.index,arribos_por_dia.values)\n",
        "plt.title('Distribución de arribos por hora')\n",
        "plt.xlabel('Hora')\n",
        "plt.ylabel('Total de Arribos')\n",
        "plt.show()"
      ]
    },
    {
      "cell_type": "code",
      "execution_count": 29,
      "metadata": {
        "colab": {
          "base_uri": "https://localhost:8080/",
          "height": 279
        },
        "id": "6RWyIMpGaBzR",
        "outputId": "0a88a96d-3957-4792-a53a-c2117a81b109"
      },
      "outputs": [
        {
          "output_type": "display_data",
          "data": {
            "text/plain": [
              "<Figure size 432x288 with 1 Axes>"
            ],
            "image/png": "[encoded data removed]"
          },
          "metadata": {
            "needs_background": "light"
          }
        }
      ],
      "source": [
        "sns.histplot(data=df_Vuelos, \n",
        "             x=\"hora\", \n",
        "             hue=\"Cabecera\",\n",
        "             stat = \"count\",\n",
        "             multiple=\"stack\",\n",
        "             palette=\"pastel\"\n",
        "             )\n",
        "plt.show()"
      ]
    },
    {
      "cell_type": "markdown",
      "source": [
        "Se puede observar una gran **capacidad ociosa en turnos de madrugada**, que se va saturando y estabilizando en horarios centrales a lo largo del día."
      ],
      "metadata": {
        "id": "zZ_WSC1tQe22"
      }
    },
    {
      "cell_type": "markdown",
      "metadata": {
        "id": "Eb4eZo7OaARx"
      },
      "source": [
        "### Frecuencia diaria de arribos 📅"
      ]
    },
    {
      "cell_type": "code",
      "execution_count": 30,
      "metadata": {
        "colab": {
          "base_uri": "https://localhost:8080/",
          "height": 279
        },
        "id": "mtHKlgC3ev6t",
        "outputId": "c4dd84f9-2cef-4b0e-991e-744a323d1a63"
      },
      "outputs": [
        {
          "output_type": "display_data",
          "data": {
            "text/plain": [
              "<Figure size 432x288 with 1 Axes>"
            ],
            "image/png": "[encoded data removed]"
          },
          "metadata": {
            "needs_background": "light"
          }
        }
      ],
      "source": [
        "df_Vuelos['WEEKDAY'] = df_Vuelos['ATA'].dt.weekday # Extrae el dia de la semana, con Lunes=0 y Domingo=6\n",
        "sns.histplot(data=df_Vuelos[df_Vuelos['ATA'].dt.year==2019], \n",
        "             x=\"WEEKDAY\", \n",
        "             hue=\"Cabecera\",\n",
        "             stat = \"count\",\n",
        "             multiple=\"stack\",\n",
        "             palette=\"pastel\"\n",
        "             )\n",
        "plt.show()"
      ]
    },
    {
      "cell_type": "markdown",
      "source": [
        "Respecto a la utilización de recursos a lo largo de la semana **no se observan mayores cambios entre días**, siendo bastante estable la ocupación y la proporción de uso de Cabeceras."
      ],
      "metadata": {
        "id": "yEkTSamzRXc0"
      }
    },
    {
      "cell_type": "markdown",
      "metadata": {
        "id": "aH5Y2ekpz-LE"
      },
      "source": [
        "### Histograma de Empresas Aéreas ®\n",
        "\n"
      ]
    },
    {
      "cell_type": "code",
      "execution_count": 31,
      "metadata": {
        "colab": {
          "base_uri": "https://localhost:8080/",
          "height": 412
        },
        "id": "s8pLlAQH0Pxc",
        "outputId": "9eb30a74-aaf8-4cec-9a9b-7cecf944b5a4"
      },
      "outputs": [
        {
          "output_type": "display_data",
          "data": {
            "text/plain": [
              "<Figure size 720x432 with 1 Axes>"
            ],
            "image/png": "[encoded data removed]"
          },
          "metadata": {
            "needs_background": "light"
          }
        }
      ],
      "source": [
        "plt.figure(figsize=(10,6))\n",
        "sns.histplot(df_Vuelos['Aero'], bins = 5)\n",
        "plt.title('Distribución de empresas aéreas', fontsize = 16)\n",
        "plt.xlabel('Empresas Aéreas', fontsize = 14)\n",
        "plt.ylabel('Cantidad de operaciones', fontsize = 14)\n",
        "\n",
        "plt.show()"
      ]
    },
    {
      "cell_type": "markdown",
      "metadata": {
        "id": "YEojjWYbjivT"
      },
      "source": [
        "### Diferencias de horario de Arribo (retrasos) ⏰"
      ]
    },
    {
      "cell_type": "markdown",
      "source": [
        "  Se desea analizar si hubo retrasos o demoras en la llegada de los vuelos. Para ello se comparan el horario estimado de arribo (STA = Scheduled Time Arrival) con el horario real de arribo (ATA = Actual Time Arrival) y se determina el tiempo de demora en minutos."
      ],
      "metadata": {
        "id": "Wk5_lPPq2pDj"
      }
    },
    {
      "cell_type": "code",
      "execution_count": 32,
      "metadata": {
        "colab": {
          "base_uri": "https://localhost:8080/",
          "height": 423
        },
        "id": "Qpyr6Nr0ARPT",
        "outputId": "5af9b2ce-9f7f-4d01-8a0b-789743250d0d"
      },
      "outputs": [
        {
          "output_type": "execute_result",
          "data": {
            "text/plain": [
              "        Delayed                 ATA                 STA           Convert  \\\n",
              "0             0 2019-01-01 01:22:00 2019-01-01 01:50:00 -1 days +23:32:00   \n",
              "1             0 2019-01-01 06:02:00 2019-01-01 06:17:00 -1 days +23:45:00   \n",
              "2             0 2019-01-01 07:30:00 2019-01-01 07:37:00 -1 days +23:53:00   \n",
              "3             0 2019-01-01 07:26:00 2019-01-01 07:40:00 -1 days +23:46:00   \n",
              "4             0 2019-01-01 07:43:00 2019-01-01 07:55:00 -1 days +23:48:00   \n",
              "...         ...                 ...                 ...               ...   \n",
              "127924        0 2022-09-30 22:05:00 2022-09-30 22:08:00 -1 days +23:57:00   \n",
              "127925        1 2022-09-30 22:32:00 2022-09-30 22:15:00   0 days 00:17:00   \n",
              "127926        0 2022-09-30 22:02:00 2022-09-30 22:21:00 -1 days +23:41:00   \n",
              "127927        0 2022-09-30 23:15:00 2022-09-30 23:25:00 -1 days +23:50:00   \n",
              "127928        0 2022-09-30 23:19:00 2022-09-30 23:30:00 -1 days +23:49:00   \n",
              "\n",
              "        Demora_Min  \n",
              "0            -28.0  \n",
              "1            -15.0  \n",
              "2             -7.0  \n",
              "3            -14.0  \n",
              "4            -12.0  \n",
              "...            ...  \n",
              "127924        -3.0  \n",
              "127925        17.0  \n",
              "127926       -19.0  \n",
              "127927       -10.0  \n",
              "127928       -11.0  \n",
              "\n",
              "[125582 rows x 5 columns]"
            ],
            "text/html": [
              "\n",
              "  <div id=\"df-8b59a2a9-9dc8-4ce5-9c65-50bb0e82a49f\">\n",
              "    <div class=\"colab-df-container\">\n",
              "      <div>\n",
              "<style scoped>\n",
              "    .dataframe tbody tr th:only-of-type {\n",
              "        vertical-align: middle;\n",
              "    }\n",
              "\n",
              "    .dataframe tbody tr th {\n",
              "        vertical-align: top;\n",
              "    }\n",
              "\n",
              "    .dataframe thead th {\n",
              "        text-align: right;\n",
              "    }\n",
              "</style>\n",
              "<table border=\"1\" class=\"dataframe\">\n",
              "  <thead>\n",
              "    <tr style=\"text-align: right;\">\n",
              "      <th></th>\n",
              "      <th>Delayed</th>\n",
              "      <th>ATA</th>\n",
              "      <th>STA</th>\n",
              "      <th>Convert</th>\n",
              "      <th>Demora_Min</th>\n",
              "    </tr>\n",
              "  </thead>\n",
              "  <tbody>\n",
              "    <tr>\n",
              "      <th>0</th>\n",
              "      <td>0</td>\n",
              "      <td>2019-01-01 01:22:00</td>\n",
              "      <td>2019-01-01 01:50:00</td>\n",
              "      <td>-1 days +23:32:00</td>\n",
              "      <td>-28.0</td>\n",
              "    </tr>\n",
              "    <tr>\n",
              "      <th>1</th>\n",
              "      <td>0</td>\n",
              "      <td>2019-01-01 06:02:00</td>\n",
              "      <td>2019-01-01 06:17:00</td>\n",
              "      <td>-1 days +23:45:00</td>\n",
              "      <td>-15.0</td>\n",
              "    </tr>\n",
              "    <tr>\n",
              "      <th>2</th>\n",
              "      <td>0</td>\n",
              "      <td>2019-01-01 07:30:00</td>\n",
              "      <td>2019-01-01 07:37:00</td>\n",
              "      <td>-1 days +23:53:00</td>\n",
              "      <td>-7.0</td>\n",
              "    </tr>\n",
              "    <tr>\n",
              "      <th>3</th>\n",
              "      <td>0</td>\n",
              "      <td>2019-01-01 07:26:00</td>\n",
              "      <td>2019-01-01 07:40:00</td>\n",
              "      <td>-1 days +23:46:00</td>\n",
              "      <td>-14.0</td>\n",
              "    </tr>\n",
              "    <tr>\n",
              "      <th>4</th>\n",
              "      <td>0</td>\n",
              "      <td>2019-01-01 07:43:00</td>\n",
              "      <td>2019-01-01 07:55:00</td>\n",
              "      <td>-1 days +23:48:00</td>\n",
              "      <td>-12.0</td>\n",
              "    </tr>\n",
              "    <tr>\n",
              "      <th>...</th>\n",
              "      <td>...</td>\n",
              "      <td>...</td>\n",
              "      <td>...</td>\n",
              "      <td>...</td>\n",
              "      <td>...</td>\n",
              "    </tr>\n",
              "    <tr>\n",
              "      <th>127924</th>\n",
              "      <td>0</td>\n",
              "      <td>2022-09-30 22:05:00</td>\n",
              "      <td>2022-09-30 22:08:00</td>\n",
              "      <td>-1 days +23:57:00</td>\n",
              "      <td>-3.0</td>\n",
              "    </tr>\n",
              "    <tr>\n",
              "      <th>127925</th>\n",
              "      <td>1</td>\n",
              "      <td>2022-09-30 22:32:00</td>\n",
              "      <td>2022-09-30 22:15:00</td>\n",
              "      <td>0 days 00:17:00</td>\n",
              "      <td>17.0</td>\n",
              "    </tr>\n",
              "    <tr>\n",
              "      <th>127926</th>\n",
              "      <td>0</td>\n",
              "      <td>2022-09-30 22:02:00</td>\n",
              "      <td>2022-09-30 22:21:00</td>\n",
              "      <td>-1 days +23:41:00</td>\n",
              "      <td>-19.0</td>\n",
              "    </tr>\n",
              "    <tr>\n",
              "      <th>127927</th>\n",
              "      <td>0</td>\n",
              "      <td>2022-09-30 23:15:00</td>\n",
              "      <td>2022-09-30 23:25:00</td>\n",
              "      <td>-1 days +23:50:00</td>\n",
              "      <td>-10.0</td>\n",
              "    </tr>\n",
              "    <tr>\n",
              "      <th>127928</th>\n",
              "      <td>0</td>\n",
              "      <td>2022-09-30 23:19:00</td>\n",
              "      <td>2022-09-30 23:30:00</td>\n",
              "      <td>-1 days +23:49:00</td>\n",
              "      <td>-11.0</td>\n",
              "    </tr>\n",
              "  </tbody>\n",
              "</table>\n",
              "<p>125582 rows × 5 columns</p>\n",
              "</div>\n",
              "      <button class=\"colab-df-convert\" onclick=\"convertToInteractive('df-8b59a2a9-9dc8-4ce5-9c65-50bb0e82a49f')\"\n",
              "              title=\"Convert this dataframe to an interactive table.\"\n",
              "              style=\"display:none;\">\n",
              "        \n",
              "  <svg xmlns=\"http://www.w3.org/2000/svg\" height=\"24px\"viewBox=\"0 0 24 24\"\n",
              "       width=\"24px\">\n",
              "    <path d=\"M0 0h24v24H0V0z\" fill=\"none\"/>\n",
              "    <path d=\"M18.56 5.44l.94 2.06.94-2.06 2.06-.94-2.06-.94-.94-2.06-.94 2.06-2.06.94zm-11 1L8.5 8.5l.94-2.06 2.06-.94-2.06-.94L8.5 2.5l-.94 2.06-2.06.94zm10 10l.94 2.06.94-2.06 2.06-.94-2.06-.94-.94-2.06-.94 2.06-2.06.94z\"/><path d=\"M17.41 7.96l-1.37-1.37c-.4-.4-.92-.59-1.43-.59-.52 0-1.04.2-1.43.59L10.3 9.45l-7.72 7.72c-.78.78-.78 2.05 0 2.83L4 21.41c.39.39.9.59 1.41.59.51 0 1.02-.2 1.41-.59l7.78-7.78 2.81-2.81c.8-.78.8-2.07 0-2.86zM5.41 20L4 18.59l7.72-7.72 1.47 1.35L5.41 20z\"/>\n",
              "  </svg>\n",
              "      </button>\n",
              "      \n",
              "  <style>\n",
              "    .colab-df-container {\n",
              "      display:flex;\n",
              "      flex-wrap:wrap;\n",
              "      gap: 12px;\n",
              "    }\n",
              "\n",
              "    .colab-df-convert {\n",
              "      background-color: #E8F0FE;\n",
              "      border: none;\n",
              "      border-radius: 50%;\n",
              "      cursor: pointer;\n",
              "      display: none;\n",
              "      fill: #1967D2;\n",
              "      height: 32px;\n",
              "      padding: 0 0 0 0;\n",
              "      width: 32px;\n",
              "    }\n",
              "\n",
              "    .colab-df-convert:hover {\n",
              "      background-color: #E2EBFA;\n",
              "      box-shadow: 0px 1px 2px rgba(60, 64, 67, 0.3), 0px 1px 3px 1px rgba(60, 64, 67, 0.15);\n",
              "      fill: #174EA6;\n",
              "    }\n",
              "\n",
              "    [theme=dark] .colab-df-convert {\n",
              "      background-color: #3B4455;\n",
              "      fill: #D2E3FC;\n",
              "    }\n",
              "\n",
              "    [theme=dark] .colab-df-convert:hover {\n",
              "      background-color: #434B5C;\n",
              "      box-shadow: 0px 1px 3px 1px rgba(0, 0, 0, 0.15);\n",
              "      filter: drop-shadow(0px 1px 2px rgba(0, 0, 0, 0.3));\n",
              "      fill: #FFFFFF;\n",
              "    }\n",
              "  </style>\n",
              "\n",
              "      <script>\n",
              "        const buttonEl =\n",
              "          document.querySelector('#df-8b59a2a9-9dc8-4ce5-9c65-50bb0e82a49f button.colab-df-convert');\n",
              "        buttonEl.style.display =\n",
              "          google.colab.kernel.accessAllowed ? 'block' : 'none';\n",
              "\n",
              "        async function convertToInteractive(key) {\n",
              "          const element = document.querySelector('#df-8b59a2a9-9dc8-4ce5-9c65-50bb0e82a49f');\n",
              "          const dataTable =\n",
              "            await google.colab.kernel.invokeFunction('convertToInteractive',\n",
              "                                                     [key], {});\n",
              "          if (!dataTable) return;\n",
              "\n",
              "          const docLinkHtml = 'Like what you see? Visit the ' +\n",
              "            '<a target=\"_blank\" href=https://colab.research.google.com/notebooks/data_table.ipynb>data table notebook</a>'\n",
              "            + ' to learn more about interactive tables.';\n",
              "          element.innerHTML = '';\n",
              "          dataTable['output_type'] = 'display_data';\n",
              "          await google.colab.output.renderOutput(dataTable, element);\n",
              "          const docLink = document.createElement('div');\n",
              "          docLink.innerHTML = docLinkHtml;\n",
              "          element.appendChild(docLink);\n",
              "        }\n",
              "      </script>\n",
              "    </div>\n",
              "  </div>\n",
              "  "
            ]
          },
          "metadata": {},
          "execution_count": 32
        }
      ],
      "source": [
        "df_Vuelos['Convert'] = (df_Vuelos['ATA'])-(df_Vuelos['STA']) # Devuelve un timedelta\n",
        "df_Vuelos['Demora_Min'] = df_Vuelos['Convert'].dt.seconds.div(60)+df_Vuelos['Convert'].dt.days.multiply(1440) # Convierto el timedelta en minutos\n",
        "df_Vuelos['Delayed'] = (df_Vuelos['Convert'].dt.seconds.div(60)+df_Vuelos['Convert'].dt.days.multiply(1440))>0 # Convierto el timedelta en booleano\n",
        "df_Vuelos.Delayed = pd.to_numeric(df_Vuelos.Delayed).astype(int) # Convierto el booleano en un nro entero para poder sumarlo\n",
        "df_Vuelos[['Delayed','ATA','STA','Convert','Demora_Min']] # Verifico las columnas creadas"
      ]
    },
    {
      "cell_type": "code",
      "execution_count": 33,
      "metadata": {
        "colab": {
          "base_uri": "https://localhost:8080/"
        },
        "id": "EG3pry_xxFaR",
        "outputId": "46291728-50e9-4c7b-bc14-8885ebb9ba69"
      },
      "outputs": [
        {
          "output_type": "execute_result",
          "data": {
            "text/plain": [
              "Aero                   object\n",
              "#Vuelo                 object\n",
              "Origen                 object\n",
              "STA            datetime64[ns]\n",
              "ETA            datetime64[ns]\n",
              "ATA            datetime64[ns]\n",
              "Tipo                   object\n",
              "Pos                    object\n",
              "Ter                    object\n",
              "Sec                    object\n",
              "Rmk                    object\n",
              "Cin                    object\n",
              "Pax                   float64\n",
              "Mat                    object\n",
              "Acft                   object\n",
              "Aero.1                 object\n",
              "#Rot                   object\n",
              "Cabecera              float64\n",
              "año                     int64\n",
              "mes                     int64\n",
              "hora                    int64\n",
              "HOUR                    int64\n",
              "WEEKDAY                 int64\n",
              "Convert       timedelta64[ns]\n",
              "Demora_Min            float64\n",
              "Delayed                 int64\n",
              "dtype: object"
            ]
          },
          "metadata": {},
          "execution_count": 33
        }
      ],
      "source": [
        "df_Vuelos.dtypes # Verifico si las columnas creadas tienen los tipos de dato deseados"
      ]
    },
    {
      "cell_type": "markdown",
      "source": [
        "Se analiza el comportamiento de las demoras para ver si se encuentran concentradas en algún Origen en particular."
      ],
      "metadata": {
        "id": "TR05Njdd40Nb"
      }
    },
    {
      "cell_type": "code",
      "execution_count": 34,
      "metadata": {
        "colab": {
          "base_uri": "https://localhost:8080/"
        },
        "id": "jWVcLDURLLe0",
        "outputId": "25f2ebcf-5f78-407a-f029-2c9e06e79a11"
      },
      "outputs": [
        {
          "output_type": "execute_result",
          "data": {
            "text/plain": [
              "Origen\n",
              "BRC    0.094992\n",
              "COR    0.072105\n",
              "MDZ    0.068120\n",
              "USH    0.064646\n",
              "IGR    0.064136\n",
              "         ...   \n",
              "ITO    0.000000\n",
              "IST    0.000000\n",
              "IQQ    0.000000\n",
              "IAH    0.000000\n",
              "ZRH    0.000000\n",
              "Name: Delayed, Length: 215, dtype: float64"
            ]
          },
          "metadata": {},
          "execution_count": 34
        }
      ],
      "source": [
        "(df_Vuelos.groupby('Origen')['Delayed'].sum()/df_Vuelos['Delayed'].sum()).sort_values(ascending=False)# NO me sirve verlo por aeropuerto, son muchos"
      ]
    },
    {
      "cell_type": "markdown",
      "metadata": {
        "id": "GRQU7pp4Optp"
      },
      "source": [
        "La cantidad de aerpuertos de origen es muy grande (215 orígenes distintos) y no hay ninguno en particular con demoras muy marcadas (al menos no que se aprecie fácilmente)\n",
        "\n",
        "Por este motivo se agruparán por país de origen para analizar el comportamiento"
      ]
    },
    {
      "cell_type": "markdown",
      "metadata": {
        "id": "iQjeUVg5Ija3"
      },
      "source": [
        "### Retrasos por país de origen 🌐"
      ]
    },
    {
      "cell_type": "markdown",
      "metadata": {
        "id": "f8kMsDkhWaum"
      },
      "source": [
        "####<font color='blue'>Datasets complementarios 🦾"
      ]
    },
    {
      "cell_type": "markdown",
      "metadata": {
        "id": "Zar7f_dCPKlW"
      },
      "source": [
        "<font color='green'>Se agregan otros dataset complementarios con información sobre los aeropuertos del mundo para enriquecer el análisis"
      ]
    },
    {
      "cell_type": "code",
      "execution_count": 35,
      "metadata": {
        "colab": {
          "base_uri": "https://localhost:8080/"
        },
        "id": "gtnpDuYjkJ3p",
        "outputId": "d9c7d480-f638-4045-af3b-80574f0f4830"
      },
      "outputs": [
        {
          "output_type": "stream",
          "name": "stdout",
          "text": [
            "<class 'pandas.core.frame.DataFrame'>\n",
            "Int64Index: 74758 entries, 6523 to 313629\n",
            "Data columns (total 17 columns):\n",
            " #   Column             Non-Null Count  Dtype  \n",
            "---  ------             --------------  -----  \n",
            " 0   ident              74758 non-null  object \n",
            " 1   type               74758 non-null  object \n",
            " 2   name               74758 non-null  object \n",
            " 3   latitude_deg       74758 non-null  float64\n",
            " 4   longitude_deg      74758 non-null  float64\n",
            " 5   elevation_ft       60553 non-null  float64\n",
            " 6   continent          38580 non-null  object \n",
            " 7   iso_country        74499 non-null  object \n",
            " 8   iso_region         74758 non-null  object \n",
            " 9   municipality       69762 non-null  object \n",
            " 10  scheduled_service  74758 non-null  object \n",
            " 11  gps_code           41058 non-null  object \n",
            " 12  iata_code          8869 non-null   object \n",
            " 13  local_code         32337 non-null  object \n",
            " 14  home_link          3572 non-null   object \n",
            " 15  wikipedia_link     10802 non-null  object \n",
            " 16  keywords           16565 non-null  object \n",
            "dtypes: float64(3), object(14)\n",
            "memory usage: 10.3+ MB\n"
          ]
        }
      ],
      "source": [
        "url = 'https://davidmegginson.github.io/ourairports-data/airports.csv'\n",
        "df_airports = pd.read_csv(url, index_col=0)\n",
        "df_airports.info()"
      ]
    },
    {
      "cell_type": "code",
      "execution_count": 36,
      "metadata": {
        "colab": {
          "base_uri": "https://localhost:8080/",
          "height": 316
        },
        "id": "7Ahuy_YiJAjp",
        "outputId": "95c0860b-093f-4573-e0ff-fe44cf6bdb26"
      },
      "outputs": [
        {
          "output_type": "execute_result",
          "data": {
            "text/plain": [
              "       iso_country               country continent  \\\n",
              "id                                                   \n",
              "302672          AD               Andorra        EU   \n",
              "302618          AE  United Arab Emirates        AS   \n",
              "302619          AF           Afghanistan        AS   \n",
              "302722          AG   Antigua and Barbuda       NaN   \n",
              "302723          AI              Anguilla       NaN   \n",
              "\n",
              "                                           wikipedia_link  \\\n",
              "id                                                          \n",
              "302672              https://en.wikipedia.org/wiki/Andorra   \n",
              "302618  https://en.wikipedia.org/wiki/United_Arab_Emir...   \n",
              "302619          https://en.wikipedia.org/wiki/Afghanistan   \n",
              "302722  https://en.wikipedia.org/wiki/Antigua_and_Barbuda   \n",
              "302723             https://en.wikipedia.org/wiki/Anguilla   \n",
              "\n",
              "                                      keywords  \n",
              "id                                              \n",
              "302672                       Andorran airports  \n",
              "302618  UAE,مطارات في الإمارات العربية المتحدة  \n",
              "302619                                     NaN  \n",
              "302722                       Antiguan airports  \n",
              "302723                                     NaN  "
            ],
            "text/html": [
              "\n",
              "  <div id=\"df-f600c23d-cee8-497d-a9d0-2df78533c1b7\">\n",
              "    <div class=\"colab-df-container\">\n",
              "      <div>\n",
              "<style scoped>\n",
              "    .dataframe tbody tr th:only-of-type {\n",
              "        vertical-align: middle;\n",
              "    }\n",
              "\n",
              "    .dataframe tbody tr th {\n",
              "        vertical-align: top;\n",
              "    }\n",
              "\n",
              "    .dataframe thead th {\n",
              "        text-align: right;\n",
              "    }\n",
              "</style>\n",
              "<table border=\"1\" class=\"dataframe\">\n",
              "  <thead>\n",
              "    <tr style=\"text-align: right;\">\n",
              "      <th></th>\n",
              "      <th>iso_country</th>\n",
              "      <th>country</th>\n",
              "      <th>continent</th>\n",
              "      <th>wikipedia_link</th>\n",
              "      <th>keywords</th>\n",
              "    </tr>\n",
              "    <tr>\n",
              "      <th>id</th>\n",
              "      <th></th>\n",
              "      <th></th>\n",
              "      <th></th>\n",
              "      <th></th>\n",
              "      <th></th>\n",
              "    </tr>\n",
              "  </thead>\n",
              "  <tbody>\n",
              "    <tr>\n",
              "      <th>302672</th>\n",
              "      <td>AD</td>\n",
              "      <td>Andorra</td>\n",
              "      <td>EU</td>\n",
              "      <td>https://en.wikipedia.org/wiki/Andorra</td>\n",
              "      <td>Andorran airports</td>\n",
              "    </tr>\n",
              "    <tr>\n",
              "      <th>302618</th>\n",
              "      <td>AE</td>\n",
              "      <td>United Arab Emirates</td>\n",
              "      <td>AS</td>\n",
              "      <td>https://en.wikipedia.org/wiki/United_Arab_Emir...</td>\n",
              "      <td>UAE,مطارات في الإمارات العربية المتحدة</td>\n",
              "    </tr>\n",
              "    <tr>\n",
              "      <th>302619</th>\n",
              "      <td>AF</td>\n",
              "      <td>Afghanistan</td>\n",
              "      <td>AS</td>\n",
              "      <td>https://en.wikipedia.org/wiki/Afghanistan</td>\n",
              "      <td>NaN</td>\n",
              "    </tr>\n",
              "    <tr>\n",
              "      <th>302722</th>\n",
              "      <td>AG</td>\n",
              "      <td>Antigua and Barbuda</td>\n",
              "      <td>NaN</td>\n",
              "      <td>https://en.wikipedia.org/wiki/Antigua_and_Barbuda</td>\n",
              "      <td>Antiguan airports</td>\n",
              "    </tr>\n",
              "    <tr>\n",
              "      <th>302723</th>\n",
              "      <td>AI</td>\n",
              "      <td>Anguilla</td>\n",
              "      <td>NaN</td>\n",
              "      <td>https://en.wikipedia.org/wiki/Anguilla</td>\n",
              "      <td>NaN</td>\n",
              "    </tr>\n",
              "  </tbody>\n",
              "</table>\n",
              "</div>\n",
              "      <button class=\"colab-df-convert\" onclick=\"convertToInteractive('df-f600c23d-cee8-497d-a9d0-2df78533c1b7')\"\n",
              "              title=\"Convert this dataframe to an interactive table.\"\n",
              "              style=\"display:none;\">\n",
              "        \n",
              "  <svg xmlns=\"http://www.w3.org/2000/svg\" height=\"24px\"viewBox=\"0 0 24 24\"\n",
              "       width=\"24px\">\n",
              "    <path d=\"M0 0h24v24H0V0z\" fill=\"none\"/>\n",
              "    <path d=\"M18.56 5.44l.94 2.06.94-2.06 2.06-.94-2.06-.94-.94-2.06-.94 2.06-2.06.94zm-11 1L8.5 8.5l.94-2.06 2.06-.94-2.06-.94L8.5 2.5l-.94 2.06-2.06.94zm10 10l.94 2.06.94-2.06 2.06-.94-2.06-.94-.94-2.06-.94 2.06-2.06.94z\"/><path d=\"M17.41 7.96l-1.37-1.37c-.4-.4-.92-.59-1.43-.59-.52 0-1.04.2-1.43.59L10.3 9.45l-7.72 7.72c-.78.78-.78 2.05 0 2.83L4 21.41c.39.39.9.59 1.41.59.51 0 1.02-.2 1.41-.59l7.78-7.78 2.81-2.81c.8-.78.8-2.07 0-2.86zM5.41 20L4 18.59l7.72-7.72 1.47 1.35L5.41 20z\"/>\n",
              "  </svg>\n",
              "      </button>\n",
              "      \n",
              "  <style>\n",
              "    .colab-df-container {\n",
              "      display:flex;\n",
              "      flex-wrap:wrap;\n",
              "      gap: 12px;\n",
              "    }\n",
              "\n",
              "    .colab-df-convert {\n",
              "      background-color: #E8F0FE;\n",
              "      border: none;\n",
              "      border-radius: 50%;\n",
              "      cursor: pointer;\n",
              "      display: none;\n",
              "      fill: #1967D2;\n",
              "      height: 32px;\n",
              "      padding: 0 0 0 0;\n",
              "      width: 32px;\n",
              "    }\n",
              "\n",
              "    .colab-df-convert:hover {\n",
              "      background-color: #E2EBFA;\n",
              "      box-shadow: 0px 1px 2px rgba(60, 64, 67, 0.3), 0px 1px 3px 1px rgba(60, 64, 67, 0.15);\n",
              "      fill: #174EA6;\n",
              "    }\n",
              "\n",
              "    [theme=dark] .colab-df-convert {\n",
              "      background-color: #3B4455;\n",
              "      fill: #D2E3FC;\n",
              "    }\n",
              "\n",
              "    [theme=dark] .colab-df-convert:hover {\n",
              "      background-color: #434B5C;\n",
              "      box-shadow: 0px 1px 3px 1px rgba(0, 0, 0, 0.15);\n",
              "      filter: drop-shadow(0px 1px 2px rgba(0, 0, 0, 0.3));\n",
              "      fill: #FFFFFF;\n",
              "    }\n",
              "  </style>\n",
              "\n",
              "      <script>\n",
              "        const buttonEl =\n",
              "          document.querySelector('#df-f600c23d-cee8-497d-a9d0-2df78533c1b7 button.colab-df-convert');\n",
              "        buttonEl.style.display =\n",
              "          google.colab.kernel.accessAllowed ? 'block' : 'none';\n",
              "\n",
              "        async function convertToInteractive(key) {\n",
              "          const element = document.querySelector('#df-f600c23d-cee8-497d-a9d0-2df78533c1b7');\n",
              "          const dataTable =\n",
              "            await google.colab.kernel.invokeFunction('convertToInteractive',\n",
              "                                                     [key], {});\n",
              "          if (!dataTable) return;\n",
              "\n",
              "          const docLinkHtml = 'Like what you see? Visit the ' +\n",
              "            '<a target=\"_blank\" href=https://colab.research.google.com/notebooks/data_table.ipynb>data table notebook</a>'\n",
              "            + ' to learn more about interactive tables.';\n",
              "          element.innerHTML = '';\n",
              "          dataTable['output_type'] = 'display_data';\n",
              "          await google.colab.output.renderOutput(dataTable, element);\n",
              "          const docLink = document.createElement('div');\n",
              "          docLink.innerHTML = docLinkHtml;\n",
              "          element.appendChild(docLink);\n",
              "        }\n",
              "      </script>\n",
              "    </div>\n",
              "  </div>\n",
              "  "
            ]
          },
          "metadata": {},
          "execution_count": 36
        }
      ],
      "source": [
        "url = 'https://davidmegginson.github.io/ourairports-data/countries.csv'\n",
        "df_country = pd.read_csv(url, index_col=0)\n",
        "df_country.rename(columns={'code':'iso_country'},inplace=True) # Se cambia el nombre de las columnas para hacerlas coincidir con el DF en estudio\n",
        "df_country.rename(columns={'name':'country'},inplace=True) # Se cambia el nombre de las columnas para hacerlas coincidir con el DF en estudio\n",
        "df_country.head(5)"
      ]
    },
    {
      "cell_type": "code",
      "execution_count": 37,
      "metadata": {
        "colab": {
          "base_uri": "https://localhost:8080/",
          "height": 391
        },
        "id": "naVbpFzdJF-B",
        "outputId": "7519ccfb-2d33-42b5-b35c-e427ff80de9c"
      },
      "outputs": [
        {
          "output_type": "execute_result",
          "data": {
            "text/plain": [
              "          country iso_country alpha-3  country-code     iso_3166-2   region  \\\n",
              "0     Afghanistan          AF     AFG             4  ISO 3166-2:AF     Asia   \n",
              "1   Åland Islands          AX     ALA           248  ISO 3166-2:AX   Europe   \n",
              "2         Albania          AL     ALB             8  ISO 3166-2:AL   Europe   \n",
              "3         Algeria          DZ     DZA            12  ISO 3166-2:DZ   Africa   \n",
              "4  American Samoa          AS     ASM            16  ISO 3166-2:AS  Oceania   \n",
              "\n",
              "        sub-region intermediate-region  region-code  sub-region-code  \\\n",
              "0    Southern Asia                 NaN        142.0             34.0   \n",
              "1  Northern Europe                 NaN        150.0            154.0   \n",
              "2  Southern Europe                 NaN        150.0             39.0   \n",
              "3  Northern Africa                 NaN          2.0             15.0   \n",
              "4        Polynesia                 NaN          9.0             61.0   \n",
              "\n",
              "   intermediate-region-code  \n",
              "0                       NaN  \n",
              "1                       NaN  \n",
              "2                       NaN  \n",
              "3                       NaN  \n",
              "4                       NaN  "
            ],
            "text/html": [
              "\n",
              "  <div id=\"df-706059ab-c0fb-4bdd-b668-8ba8447bc374\">\n",
              "    <div class=\"colab-df-container\">\n",
              "      <div>\n",
              "<style scoped>\n",
              "    .dataframe tbody tr th:only-of-type {\n",
              "        vertical-align: middle;\n",
              "    }\n",
              "\n",
              "    .dataframe tbody tr th {\n",
              "        vertical-align: top;\n",
              "    }\n",
              "\n",
              "    .dataframe thead th {\n",
              "        text-align: right;\n",
              "    }\n",
              "</style>\n",
              "<table border=\"1\" class=\"dataframe\">\n",
              "  <thead>\n",
              "    <tr style=\"text-align: right;\">\n",
              "      <th></th>\n",
              "      <th>country</th>\n",
              "      <th>iso_country</th>\n",
              "      <th>alpha-3</th>\n",
              "      <th>country-code</th>\n",
              "      <th>iso_3166-2</th>\n",
              "      <th>region</th>\n",
              "      <th>sub-region</th>\n",
              "      <th>intermediate-region</th>\n",
              "      <th>region-code</th>\n",
              "      <th>sub-region-code</th>\n",
              "      <th>intermediate-region-code</th>\n",
              "    </tr>\n",
              "  </thead>\n",
              "  <tbody>\n",
              "    <tr>\n",
              "      <th>0</th>\n",
              "      <td>Afghanistan</td>\n",
              "      <td>AF</td>\n",
              "      <td>AFG</td>\n",
              "      <td>4</td>\n",
              "      <td>ISO 3166-2:AF</td>\n",
              "      <td>Asia</td>\n",
              "      <td>Southern Asia</td>\n",
              "      <td>NaN</td>\n",
              "      <td>142.0</td>\n",
              "      <td>34.0</td>\n",
              "      <td>NaN</td>\n",
              "    </tr>\n",
              "    <tr>\n",
              "      <th>1</th>\n",
              "      <td>Åland Islands</td>\n",
              "      <td>AX</td>\n",
              "      <td>ALA</td>\n",
              "      <td>248</td>\n",
              "      <td>ISO 3166-2:AX</td>\n",
              "      <td>Europe</td>\n",
              "      <td>Northern Europe</td>\n",
              "      <td>NaN</td>\n",
              "      <td>150.0</td>\n",
              "      <td>154.0</td>\n",
              "      <td>NaN</td>\n",
              "    </tr>\n",
              "    <tr>\n",
              "      <th>2</th>\n",
              "      <td>Albania</td>\n",
              "      <td>AL</td>\n",
              "      <td>ALB</td>\n",
              "      <td>8</td>\n",
              "      <td>ISO 3166-2:AL</td>\n",
              "      <td>Europe</td>\n",
              "      <td>Southern Europe</td>\n",
              "      <td>NaN</td>\n",
              "      <td>150.0</td>\n",
              "      <td>39.0</td>\n",
              "      <td>NaN</td>\n",
              "    </tr>\n",
              "    <tr>\n",
              "      <th>3</th>\n",
              "      <td>Algeria</td>\n",
              "      <td>DZ</td>\n",
              "      <td>DZA</td>\n",
              "      <td>12</td>\n",
              "      <td>ISO 3166-2:DZ</td>\n",
              "      <td>Africa</td>\n",
              "      <td>Northern Africa</td>\n",
              "      <td>NaN</td>\n",
              "      <td>2.0</td>\n",
              "      <td>15.0</td>\n",
              "      <td>NaN</td>\n",
              "    </tr>\n",
              "    <tr>\n",
              "      <th>4</th>\n",
              "      <td>American Samoa</td>\n",
              "      <td>AS</td>\n",
              "      <td>ASM</td>\n",
              "      <td>16</td>\n",
              "      <td>ISO 3166-2:AS</td>\n",
              "      <td>Oceania</td>\n",
              "      <td>Polynesia</td>\n",
              "      <td>NaN</td>\n",
              "      <td>9.0</td>\n",
              "      <td>61.0</td>\n",
              "      <td>NaN</td>\n",
              "    </tr>\n",
              "  </tbody>\n",
              "</table>\n",
              "</div>\n",
              "      <button class=\"colab-df-convert\" onclick=\"convertToInteractive('df-706059ab-c0fb-4bdd-b668-8ba8447bc374')\"\n",
              "              title=\"Convert this dataframe to an interactive table.\"\n",
              "              style=\"display:none;\">\n",
              "        \n",
              "  <svg xmlns=\"http://www.w3.org/2000/svg\" height=\"24px\"viewBox=\"0 0 24 24\"\n",
              "       width=\"24px\">\n",
              "    <path d=\"M0 0h24v24H0V0z\" fill=\"none\"/>\n",
              "    <path d=\"M18.56 5.44l.94 2.06.94-2.06 2.06-.94-2.06-.94-.94-2.06-.94 2.06-2.06.94zm-11 1L8.5 8.5l.94-2.06 2.06-.94-2.06-.94L8.5 2.5l-.94 2.06-2.06.94zm10 10l.94 2.06.94-2.06 2.06-.94-2.06-.94-.94-2.06-.94 2.06-2.06.94z\"/><path d=\"M17.41 7.96l-1.37-1.37c-.4-.4-.92-.59-1.43-.59-.52 0-1.04.2-1.43.59L10.3 9.45l-7.72 7.72c-.78.78-.78 2.05 0 2.83L4 21.41c.39.39.9.59 1.41.59.51 0 1.02-.2 1.41-.59l7.78-7.78 2.81-2.81c.8-.78.8-2.07 0-2.86zM5.41 20L4 18.59l7.72-7.72 1.47 1.35L5.41 20z\"/>\n",
              "  </svg>\n",
              "      </button>\n",
              "      \n",
              "  <style>\n",
              "    .colab-df-container {\n",
              "      display:flex;\n",
              "      flex-wrap:wrap;\n",
              "      gap: 12px;\n",
              "    }\n",
              "\n",
              "    .colab-df-convert {\n",
              "      background-color: #E8F0FE;\n",
              "      border: none;\n",
              "      border-radius: 50%;\n",
              "      cursor: pointer;\n",
              "      display: none;\n",
              "      fill: #1967D2;\n",
              "      height: 32px;\n",
              "      padding: 0 0 0 0;\n",
              "      width: 32px;\n",
              "    }\n",
              "\n",
              "    .colab-df-convert:hover {\n",
              "      background-color: #E2EBFA;\n",
              "      box-shadow: 0px 1px 2px rgba(60, 64, 67, 0.3), 0px 1px 3px 1px rgba(60, 64, 67, 0.15);\n",
              "      fill: #174EA6;\n",
              "    }\n",
              "\n",
              "    [theme=dark] .colab-df-convert {\n",
              "      background-color: #3B4455;\n",
              "      fill: #D2E3FC;\n",
              "    }\n",
              "\n",
              "    [theme=dark] .colab-df-convert:hover {\n",
              "      background-color: #434B5C;\n",
              "      box-shadow: 0px 1px 3px 1px rgba(0, 0, 0, 0.15);\n",
              "      filter: drop-shadow(0px 1px 2px rgba(0, 0, 0, 0.3));\n",
              "      fill: #FFFFFF;\n",
              "    }\n",
              "  </style>\n",
              "\n",
              "      <script>\n",
              "        const buttonEl =\n",
              "          document.querySelector('#df-706059ab-c0fb-4bdd-b668-8ba8447bc374 button.colab-df-convert');\n",
              "        buttonEl.style.display =\n",
              "          google.colab.kernel.accessAllowed ? 'block' : 'none';\n",
              "\n",
              "        async function convertToInteractive(key) {\n",
              "          const element = document.querySelector('#df-706059ab-c0fb-4bdd-b668-8ba8447bc374');\n",
              "          const dataTable =\n",
              "            await google.colab.kernel.invokeFunction('convertToInteractive',\n",
              "                                                     [key], {});\n",
              "          if (!dataTable) return;\n",
              "\n",
              "          const docLinkHtml = 'Like what you see? Visit the ' +\n",
              "            '<a target=\"_blank\" href=https://colab.research.google.com/notebooks/data_table.ipynb>data table notebook</a>'\n",
              "            + ' to learn more about interactive tables.';\n",
              "          element.innerHTML = '';\n",
              "          dataTable['output_type'] = 'display_data';\n",
              "          await google.colab.output.renderOutput(dataTable, element);\n",
              "          const docLink = document.createElement('div');\n",
              "          docLink.innerHTML = docLinkHtml;\n",
              "          element.appendChild(docLink);\n",
              "        }\n",
              "      </script>\n",
              "    </div>\n",
              "  </div>\n",
              "  "
            ]
          },
          "metadata": {},
          "execution_count": 37
        }
      ],
      "source": [
        "url = 'https://raw.githubusercontent.com/lukes/ISO-3166-Countries-with-Regional-Codes/master/all/all.csv'\n",
        "df_region = pd.read_csv(url, index_col=0).reset_index()\n",
        "df_region.rename(columns={'alpha-2':'iso_country'},inplace=True) # Se cambia el nombre de las columnas para hacerlas coincidir con el DF en estudio\n",
        "df_region.rename(columns={'name':'country'},inplace=True) # Se cambia el nombre de las columnas para hacerlas coincidir con el DF en estudio\n",
        "df_region.head(5)"
      ]
    },
    {
      "cell_type": "markdown",
      "source": [
        "<font color='green'>Se unen los DF complementarios entre sí para formar uno solo bien completo con información  adicional sobre aeropuertos"
      ],
      "metadata": {
        "id": "1cqVkgw76LzK"
      }
    },
    {
      "cell_type": "code",
      "execution_count": 38,
      "metadata": {
        "id": "eqJ7RKxIJL2n"
      },
      "outputs": [],
      "source": [
        "df_add1 = pd.merge(left=df_airports,right=df_country, on ='iso_country',how='left')\n",
        "df_add = pd.merge(left=df_add1,right=df_region, on ='iso_country',how='left')"
      ]
    },
    {
      "cell_type": "code",
      "execution_count": 39,
      "metadata": {
        "colab": {
          "base_uri": "https://localhost:8080/",
          "height": 453
        },
        "id": "uFTvcj3XJS-F",
        "outputId": "c600f4e6-f505-45c9-f91c-c17be2595323"
      },
      "outputs": [
        {
          "output_type": "execute_result",
          "data": {
            "text/plain": [
              "<AxesSubplot:>"
            ]
          },
          "metadata": {},
          "execution_count": 39
        },
        {
          "output_type": "display_data",
          "data": {
            "text/plain": [
              "<Figure size 1800x720 with 2 Axes>"
            ],
            "image/png": "[encoded data removed]"
          },
          "metadata": {
            "needs_background": "light"
          }
        }
      ],
      "source": [
        "msno.matrix(df_add) #missing data matrix -- Reviso columnas con muchos faltantes que no me sirven"
      ]
    },
    {
      "cell_type": "markdown",
      "source": [
        "<font color='green'>Se determinan aquellas columnas sin datos faltantes y con información relevante para el análisis; se crea un DF con esta información."
      ],
      "metadata": {
        "id": "Ll5DXqxe63g7"
      }
    },
    {
      "cell_type": "code",
      "execution_count": 40,
      "metadata": {
        "colab": {
          "base_uri": "https://localhost:8080/",
          "height": 817
        },
        "id": "y_1zALfaJVhs",
        "outputId": "69121eea-1840-4bc2-81c9-1976a0ffb726"
      },
      "outputs": [
        {
          "output_type": "execute_result",
          "data": {
            "text/plain": [
              "      iata_code           type                       name  \\\n",
              "0           NaN       heliport          Total Rf Heliport   \n",
              "1           NaN  small_airport       Aero B Ranch Airport   \n",
              "2           NaN  small_airport               Lowell Field   \n",
              "3           NaN  small_airport               Epps Airpark   \n",
              "4           NaN  small_airport       Katmai Lodge Airport   \n",
              "...         ...            ...                        ...   \n",
              "74753       NaN       heliport            Sealand Helipad   \n",
              "74754       NaN  small_airport  Glorioso Islands Airstrip   \n",
              "74755       NaN  small_airport      Fainting Goat Airport   \n",
              "74756       NaN         closed     Scandium City Heliport   \n",
              "74757       NaN  small_airport     Satsuma Iōjima Airport   \n",
              "\n",
              "              municipality                            country_x iso_country  \\\n",
              "0                 Bensalem                        United States          US   \n",
              "1                    Leoti                        United States          US   \n",
              "2             Anchor Point                        United States          US   \n",
              "3                  Harvest                        United States          US   \n",
              "4              King Salmon                        United States          US   \n",
              "...                    ...                                  ...         ...   \n",
              "74753              Sealand                       United Kingdom          GB   \n",
              "74754     Grande Glorieuse  French Southern and Antarctic Lands          TF   \n",
              "74755                 Blum                        United States          US   \n",
              "74756  (Old) Scandium City                               Canada          CA   \n",
              "74757              Mishima                                Japan          JP   \n",
              "\n",
              "         region          sub-region  latitude_deg  longitude_deg  \\\n",
              "0      Americas    Northern America     40.070801     -74.933601   \n",
              "1      Americas    Northern America     38.704022    -101.473911   \n",
              "2      Americas    Northern America     59.947733    -151.692524   \n",
              "3      Americas    Northern America     34.864799     -86.770302   \n",
              "4      Americas    Northern America     59.093287    -156.456699   \n",
              "...         ...                 ...           ...            ...   \n",
              "74753    Europe     Northern Europe     51.894444       1.482500   \n",
              "74754    Africa  Sub-Saharan Africa    -11.584278      47.296389   \n",
              "74755  Americas    Northern America     32.110587     -97.356312   \n",
              "74756  Americas    Northern America     69.355287    -138.939310   \n",
              "74757      Asia        Eastern Asia     30.784722     130.270556   \n",
              "\n",
              "                                        wikipedia_link_x local_code  \n",
              "0                                                    NaN        00A  \n",
              "1                                                    NaN       00AA  \n",
              "2                                                    NaN       00AK  \n",
              "3                                                    NaN       00AL  \n",
              "4                                                    NaN       00AN  \n",
              "...                                                  ...        ...  \n",
              "74753  https://en.wikipedia.org/wiki/Principality_of_...        NaN  \n",
              "74754                                                NaN        NaN  \n",
              "74755                                                NaN       87TX  \n",
              "74756                                                NaN        NaN  \n",
              "74757  http://wikimapia.org/6705190/Satsuma-Iwo-jima-...       RJX7  \n",
              "\n",
              "[74758 rows x 12 columns]"
            ],
            "text/html": [
              "\n",
              "  <div id=\"df-667e3533-c74f-4ac3-b8cb-b613f18aefd6\">\n",
              "    <div class=\"colab-df-container\">\n",
              "      <div>\n",
              "<style scoped>\n",
              "    .dataframe tbody tr th:only-of-type {\n",
              "        vertical-align: middle;\n",
              "    }\n",
              "\n",
              "    .dataframe tbody tr th {\n",
              "        vertical-align: top;\n",
              "    }\n",
              "\n",
              "    .dataframe thead th {\n",
              "        text-align: right;\n",
              "    }\n",
              "</style>\n",
              "<table border=\"1\" class=\"dataframe\">\n",
              "  <thead>\n",
              "    <tr style=\"text-align: right;\">\n",
              "      <th></th>\n",
              "      <th>iata_code</th>\n",
              "      <th>type</th>\n",
              "      <th>name</th>\n",
              "      <th>municipality</th>\n",
              "      <th>country_x</th>\n",
              "      <th>iso_country</th>\n",
              "      <th>region</th>\n",
              "      <th>sub-region</th>\n",
              "      <th>latitude_deg</th>\n",
              "      <th>longitude_deg</th>\n",
              "      <th>wikipedia_link_x</th>\n",
              "      <th>local_code</th>\n",
              "    </tr>\n",
              "  </thead>\n",
              "  <tbody>\n",
              "    <tr>\n",
              "      <th>0</th>\n",
              "      <td>NaN</td>\n",
              "      <td>heliport</td>\n",
              "      <td>Total Rf Heliport</td>\n",
              "      <td>Bensalem</td>\n",
              "      <td>United States</td>\n",
              "      <td>US</td>\n",
              "      <td>Americas</td>\n",
              "      <td>Northern America</td>\n",
              "      <td>40.070801</td>\n",
              "      <td>-74.933601</td>\n",
              "      <td>NaN</td>\n",
              "      <td>00A</td>\n",
              "    </tr>\n",
              "    <tr>\n",
              "      <th>1</th>\n",
              "      <td>NaN</td>\n",
              "      <td>small_airport</td>\n",
              "      <td>Aero B Ranch Airport</td>\n",
              "      <td>Leoti</td>\n",
              "      <td>United States</td>\n",
              "      <td>US</td>\n",
              "      <td>Americas</td>\n",
              "      <td>Northern America</td>\n",
              "      <td>38.704022</td>\n",
              "      <td>-101.473911</td>\n",
              "      <td>NaN</td>\n",
              "      <td>00AA</td>\n",
              "    </tr>\n",
              "    <tr>\n",
              "      <th>2</th>\n",
              "      <td>NaN</td>\n",
              "      <td>small_airport</td>\n",
              "      <td>Lowell Field</td>\n",
              "      <td>Anchor Point</td>\n",
              "      <td>United States</td>\n",
              "      <td>US</td>\n",
              "      <td>Americas</td>\n",
              "      <td>Northern America</td>\n",
              "      <td>59.947733</td>\n",
              "      <td>-151.692524</td>\n",
              "      <td>NaN</td>\n",
              "      <td>00AK</td>\n",
              "    </tr>\n",
              "    <tr>\n",
              "      <th>3</th>\n",
              "      <td>NaN</td>\n",
              "      <td>small_airport</td>\n",
              "      <td>Epps Airpark</td>\n",
              "      <td>Harvest</td>\n",
              "      <td>United States</td>\n",
              "      <td>US</td>\n",
              "      <td>Americas</td>\n",
              "      <td>Northern America</td>\n",
              "      <td>34.864799</td>\n",
              "      <td>-86.770302</td>\n",
              "      <td>NaN</td>\n",
              "      <td>00AL</td>\n",
              "    </tr>\n",
              "    <tr>\n",
              "      <th>4</th>\n",
              "      <td>NaN</td>\n",
              "      <td>small_airport</td>\n",
              "      <td>Katmai Lodge Airport</td>\n",
              "      <td>King Salmon</td>\n",
              "      <td>United States</td>\n",
              "      <td>US</td>\n",
              "      <td>Americas</td>\n",
              "      <td>Northern America</td>\n",
              "      <td>59.093287</td>\n",
              "      <td>-156.456699</td>\n",
              "      <td>NaN</td>\n",
              "      <td>00AN</td>\n",
              "    </tr>\n",
              "    <tr>\n",
              "      <th>...</th>\n",
              "      <td>...</td>\n",
              "      <td>...</td>\n",
              "      <td>...</td>\n",
              "      <td>...</td>\n",
              "      <td>...</td>\n",
              "      <td>...</td>\n",
              "      <td>...</td>\n",
              "      <td>...</td>\n",
              "      <td>...</td>\n",
              "      <td>...</td>\n",
              "      <td>...</td>\n",
              "      <td>...</td>\n",
              "    </tr>\n",
              "    <tr>\n",
              "      <th>74753</th>\n",
              "      <td>NaN</td>\n",
              "      <td>heliport</td>\n",
              "      <td>Sealand Helipad</td>\n",
              "      <td>Sealand</td>\n",
              "      <td>United Kingdom</td>\n",
              "      <td>GB</td>\n",
              "      <td>Europe</td>\n",
              "      <td>Northern Europe</td>\n",
              "      <td>51.894444</td>\n",
              "      <td>1.482500</td>\n",
              "      <td>https://en.wikipedia.org/wiki/Principality_of_...</td>\n",
              "      <td>NaN</td>\n",
              "    </tr>\n",
              "    <tr>\n",
              "      <th>74754</th>\n",
              "      <td>NaN</td>\n",
              "      <td>small_airport</td>\n",
              "      <td>Glorioso Islands Airstrip</td>\n",
              "      <td>Grande Glorieuse</td>\n",
              "      <td>French Southern and Antarctic Lands</td>\n",
              "      <td>TF</td>\n",
              "      <td>Africa</td>\n",
              "      <td>Sub-Saharan Africa</td>\n",
              "      <td>-11.584278</td>\n",
              "      <td>47.296389</td>\n",
              "      <td>NaN</td>\n",
              "      <td>NaN</td>\n",
              "    </tr>\n",
              "    <tr>\n",
              "      <th>74755</th>\n",
              "      <td>NaN</td>\n",
              "      <td>small_airport</td>\n",
              "      <td>Fainting Goat Airport</td>\n",
              "      <td>Blum</td>\n",
              "      <td>United States</td>\n",
              "      <td>US</td>\n",
              "      <td>Americas</td>\n",
              "      <td>Northern America</td>\n",
              "      <td>32.110587</td>\n",
              "      <td>-97.356312</td>\n",
              "      <td>NaN</td>\n",
              "      <td>87TX</td>\n",
              "    </tr>\n",
              "    <tr>\n",
              "      <th>74756</th>\n",
              "      <td>NaN</td>\n",
              "      <td>closed</td>\n",
              "      <td>Scandium City Heliport</td>\n",
              "      <td>(Old) Scandium City</td>\n",
              "      <td>Canada</td>\n",
              "      <td>CA</td>\n",
              "      <td>Americas</td>\n",
              "      <td>Northern America</td>\n",
              "      <td>69.355287</td>\n",
              "      <td>-138.939310</td>\n",
              "      <td>NaN</td>\n",
              "      <td>NaN</td>\n",
              "    </tr>\n",
              "    <tr>\n",
              "      <th>74757</th>\n",
              "      <td>NaN</td>\n",
              "      <td>small_airport</td>\n",
              "      <td>Satsuma Iōjima Airport</td>\n",
              "      <td>Mishima</td>\n",
              "      <td>Japan</td>\n",
              "      <td>JP</td>\n",
              "      <td>Asia</td>\n",
              "      <td>Eastern Asia</td>\n",
              "      <td>30.784722</td>\n",
              "      <td>130.270556</td>\n",
              "      <td>http://wikimapia.org/6705190/Satsuma-Iwo-jima-...</td>\n",
              "      <td>RJX7</td>\n",
              "    </tr>\n",
              "  </tbody>\n",
              "</table>\n",
              "<p>74758 rows × 12 columns</p>\n",
              "</div>\n",
              "      <button class=\"colab-df-convert\" onclick=\"convertToInteractive('df-667e3533-c74f-4ac3-b8cb-b613f18aefd6')\"\n",
              "              title=\"Convert this dataframe to an interactive table.\"\n",
              "              style=\"display:none;\">\n",
              "        \n",
              "  <svg xmlns=\"http://www.w3.org/2000/svg\" height=\"24px\"viewBox=\"0 0 24 24\"\n",
              "       width=\"24px\">\n",
              "    <path d=\"M0 0h24v24H0V0z\" fill=\"none\"/>\n",
              "    <path d=\"M18.56 5.44l.94 2.06.94-2.06 2.06-.94-2.06-.94-.94-2.06-.94 2.06-2.06.94zm-11 1L8.5 8.5l.94-2.06 2.06-.94-2.06-.94L8.5 2.5l-.94 2.06-2.06.94zm10 10l.94 2.06.94-2.06 2.06-.94-2.06-.94-.94-2.06-.94 2.06-2.06.94z\"/><path d=\"M17.41 7.96l-1.37-1.37c-.4-.4-.92-.59-1.43-.59-.52 0-1.04.2-1.43.59L10.3 9.45l-7.72 7.72c-.78.78-.78 2.05 0 2.83L4 21.41c.39.39.9.59 1.41.59.51 0 1.02-.2 1.41-.59l7.78-7.78 2.81-2.81c.8-.78.8-2.07 0-2.86zM5.41 20L4 18.59l7.72-7.72 1.47 1.35L5.41 20z\"/>\n",
              "  </svg>\n",
              "      </button>\n",
              "      \n",
              "  <style>\n",
              "    .colab-df-container {\n",
              "      display:flex;\n",
              "      flex-wrap:wrap;\n",
              "      gap: 12px;\n",
              "    }\n",
              "\n",
              "    .colab-df-convert {\n",
              "      background-color: #E8F0FE;\n",
              "      border: none;\n",
              "      border-radius: 50%;\n",
              "      cursor: pointer;\n",
              "      display: none;\n",
              "      fill: #1967D2;\n",
              "      height: 32px;\n",
              "      padding: 0 0 0 0;\n",
              "      width: 32px;\n",
              "    }\n",
              "\n",
              "    .colab-df-convert:hover {\n",
              "      background-color: #E2EBFA;\n",
              "      box-shadow: 0px 1px 2px rgba(60, 64, 67, 0.3), 0px 1px 3px 1px rgba(60, 64, 67, 0.15);\n",
              "      fill: #174EA6;\n",
              "    }\n",
              "\n",
              "    [theme=dark] .colab-df-convert {\n",
              "      background-color: #3B4455;\n",
              "      fill: #D2E3FC;\n",
              "    }\n",
              "\n",
              "    [theme=dark] .colab-df-convert:hover {\n",
              "      background-color: #434B5C;\n",
              "      box-shadow: 0px 1px 3px 1px rgba(0, 0, 0, 0.15);\n",
              "      filter: drop-shadow(0px 1px 2px rgba(0, 0, 0, 0.3));\n",
              "      fill: #FFFFFF;\n",
              "    }\n",
              "  </style>\n",
              "\n",
              "      <script>\n",
              "        const buttonEl =\n",
              "          document.querySelector('#df-667e3533-c74f-4ac3-b8cb-b613f18aefd6 button.colab-df-convert');\n",
              "        buttonEl.style.display =\n",
              "          google.colab.kernel.accessAllowed ? 'block' : 'none';\n",
              "\n",
              "        async function convertToInteractive(key) {\n",
              "          const element = document.querySelector('#df-667e3533-c74f-4ac3-b8cb-b613f18aefd6');\n",
              "          const dataTable =\n",
              "            await google.colab.kernel.invokeFunction('convertToInteractive',\n",
              "                                                     [key], {});\n",
              "          if (!dataTable) return;\n",
              "\n",
              "          const docLinkHtml = 'Like what you see? Visit the ' +\n",
              "            '<a target=\"_blank\" href=https://colab.research.google.com/notebooks/data_table.ipynb>data table notebook</a>'\n",
              "            + ' to learn more about interactive tables.';\n",
              "          element.innerHTML = '';\n",
              "          dataTable['output_type'] = 'display_data';\n",
              "          await google.colab.output.renderOutput(dataTable, element);\n",
              "          const docLink = document.createElement('div');\n",
              "          docLink.innerHTML = docLinkHtml;\n",
              "          element.appendChild(docLink);\n",
              "        }\n",
              "      </script>\n",
              "    </div>\n",
              "  </div>\n",
              "  "
            ]
          },
          "metadata": {},
          "execution_count": 40
        }
      ],
      "source": [
        "df_aeropuertos = df_add[['iata_code','type','name','municipality','country_x','iso_country','region','sub-region','latitude_deg','longitude_deg','wikipedia_link_x','local_code']]\n",
        "df_aeropuertos"
      ]
    },
    {
      "cell_type": "markdown",
      "source": [
        "<font color='green'>Se monta el nuevo DF complementario sobre el original"
      ],
      "metadata": {
        "id": "y7u0rLpXKA7f"
      }
    },
    {
      "cell_type": "code",
      "execution_count": 41,
      "metadata": {
        "colab": {
          "base_uri": "https://localhost:8080/"
        },
        "id": "Hz57N2X4JrJD",
        "outputId": "7287912c-844e-4060-94b4-c32151d69990"
      },
      "outputs": [
        {
          "output_type": "stream",
          "name": "stderr",
          "text": [
            "/usr/local/lib/python3.8/dist-packages/pandas/core/frame.py:5039: SettingWithCopyWarning: \n",
            "A value is trying to be set on a copy of a slice from a DataFrame\n",
            "\n",
            "See the caveats in the documentation: https://pandas.pydata.org/pandas-docs/stable/user_guide/indexing.html#returning-a-view-versus-a-copy\n",
            "  return super().rename(\n"
          ]
        },
        {
          "output_type": "stream",
          "name": "stdout",
          "text": [
            "<class 'pandas.core.frame.DataFrame'>\n",
            "Int64Index: 125582 entries, 0 to 125581\n",
            "Data columns (total 37 columns):\n",
            " #   Column            Non-Null Count   Dtype          \n",
            "---  ------            --------------   -----          \n",
            " 0   Aero              125582 non-null  object         \n",
            " 1   #Vuelo            125582 non-null  object         \n",
            " 2   Origen            125582 non-null  object         \n",
            " 3   STA               125582 non-null  datetime64[ns] \n",
            " 4   ETA               125582 non-null  datetime64[ns] \n",
            " 5   ATA               125582 non-null  datetime64[ns] \n",
            " 6   Tipo              125582 non-null  object         \n",
            " 7   Pos               125582 non-null  object         \n",
            " 8   Ter               125582 non-null  object         \n",
            " 9   Sec               125582 non-null  object         \n",
            " 10  Rmk               125582 non-null  object         \n",
            " 11  Cin               125582 non-null  object         \n",
            " 12  Pax               125582 non-null  float64        \n",
            " 13  Mat               125582 non-null  object         \n",
            " 14  Acft              125582 non-null  object         \n",
            " 15  Aero.1            125582 non-null  object         \n",
            " 16  #Rot              125582 non-null  object         \n",
            " 17  Cabecera          125582 non-null  float64        \n",
            " 18  año               125582 non-null  int64          \n",
            " 19  mes               125582 non-null  int64          \n",
            " 20  hora              125582 non-null  int64          \n",
            " 21  HOUR              125582 non-null  int64          \n",
            " 22  WEEKDAY           125582 non-null  int64          \n",
            " 23  Convert           125582 non-null  timedelta64[ns]\n",
            " 24  Demora_Min        125582 non-null  float64        \n",
            " 25  Delayed           125582 non-null  int64          \n",
            " 26  type              123826 non-null  object         \n",
            " 27  name              123826 non-null  object         \n",
            " 28  municipality      123825 non-null  object         \n",
            " 29  country_x         123826 non-null  object         \n",
            " 30  iso_country       123826 non-null  object         \n",
            " 31  region            123826 non-null  object         \n",
            " 32  sub-region        123826 non-null  object         \n",
            " 33  latitude_deg      123826 non-null  float64        \n",
            " 34  longitude_deg     123826 non-null  float64        \n",
            " 35  wikipedia_link_x  112880 non-null  object         \n",
            " 36  local_code        114354 non-null  object         \n",
            "dtypes: datetime64[ns](3), float64(5), int64(6), object(22), timedelta64[ns](1)\n",
            "memory usage: 36.4+ MB\n"
          ]
        }
      ],
      "source": [
        "df_aeropuertos.rename(columns={'iata_code':'Origen'},inplace=True)\n",
        "df_Vuelos = pd.merge(left=df_Vuelos,right=df_aeropuertos, on ='Origen',how='left')\n",
        "df_Vuelos.info()"
      ]
    },
    {
      "cell_type": "markdown",
      "metadata": {
        "id": "VViSwJUVWz1S"
      },
      "source": [
        "####Exploración por Origen 🌎"
      ]
    },
    {
      "cell_type": "markdown",
      "source": [
        "  Con el nuevo DF complementario podemos analizar los vuelos según su país de origen"
      ],
      "metadata": {
        "id": "voyukFBKKyQ7"
      }
    },
    {
      "cell_type": "code",
      "execution_count": 42,
      "metadata": {
        "colab": {
          "base_uri": "https://localhost:8080/"
        },
        "id": "LHsXZzkT8v-F",
        "outputId": "12650ed2-847a-4a48-858f-d6b16fa3484e"
      },
      "outputs": [
        {
          "output_type": "execute_result",
          "data": {
            "text/plain": [
              "country_x\n",
              "Argentina                                       86.971859\n",
              "Uruguay                                          4.073036\n",
              "Brazil                                           3.853259\n",
              "Chile                                            1.767769\n",
              "Paraguay                                         0.816200\n",
              "Peru                                             0.441942\n",
              "Bolivia                                          0.281888\n",
              "Colombia                                         0.124222\n",
              "United States                                    0.096351\n",
              "Ecuador                                          0.035833\n",
              "Spain                                            0.027870\n",
              "Norway                                           0.023889\n",
              "Trinidad and Tobago                              0.009556\n",
              "Cape Verde                                       0.007963\n",
              "Papua New Guinea                                 0.007167\n",
              "Dominican Republic                               0.006370\n",
              "Republic of the Congo                            0.006370\n",
              "El Salvador                                      0.005574\n",
              "Venezuela                                        0.003981\n",
              "Mexico                                           0.003185\n",
              "Costa Rica                                       0.003185\n",
              "Panama                                           0.002389\n",
              "Germany                                          0.002389\n",
              "Italy                                            0.002389\n",
              "Indonesia                                        0.002389\n",
              "Honduras                                         0.002389\n",
              "Turkey                                           0.002389\n",
              "South Africa                                     0.002389\n",
              "Switzerland                                      0.001593\n",
              "Sweden                                           0.001593\n",
              "Qatar                                            0.001593\n",
              "Sint Maarten                                     0.000796\n",
              "Turks and Caicos Islands                         0.000796\n",
              "United Kingdom                                   0.000796\n",
              "Angola                                           0.000796\n",
              "Saint Vincent and the Grenadines                 0.000796\n",
              "Saint Helena, Ascension and Tristan da Cunha     0.000796\n",
              "Russia                                           0.000796\n",
              "Puerto Rico                                      0.000796\n",
              "Antigua and Barbuda                              0.000796\n",
              "Lithuania                                        0.000796\n",
              "France                                           0.000796\n",
              "Falkland Islands                                 0.000796\n",
              "Denmark                                          0.000796\n",
              "Cuba                                             0.000796\n",
              "Bahamas                                          0.000796\n",
              "Nigeria                                          0.000796\n",
              "Name: ATA, dtype: float64"
            ]
          },
          "metadata": {},
          "execution_count": 42
        }
      ],
      "source": [
        "# Analizo la cantidad de vuelos de cada país respecto al total de vuelos\n",
        "(df_Vuelos.groupby('country_x')['ATA'].count()/df_Vuelos['ATA'].count()*100).sort_values(ascending=False)"
      ]
    },
    {
      "cell_type": "code",
      "execution_count": 43,
      "metadata": {
        "colab": {
          "base_uri": "https://localhost:8080/"
        },
        "id": "4CYuJWmaSDS4",
        "outputId": "26ba66ad-f37e-4971-90d2-5d4635bdd422"
      },
      "outputs": [
        {
          "output_type": "execute_result",
          "data": {
            "text/plain": [
              "country_x\n",
              "Nigeria                                         100.000000\n",
              "United Kingdom                                  100.000000\n",
              "France                                          100.000000\n",
              "Falkland Islands                                100.000000\n",
              "Sweden                                           50.000000\n",
              "Cape Verde                                       40.000000\n",
              "Venezuela                                        40.000000\n",
              "Ecuador                                          37.777778\n",
              "Dominican Republic                               37.500000\n",
              "Republic of the Congo                            37.500000\n",
              "Spain                                            37.142857\n",
              "Panama                                           33.333333\n",
              "Turkey                                           33.333333\n",
              "Germany                                          33.333333\n",
              "South Africa                                     33.333333\n",
              "Chile                                            32.612613\n",
              "United States                                    31.404959\n",
              "El Salvador                                      28.571429\n",
              "Brazil                                           26.761728\n",
              "Argentina                                        25.384313\n",
              "Costa Rica                                       25.000000\n",
              "Colombia                                         22.435897\n",
              "Paraguay                                         21.560976\n",
              "Uruguay                                          18.142717\n",
              "Norway                                           16.666667\n",
              "Peru                                             16.216216\n",
              "Bolivia                                           6.497175\n",
              "Antigua and Barbuda                               0.000000\n",
              "Indonesia                                         0.000000\n",
              "Cuba                                              0.000000\n",
              "Denmark                                           0.000000\n",
              "Turks and Caicos Islands                          0.000000\n",
              "Trinidad and Tobago                               0.000000\n",
              "Switzerland                                       0.000000\n",
              "Bahamas                                           0.000000\n",
              "Honduras                                          0.000000\n",
              "Sint Maarten                                      0.000000\n",
              "Saint Vincent and the Grenadines                  0.000000\n",
              "Saint Helena, Ascension and Tristan da Cunha      0.000000\n",
              "Russia                                            0.000000\n",
              "Italy                                             0.000000\n",
              "Qatar                                             0.000000\n",
              "Puerto Rico                                       0.000000\n",
              "Lithuania                                         0.000000\n",
              "Papua New Guinea                                  0.000000\n",
              "Mexico                                            0.000000\n",
              "Angola                                            0.000000\n",
              "Name: Delayed, dtype: float64"
            ]
          },
          "metadata": {},
          "execution_count": 43
        }
      ],
      "source": [
        "# Analizo el % de vuelos demorados que tiene cada país\n",
        "(df_Vuelos.groupby('country_x')['Delayed'].sum()/df_Vuelos.groupby('country_x')['Delayed'].count()*100).sort_values(ascending=False)"
      ]
    },
    {
      "cell_type": "markdown",
      "metadata": {
        "id": "V9MuiWk2-pue"
      },
      "source": [
        "Se puede ver que el **87% de los vuelos son de Argentina** (vuelos domésticos) y poseen un **25% de demoras**, por lo tanto conviene analizar ese Origen"
      ]
    },
    {
      "cell_type": "code",
      "execution_count": 44,
      "metadata": {
        "colab": {
          "base_uri": "https://localhost:8080/",
          "height": 1000
        },
        "id": "SGB8lSPB_Nvt",
        "outputId": "bfe08708-6728-43d9-d816-0f6bdd6f855b"
      },
      "outputs": [
        {
          "output_type": "execute_result",
          "data": {
            "text/plain": [
              "       Aero #Vuelo Origen                 STA                 ETA  \\\n",
              "0        DN   6049    IGR 2019-01-01 01:50:00 2019-01-01 01:50:00   \n",
              "1        4M   7623    COR 2019-01-01 06:17:00 2023-03-08 05:50:00   \n",
              "2        4M   7653    MDZ 2019-01-01 07:37:00 2023-03-08 07:30:00   \n",
              "3        AR   1671    NQN 2019-01-01 07:40:00 2023-03-08 07:29:00   \n",
              "4        AR   1611    MDQ 2019-01-01 07:55:00 2023-03-08 07:45:00   \n",
              "...     ...    ...    ...                 ...                 ...   \n",
              "125575   WJ   3189    BRC 2022-09-30 21:42:00 2023-03-08 21:37:00   \n",
              "125577   WJ   3481    SLA 2022-09-30 22:08:00 2023-03-08 22:03:00   \n",
              "125579   WJ   3269    COR 2022-09-30 22:21:00 2023-03-08 22:01:00   \n",
              "125580   FO   5225    TUC 2022-09-30 23:25:00 2023-03-08 23:20:00   \n",
              "125581   WJ   3243    MDZ 2022-09-30 23:30:00 2023-03-08 23:15:00   \n",
              "\n",
              "                       ATA   Tipo Pos Ter Sec  ...  \\\n",
              "0      2019-01-01 01:22:00  1 C P  31   A   2  ...   \n",
              "1      2019-01-01 06:02:00  1 C P   9   A   2  ...   \n",
              "2      2019-01-01 07:30:00  1 C P  10   A   2  ...   \n",
              "3      2019-01-01 07:26:00  1 C P   7   A   2  ...   \n",
              "4      2019-01-01 07:43:00  1 C P  26   A   2  ...   \n",
              "...                    ...    ...  ..  ..  ..  ...   \n",
              "125575 2022-09-30 21:41:00  1 C P  30   A   N  ...   \n",
              "125577 2022-09-30 22:05:00  1 C P  17   A   N  ...   \n",
              "125579 2022-09-30 22:02:00  1 C P  16   A   N  ...   \n",
              "125580 2022-09-30 23:15:00  1 C P  66   A   N  ...   \n",
              "125581 2022-09-30 23:19:00  1 C P  67   A   N  ...   \n",
              "\n",
              "                                                 name  \\\n",
              "0          Cataratas Del Iguazú International Airport   \n",
              "1                Ingeniero Ambrosio Taravella Airport   \n",
              "2                               El Plumerillo Airport   \n",
              "3                            Presidente Peron Airport   \n",
              "4                Ástor Piazzola International Airport   \n",
              "...                                               ...   \n",
              "125575                San Carlos De Bariloche Airport   \n",
              "125577  Martin Miguel De Guemes International Airport   \n",
              "125579           Ingeniero Ambrosio Taravella Airport   \n",
              "125580             Teniente Benjamin Matienzo Airport   \n",
              "125581                          El Plumerillo Airport   \n",
              "\n",
              "                   municipality  country_x iso_country    region  \\\n",
              "0                 Puerto Iguazu  Argentina          AR  Americas   \n",
              "1                       Cordoba  Argentina          AR  Americas   \n",
              "2                       Mendoza  Argentina          AR  Americas   \n",
              "3                       Neuquen  Argentina          AR  Americas   \n",
              "4                 Mar del Plata  Argentina          AR  Americas   \n",
              "...                         ...        ...         ...       ...   \n",
              "125575  San Carlos de Bariloche  Argentina          AR  Americas   \n",
              "125577                    Salta  Argentina          AR  Americas   \n",
              "125579                  Cordoba  Argentina          AR  Americas   \n",
              "125580    San Miguel de Tucumán  Argentina          AR  Americas   \n",
              "125581                  Mendoza  Argentina          AR  Americas   \n",
              "\n",
              "                             sub-region latitude_deg  longitude_deg  \\\n",
              "0       Latin America and the Caribbean   -25.737301     -54.473400   \n",
              "1       Latin America and the Caribbean   -31.323601     -64.208000   \n",
              "2       Latin America and the Caribbean   -32.831699     -68.792900   \n",
              "3       Latin America and the Caribbean   -38.949001     -68.155701   \n",
              "4       Latin America and the Caribbean   -37.934200     -57.573300   \n",
              "...                                 ...          ...            ...   \n",
              "125575  Latin America and the Caribbean   -41.151199     -71.157501   \n",
              "125577  Latin America and the Caribbean   -24.856001     -65.486198   \n",
              "125579  Latin America and the Caribbean   -31.323601     -64.208000   \n",
              "125580  Latin America and the Caribbean   -26.840900     -65.104897   \n",
              "125581  Latin America and the Caribbean   -32.831699     -68.792900   \n",
              "\n",
              "                                         wikipedia_link_x  local_code  \n",
              "0       https://en.wikipedia.org/wiki/Cataratas_del_Ig...         IGU  \n",
              "1       https://en.wikipedia.org/wiki/Ingeniero_Ambros...         CBA  \n",
              "2       https://en.wikipedia.org/wiki/Governor_Francis...         DOZ  \n",
              "3       https://en.wikipedia.org/wiki/Presidente_Per%C...         NEU  \n",
              "4       https://en.wikipedia.org/wiki/%C3%81stor_Piazz...         MDP  \n",
              "...                                                   ...         ...  \n",
              "125575  https://en.wikipedia.org/wiki/San_Carlos_de_Ba...         BAR  \n",
              "125577  https://en.wikipedia.org/wiki/Mart%C3%ADn_Migu...         SAL  \n",
              "125579  https://en.wikipedia.org/wiki/Ingeniero_Ambros...         CBA  \n",
              "125580  https://en.wikipedia.org/wiki/Benjam%C3%ADn_Ma...         TUC  \n",
              "125581  https://en.wikipedia.org/wiki/Governor_Francis...         DOZ  \n",
              "\n",
              "[109221 rows x 37 columns]"
            ],
            "text/html": [
              "\n",
              "  <div id=\"df-3dd6575a-8daa-4966-b33f-1947350e555a\">\n",
              "    <div class=\"colab-df-container\">\n",
              "      <div>\n",
              "<style scoped>\n",
              "    .dataframe tbody tr th:only-of-type {\n",
              "        vertical-align: middle;\n",
              "    }\n",
              "\n",
              "    .dataframe tbody tr th {\n",
              "        vertical-align: top;\n",
              "    }\n",
              "\n",
              "    .dataframe thead th {\n",
              "        text-align: right;\n",
              "    }\n",
              "</style>\n",
              "<table border=\"1\" class=\"dataframe\">\n",
              "  <thead>\n",
              "    <tr style=\"text-align: right;\">\n",
              "      <th></th>\n",
              "      <th>Aero</th>\n",
              "      <th>#Vuelo</th>\n",
              "      <th>Origen</th>\n",
              "      <th>STA</th>\n",
              "      <th>ETA</th>\n",
              "      <th>ATA</th>\n",
              "      <th>Tipo</th>\n",
              "      <th>Pos</th>\n",
              "      <th>Ter</th>\n",
              "      <th>Sec</th>\n",
              "      <th>...</th>\n",
              "      <th>name</th>\n",
              "      <th>municipality</th>\n",
              "      <th>country_x</th>\n",
              "      <th>iso_country</th>\n",
              "      <th>region</th>\n",
              "      <th>sub-region</th>\n",
              "      <th>latitude_deg</th>\n",
              "      <th>longitude_deg</th>\n",
              "      <th>wikipedia_link_x</th>\n",
              "      <th>local_code</th>\n",
              "    </tr>\n",
              "  </thead>\n",
              "  <tbody>\n",
              "    <tr>\n",
              "      <th>0</th>\n",
              "      <td>DN</td>\n",
              "      <td>6049</td>\n",
              "      <td>IGR</td>\n",
              "      <td>2019-01-01 01:50:00</td>\n",
              "      <td>2019-01-01 01:50:00</td>\n",
              "      <td>2019-01-01 01:22:00</td>\n",
              "      <td>1 C P</td>\n",
              "      <td>31</td>\n",
              "      <td>A</td>\n",
              "      <td>2</td>\n",
              "      <td>...</td>\n",
              "      <td>Cataratas Del Iguazú International Airport</td>\n",
              "      <td>Puerto Iguazu</td>\n",
              "      <td>Argentina</td>\n",
              "      <td>AR</td>\n",
              "      <td>Americas</td>\n",
              "      <td>Latin America and the Caribbean</td>\n",
              "      <td>-25.737301</td>\n",
              "      <td>-54.473400</td>\n",
              "      <td>https://en.wikipedia.org/wiki/Cataratas_del_Ig...</td>\n",
              "      <td>IGU</td>\n",
              "    </tr>\n",
              "    <tr>\n",
              "      <th>1</th>\n",
              "      <td>4M</td>\n",
              "      <td>7623</td>\n",
              "      <td>COR</td>\n",
              "      <td>2019-01-01 06:17:00</td>\n",
              "      <td>2023-03-08 05:50:00</td>\n",
              "      <td>2019-01-01 06:02:00</td>\n",
              "      <td>1 C P</td>\n",
              "      <td>9</td>\n",
              "      <td>A</td>\n",
              "      <td>2</td>\n",
              "      <td>...</td>\n",
              "      <td>Ingeniero Ambrosio Taravella Airport</td>\n",
              "      <td>Cordoba</td>\n",
              "      <td>Argentina</td>\n",
              "      <td>AR</td>\n",
              "      <td>Americas</td>\n",
              "      <td>Latin America and the Caribbean</td>\n",
              "      <td>-31.323601</td>\n",
              "      <td>-64.208000</td>\n",
              "      <td>https://en.wikipedia.org/wiki/Ingeniero_Ambros...</td>\n",
              "      <td>CBA</td>\n",
              "    </tr>\n",
              "    <tr>\n",
              "      <th>2</th>\n",
              "      <td>4M</td>\n",
              "      <td>7653</td>\n",
              "      <td>MDZ</td>\n",
              "      <td>2019-01-01 07:37:00</td>\n",
              "      <td>2023-03-08 07:30:00</td>\n",
              "      <td>2019-01-01 07:30:00</td>\n",
              "      <td>1 C P</td>\n",
              "      <td>10</td>\n",
              "      <td>A</td>\n",
              "      <td>2</td>\n",
              "      <td>...</td>\n",
              "      <td>El Plumerillo Airport</td>\n",
              "      <td>Mendoza</td>\n",
              "      <td>Argentina</td>\n",
              "      <td>AR</td>\n",
              "      <td>Americas</td>\n",
              "      <td>Latin America and the Caribbean</td>\n",
              "      <td>-32.831699</td>\n",
              "      <td>-68.792900</td>\n",
              "      <td>https://en.wikipedia.org/wiki/Governor_Francis...</td>\n",
              "      <td>DOZ</td>\n",
              "    </tr>\n",
              "    <tr>\n",
              "      <th>3</th>\n",
              "      <td>AR</td>\n",
              "      <td>1671</td>\n",
              "      <td>NQN</td>\n",
              "      <td>2019-01-01 07:40:00</td>\n",
              "      <td>2023-03-08 07:29:00</td>\n",
              "      <td>2019-01-01 07:26:00</td>\n",
              "      <td>1 C P</td>\n",
              "      <td>7</td>\n",
              "      <td>A</td>\n",
              "      <td>2</td>\n",
              "      <td>...</td>\n",
              "      <td>Presidente Peron Airport</td>\n",
              "      <td>Neuquen</td>\n",
              "      <td>Argentina</td>\n",
              "      <td>AR</td>\n",
              "      <td>Americas</td>\n",
              "      <td>Latin America and the Caribbean</td>\n",
              "      <td>-38.949001</td>\n",
              "      <td>-68.155701</td>\n",
              "      <td>https://en.wikipedia.org/wiki/Presidente_Per%C...</td>\n",
              "      <td>NEU</td>\n",
              "    </tr>\n",
              "    <tr>\n",
              "      <th>4</th>\n",
              "      <td>AR</td>\n",
              "      <td>1611</td>\n",
              "      <td>MDQ</td>\n",
              "      <td>2019-01-01 07:55:00</td>\n",
              "      <td>2023-03-08 07:45:00</td>\n",
              "      <td>2019-01-01 07:43:00</td>\n",
              "      <td>1 C P</td>\n",
              "      <td>26</td>\n",
              "      <td>A</td>\n",
              "      <td>2</td>\n",
              "      <td>...</td>\n",
              "      <td>Ástor Piazzola International Airport</td>\n",
              "      <td>Mar del Plata</td>\n",
              "      <td>Argentina</td>\n",
              "      <td>AR</td>\n",
              "      <td>Americas</td>\n",
              "      <td>Latin America and the Caribbean</td>\n",
              "      <td>-37.934200</td>\n",
              "      <td>-57.573300</td>\n",
              "      <td>https://en.wikipedia.org/wiki/%C3%81stor_Piazz...</td>\n",
              "      <td>MDP</td>\n",
              "    </tr>\n",
              "    <tr>\n",
              "      <th>...</th>\n",
              "      <td>...</td>\n",
              "      <td>...</td>\n",
              "      <td>...</td>\n",
              "      <td>...</td>\n",
              "      <td>...</td>\n",
              "      <td>...</td>\n",
              "      <td>...</td>\n",
              "      <td>...</td>\n",
              "      <td>...</td>\n",
              "      <td>...</td>\n",
              "      <td>...</td>\n",
              "      <td>...</td>\n",
              "      <td>...</td>\n",
              "      <td>...</td>\n",
              "      <td>...</td>\n",
              "      <td>...</td>\n",
              "      <td>...</td>\n",
              "      <td>...</td>\n",
              "      <td>...</td>\n",
              "      <td>...</td>\n",
              "      <td>...</td>\n",
              "    </tr>\n",
              "    <tr>\n",
              "      <th>125575</th>\n",
              "      <td>WJ</td>\n",
              "      <td>3189</td>\n",
              "      <td>BRC</td>\n",
              "      <td>2022-09-30 21:42:00</td>\n",
              "      <td>2023-03-08 21:37:00</td>\n",
              "      <td>2022-09-30 21:41:00</td>\n",
              "      <td>1 C P</td>\n",
              "      <td>30</td>\n",
              "      <td>A</td>\n",
              "      <td>N</td>\n",
              "      <td>...</td>\n",
              "      <td>San Carlos De Bariloche Airport</td>\n",
              "      <td>San Carlos de Bariloche</td>\n",
              "      <td>Argentina</td>\n",
              "      <td>AR</td>\n",
              "      <td>Americas</td>\n",
              "      <td>Latin America and the Caribbean</td>\n",
              "      <td>-41.151199</td>\n",
              "      <td>-71.157501</td>\n",
              "      <td>https://en.wikipedia.org/wiki/San_Carlos_de_Ba...</td>\n",
              "      <td>BAR</td>\n",
              "    </tr>\n",
              "    <tr>\n",
              "      <th>125577</th>\n",
              "      <td>WJ</td>\n",
              "      <td>3481</td>\n",
              "      <td>SLA</td>\n",
              "      <td>2022-09-30 22:08:00</td>\n",
              "      <td>2023-03-08 22:03:00</td>\n",
              "      <td>2022-09-30 22:05:00</td>\n",
              "      <td>1 C P</td>\n",
              "      <td>17</td>\n",
              "      <td>A</td>\n",
              "      <td>N</td>\n",
              "      <td>...</td>\n",
              "      <td>Martin Miguel De Guemes International Airport</td>\n",
              "      <td>Salta</td>\n",
              "      <td>Argentina</td>\n",
              "      <td>AR</td>\n",
              "      <td>Americas</td>\n",
              "      <td>Latin America and the Caribbean</td>\n",
              "      <td>-24.856001</td>\n",
              "      <td>-65.486198</td>\n",
              "      <td>https://en.wikipedia.org/wiki/Mart%C3%ADn_Migu...</td>\n",
              "      <td>SAL</td>\n",
              "    </tr>\n",
              "    <tr>\n",
              "      <th>125579</th>\n",
              "      <td>WJ</td>\n",
              "      <td>3269</td>\n",
              "      <td>COR</td>\n",
              "      <td>2022-09-30 22:21:00</td>\n",
              "      <td>2023-03-08 22:01:00</td>\n",
              "      <td>2022-09-30 22:02:00</td>\n",
              "      <td>1 C P</td>\n",
              "      <td>16</td>\n",
              "      <td>A</td>\n",
              "      <td>N</td>\n",
              "      <td>...</td>\n",
              "      <td>Ingeniero Ambrosio Taravella Airport</td>\n",
              "      <td>Cordoba</td>\n",
              "      <td>Argentina</td>\n",
              "      <td>AR</td>\n",
              "      <td>Americas</td>\n",
              "      <td>Latin America and the Caribbean</td>\n",
              "      <td>-31.323601</td>\n",
              "      <td>-64.208000</td>\n",
              "      <td>https://en.wikipedia.org/wiki/Ingeniero_Ambros...</td>\n",
              "      <td>CBA</td>\n",
              "    </tr>\n",
              "    <tr>\n",
              "      <th>125580</th>\n",
              "      <td>FO</td>\n",
              "      <td>5225</td>\n",
              "      <td>TUC</td>\n",
              "      <td>2022-09-30 23:25:00</td>\n",
              "      <td>2023-03-08 23:20:00</td>\n",
              "      <td>2022-09-30 23:15:00</td>\n",
              "      <td>1 C P</td>\n",
              "      <td>66</td>\n",
              "      <td>A</td>\n",
              "      <td>N</td>\n",
              "      <td>...</td>\n",
              "      <td>Teniente Benjamin Matienzo Airport</td>\n",
              "      <td>San Miguel de Tucumán</td>\n",
              "      <td>Argentina</td>\n",
              "      <td>AR</td>\n",
              "      <td>Americas</td>\n",
              "      <td>Latin America and the Caribbean</td>\n",
              "      <td>-26.840900</td>\n",
              "      <td>-65.104897</td>\n",
              "      <td>https://en.wikipedia.org/wiki/Benjam%C3%ADn_Ma...</td>\n",
              "      <td>TUC</td>\n",
              "    </tr>\n",
              "    <tr>\n",
              "      <th>125581</th>\n",
              "      <td>WJ</td>\n",
              "      <td>3243</td>\n",
              "      <td>MDZ</td>\n",
              "      <td>2022-09-30 23:30:00</td>\n",
              "      <td>2023-03-08 23:15:00</td>\n",
              "      <td>2022-09-30 23:19:00</td>\n",
              "      <td>1 C P</td>\n",
              "      <td>67</td>\n",
              "      <td>A</td>\n",
              "      <td>N</td>\n",
              "      <td>...</td>\n",
              "      <td>El Plumerillo Airport</td>\n",
              "      <td>Mendoza</td>\n",
              "      <td>Argentina</td>\n",
              "      <td>AR</td>\n",
              "      <td>Americas</td>\n",
              "      <td>Latin America and the Caribbean</td>\n",
              "      <td>-32.831699</td>\n",
              "      <td>-68.792900</td>\n",
              "      <td>https://en.wikipedia.org/wiki/Governor_Francis...</td>\n",
              "      <td>DOZ</td>\n",
              "    </tr>\n",
              "  </tbody>\n",
              "</table>\n",
              "<p>109221 rows × 37 columns</p>\n",
              "</div>\n",
              "      <button class=\"colab-df-convert\" onclick=\"convertToInteractive('df-3dd6575a-8daa-4966-b33f-1947350e555a')\"\n",
              "              title=\"Convert this dataframe to an interactive table.\"\n",
              "              style=\"display:none;\">\n",
              "        \n",
              "  <svg xmlns=\"http://www.w3.org/2000/svg\" height=\"24px\"viewBox=\"0 0 24 24\"\n",
              "       width=\"24px\">\n",
              "    <path d=\"M0 0h24v24H0V0z\" fill=\"none\"/>\n",
              "    <path d=\"M18.56 5.44l.94 2.06.94-2.06 2.06-.94-2.06-.94-.94-2.06-.94 2.06-2.06.94zm-11 1L8.5 8.5l.94-2.06 2.06-.94-2.06-.94L8.5 2.5l-.94 2.06-2.06.94zm10 10l.94 2.06.94-2.06 2.06-.94-2.06-.94-.94-2.06-.94 2.06-2.06.94z\"/><path d=\"M17.41 7.96l-1.37-1.37c-.4-.4-.92-.59-1.43-.59-.52 0-1.04.2-1.43.59L10.3 9.45l-7.72 7.72c-.78.78-.78 2.05 0 2.83L4 21.41c.39.39.9.59 1.41.59.51 0 1.02-.2 1.41-.59l7.78-7.78 2.81-2.81c.8-.78.8-2.07 0-2.86zM5.41 20L4 18.59l7.72-7.72 1.47 1.35L5.41 20z\"/>\n",
              "  </svg>\n",
              "      </button>\n",
              "      \n",
              "  <style>\n",
              "    .colab-df-container {\n",
              "      display:flex;\n",
              "      flex-wrap:wrap;\n",
              "      gap: 12px;\n",
              "    }\n",
              "\n",
              "    .colab-df-convert {\n",
              "      background-color: #E8F0FE;\n",
              "      border: none;\n",
              "      border-radius: 50%;\n",
              "      cursor: pointer;\n",
              "      display: none;\n",
              "      fill: #1967D2;\n",
              "      height: 32px;\n",
              "      padding: 0 0 0 0;\n",
              "      width: 32px;\n",
              "    }\n",
              "\n",
              "    .colab-df-convert:hover {\n",
              "      background-color: #E2EBFA;\n",
              "      box-shadow: 0px 1px 2px rgba(60, 64, 67, 0.3), 0px 1px 3px 1px rgba(60, 64, 67, 0.15);\n",
              "      fill: #174EA6;\n",
              "    }\n",
              "\n",
              "    [theme=dark] .colab-df-convert {\n",
              "      background-color: #3B4455;\n",
              "      fill: #D2E3FC;\n",
              "    }\n",
              "\n",
              "    [theme=dark] .colab-df-convert:hover {\n",
              "      background-color: #434B5C;\n",
              "      box-shadow: 0px 1px 3px 1px rgba(0, 0, 0, 0.15);\n",
              "      filter: drop-shadow(0px 1px 2px rgba(0, 0, 0, 0.3));\n",
              "      fill: #FFFFFF;\n",
              "    }\n",
              "  </style>\n",
              "\n",
              "      <script>\n",
              "        const buttonEl =\n",
              "          document.querySelector('#df-3dd6575a-8daa-4966-b33f-1947350e555a button.colab-df-convert');\n",
              "        buttonEl.style.display =\n",
              "          google.colab.kernel.accessAllowed ? 'block' : 'none';\n",
              "\n",
              "        async function convertToInteractive(key) {\n",
              "          const element = document.querySelector('#df-3dd6575a-8daa-4966-b33f-1947350e555a');\n",
              "          const dataTable =\n",
              "            await google.colab.kernel.invokeFunction('convertToInteractive',\n",
              "                                                     [key], {});\n",
              "          if (!dataTable) return;\n",
              "\n",
              "          const docLinkHtml = 'Like what you see? Visit the ' +\n",
              "            '<a target=\"_blank\" href=https://colab.research.google.com/notebooks/data_table.ipynb>data table notebook</a>'\n",
              "            + ' to learn more about interactive tables.';\n",
              "          element.innerHTML = '';\n",
              "          dataTable['output_type'] = 'display_data';\n",
              "          await google.colab.output.renderOutput(dataTable, element);\n",
              "          const docLink = document.createElement('div');\n",
              "          docLink.innerHTML = docLinkHtml;\n",
              "          element.appendChild(docLink);\n",
              "        }\n",
              "      </script>\n",
              "    </div>\n",
              "  </div>\n",
              "  "
            ]
          },
          "metadata": {},
          "execution_count": 44
        }
      ],
      "source": [
        "# Creo un nuevo DF para analizar sólo Argentina\n",
        "df_Arg=df_Vuelos.loc[df_Vuelos.country_x=='Argentina',:]\n",
        "df_Arg"
      ]
    },
    {
      "cell_type": "code",
      "execution_count": 45,
      "metadata": {
        "colab": {
          "base_uri": "https://localhost:8080/"
        },
        "id": "4YIvpZrJW8IA",
        "outputId": "37dc92f9-d5ac-4e84-b39c-a8ef3dd5d6d4"
      },
      "outputs": [
        {
          "output_type": "execute_result",
          "data": {
            "text/plain": [
              "Index(['Aero', '#Vuelo', 'Origen', 'STA', 'ETA', 'ATA', 'Tipo', 'Pos', 'Ter',\n",
              "       'Sec', 'Rmk', 'Cin', 'Pax', 'Mat', 'Acft', 'Aero.1', '#Rot', 'Cabecera',\n",
              "       'año', 'mes', 'hora', 'WEEKDAY', 'Convert', 'Demora_Min', 'Delayed',\n",
              "       'municipality', 'local_code'],\n",
              "      dtype='object')"
            ]
          },
          "metadata": {},
          "execution_count": 45
        }
      ],
      "source": [
        "# Limpiamos información irrelevante o duplicada\n",
        "col_del=['HOUR','type','name','country_x','iso_country','region','sub-region','latitude_deg','longitude_deg','wikipedia_link_x']\n",
        "Arg_Res=df_Arg.drop(labels=col_del, axis=1)\n",
        "Arg_Res.columns"
      ]
    },
    {
      "cell_type": "code",
      "execution_count": 46,
      "metadata": {
        "colab": {
          "base_uri": "https://localhost:8080/",
          "height": 399
        },
        "id": "JkhOmMkIRnaE",
        "outputId": "d2d9d554-8c7a-4c8d-f846-37a15c92c7ec"
      },
      "outputs": [
        {
          "output_type": "execute_result",
          "data": {
            "text/plain": [
              "                 Pax       Cabecera           año            mes  \\\n",
              "count  109221.000000  109221.000000  109221.00000  109221.000000   \n",
              "mean      116.645572      17.820172    2020.24563       6.048471   \n",
              "std        50.436555       7.970547       1.28298       3.399214   \n",
              "min         0.000000      13.000000    2019.00000       1.000000   \n",
              "25%        86.000000      13.000000    2019.00000       3.000000   \n",
              "50%       126.000000      13.000000    2020.00000       6.000000   \n",
              "75%       160.000000      31.000000    2022.00000       9.000000   \n",
              "max       203.000000      31.000000    2022.00000      12.000000   \n",
              "\n",
              "                hora        WEEKDAY                      Convert  \\\n",
              "count  109221.000000  109221.000000                       109221   \n",
              "mean       14.771207       2.949927  -1 days +23:59:04.679319912   \n",
              "std         5.795244       1.982914    0 days 00:40:52.026082805   \n",
              "min         0.000000       0.000000            -1 days +13:20:00   \n",
              "25%        11.000000       1.000000            -1 days +23:43:00   \n",
              "50%        16.000000       3.000000            -1 days +23:52:00   \n",
              "75%        20.000000       5.000000              0 days 00:01:00   \n",
              "max        23.000000       6.000000              1 days 07:25:00   \n",
              "\n",
              "          Demora_Min        Delayed  \n",
              "count  109221.000000  109221.000000  \n",
              "mean       -0.922011       0.253843  \n",
              "std        40.867101       0.435211  \n",
              "min      -640.000000       0.000000  \n",
              "25%       -17.000000       0.000000  \n",
              "50%        -8.000000       0.000000  \n",
              "75%         1.000000       1.000000  \n",
              "max      1885.000000       1.000000  "
            ],
            "text/html": [
              "\n",
              "  <div id=\"df-1c78cca2-0c19-43af-af0e-eb36518007e2\">\n",
              "    <div class=\"colab-df-container\">\n",
              "      <div>\n",
              "<style scoped>\n",
              "    .dataframe tbody tr th:only-of-type {\n",
              "        vertical-align: middle;\n",
              "    }\n",
              "\n",
              "    .dataframe tbody tr th {\n",
              "        vertical-align: top;\n",
              "    }\n",
              "\n",
              "    .dataframe thead th {\n",
              "        text-align: right;\n",
              "    }\n",
              "</style>\n",
              "<table border=\"1\" class=\"dataframe\">\n",
              "  <thead>\n",
              "    <tr style=\"text-align: right;\">\n",
              "      <th></th>\n",
              "      <th>Pax</th>\n",
              "      <th>Cabecera</th>\n",
              "      <th>año</th>\n",
              "      <th>mes</th>\n",
              "      <th>hora</th>\n",
              "      <th>WEEKDAY</th>\n",
              "      <th>Convert</th>\n",
              "      <th>Demora_Min</th>\n",
              "      <th>Delayed</th>\n",
              "    </tr>\n",
              "  </thead>\n",
              "  <tbody>\n",
              "    <tr>\n",
              "      <th>count</th>\n",
              "      <td>109221.000000</td>\n",
              "      <td>109221.000000</td>\n",
              "      <td>109221.00000</td>\n",
              "      <td>109221.000000</td>\n",
              "      <td>109221.000000</td>\n",
              "      <td>109221.000000</td>\n",
              "      <td>109221</td>\n",
              "      <td>109221.000000</td>\n",
              "      <td>109221.000000</td>\n",
              "    </tr>\n",
              "    <tr>\n",
              "      <th>mean</th>\n",
              "      <td>116.645572</td>\n",
              "      <td>17.820172</td>\n",
              "      <td>2020.24563</td>\n",
              "      <td>6.048471</td>\n",
              "      <td>14.771207</td>\n",
              "      <td>2.949927</td>\n",
              "      <td>-1 days +23:59:04.679319912</td>\n",
              "      <td>-0.922011</td>\n",
              "      <td>0.253843</td>\n",
              "    </tr>\n",
              "    <tr>\n",
              "      <th>std</th>\n",
              "      <td>50.436555</td>\n",
              "      <td>7.970547</td>\n",
              "      <td>1.28298</td>\n",
              "      <td>3.399214</td>\n",
              "      <td>5.795244</td>\n",
              "      <td>1.982914</td>\n",
              "      <td>0 days 00:40:52.026082805</td>\n",
              "      <td>40.867101</td>\n",
              "      <td>0.435211</td>\n",
              "    </tr>\n",
              "    <tr>\n",
              "      <th>min</th>\n",
              "      <td>0.000000</td>\n",
              "      <td>13.000000</td>\n",
              "      <td>2019.00000</td>\n",
              "      <td>1.000000</td>\n",
              "      <td>0.000000</td>\n",
              "      <td>0.000000</td>\n",
              "      <td>-1 days +13:20:00</td>\n",
              "      <td>-640.000000</td>\n",
              "      <td>0.000000</td>\n",
              "    </tr>\n",
              "    <tr>\n",
              "      <th>25%</th>\n",
              "      <td>86.000000</td>\n",
              "      <td>13.000000</td>\n",
              "      <td>2019.00000</td>\n",
              "      <td>3.000000</td>\n",
              "      <td>11.000000</td>\n",
              "      <td>1.000000</td>\n",
              "      <td>-1 days +23:43:00</td>\n",
              "      <td>-17.000000</td>\n",
              "      <td>0.000000</td>\n",
              "    </tr>\n",
              "    <tr>\n",
              "      <th>50%</th>\n",
              "      <td>126.000000</td>\n",
              "      <td>13.000000</td>\n",
              "      <td>2020.00000</td>\n",
              "      <td>6.000000</td>\n",
              "      <td>16.000000</td>\n",
              "      <td>3.000000</td>\n",
              "      <td>-1 days +23:52:00</td>\n",
              "      <td>-8.000000</td>\n",
              "      <td>0.000000</td>\n",
              "    </tr>\n",
              "    <tr>\n",
              "      <th>75%</th>\n",
              "      <td>160.000000</td>\n",
              "      <td>31.000000</td>\n",
              "      <td>2022.00000</td>\n",
              "      <td>9.000000</td>\n",
              "      <td>20.000000</td>\n",
              "      <td>5.000000</td>\n",
              "      <td>0 days 00:01:00</td>\n",
              "      <td>1.000000</td>\n",
              "      <td>1.000000</td>\n",
              "    </tr>\n",
              "    <tr>\n",
              "      <th>max</th>\n",
              "      <td>203.000000</td>\n",
              "      <td>31.000000</td>\n",
              "      <td>2022.00000</td>\n",
              "      <td>12.000000</td>\n",
              "      <td>23.000000</td>\n",
              "      <td>6.000000</td>\n",
              "      <td>1 days 07:25:00</td>\n",
              "      <td>1885.000000</td>\n",
              "      <td>1.000000</td>\n",
              "    </tr>\n",
              "  </tbody>\n",
              "</table>\n",
              "</div>\n",
              "      <button class=\"colab-df-convert\" onclick=\"convertToInteractive('df-1c78cca2-0c19-43af-af0e-eb36518007e2')\"\n",
              "              title=\"Convert this dataframe to an interactive table.\"\n",
              "              style=\"display:none;\">\n",
              "        \n",
              "  <svg xmlns=\"http://www.w3.org/2000/svg\" height=\"24px\"viewBox=\"0 0 24 24\"\n",
              "       width=\"24px\">\n",
              "    <path d=\"M0 0h24v24H0V0z\" fill=\"none\"/>\n",
              "    <path d=\"M18.56 5.44l.94 2.06.94-2.06 2.06-.94-2.06-.94-.94-2.06-.94 2.06-2.06.94zm-11 1L8.5 8.5l.94-2.06 2.06-.94-2.06-.94L8.5 2.5l-.94 2.06-2.06.94zm10 10l.94 2.06.94-2.06 2.06-.94-2.06-.94-.94-2.06-.94 2.06-2.06.94z\"/><path d=\"M17.41 7.96l-1.37-1.37c-.4-.4-.92-.59-1.43-.59-.52 0-1.04.2-1.43.59L10.3 9.45l-7.72 7.72c-.78.78-.78 2.05 0 2.83L4 21.41c.39.39.9.59 1.41.59.51 0 1.02-.2 1.41-.59l7.78-7.78 2.81-2.81c.8-.78.8-2.07 0-2.86zM5.41 20L4 18.59l7.72-7.72 1.47 1.35L5.41 20z\"/>\n",
              "  </svg>\n",
              "      </button>\n",
              "      \n",
              "  <style>\n",
              "    .colab-df-container {\n",
              "      display:flex;\n",
              "      flex-wrap:wrap;\n",
              "      gap: 12px;\n",
              "    }\n",
              "\n",
              "    .colab-df-convert {\n",
              "      background-color: #E8F0FE;\n",
              "      border: none;\n",
              "      border-radius: 50%;\n",
              "      cursor: pointer;\n",
              "      display: none;\n",
              "      fill: #1967D2;\n",
              "      height: 32px;\n",
              "      padding: 0 0 0 0;\n",
              "      width: 32px;\n",
              "    }\n",
              "\n",
              "    .colab-df-convert:hover {\n",
              "      background-color: #E2EBFA;\n",
              "      box-shadow: 0px 1px 2px rgba(60, 64, 67, 0.3), 0px 1px 3px 1px rgba(60, 64, 67, 0.15);\n",
              "      fill: #174EA6;\n",
              "    }\n",
              "\n",
              "    [theme=dark] .colab-df-convert {\n",
              "      background-color: #3B4455;\n",
              "      fill: #D2E3FC;\n",
              "    }\n",
              "\n",
              "    [theme=dark] .colab-df-convert:hover {\n",
              "      background-color: #434B5C;\n",
              "      box-shadow: 0px 1px 3px 1px rgba(0, 0, 0, 0.15);\n",
              "      filter: drop-shadow(0px 1px 2px rgba(0, 0, 0, 0.3));\n",
              "      fill: #FFFFFF;\n",
              "    }\n",
              "  </style>\n",
              "\n",
              "      <script>\n",
              "        const buttonEl =\n",
              "          document.querySelector('#df-1c78cca2-0c19-43af-af0e-eb36518007e2 button.colab-df-convert');\n",
              "        buttonEl.style.display =\n",
              "          google.colab.kernel.accessAllowed ? 'block' : 'none';\n",
              "\n",
              "        async function convertToInteractive(key) {\n",
              "          const element = document.querySelector('#df-1c78cca2-0c19-43af-af0e-eb36518007e2');\n",
              "          const dataTable =\n",
              "            await google.colab.kernel.invokeFunction('convertToInteractive',\n",
              "                                                     [key], {});\n",
              "          if (!dataTable) return;\n",
              "\n",
              "          const docLinkHtml = 'Like what you see? Visit the ' +\n",
              "            '<a target=\"_blank\" href=https://colab.research.google.com/notebooks/data_table.ipynb>data table notebook</a>'\n",
              "            + ' to learn more about interactive tables.';\n",
              "          element.innerHTML = '';\n",
              "          dataTable['output_type'] = 'display_data';\n",
              "          await google.colab.output.renderOutput(dataTable, element);\n",
              "          const docLink = document.createElement('div');\n",
              "          docLink.innerHTML = docLinkHtml;\n",
              "          element.appendChild(docLink);\n",
              "        }\n",
              "      </script>\n",
              "    </div>\n",
              "  </div>\n",
              "  "
            ]
          },
          "metadata": {},
          "execution_count": 46
        }
      ],
      "source": [
        "Arg_Res.describe()"
      ]
    },
    {
      "cell_type": "code",
      "execution_count": 47,
      "metadata": {
        "colab": {
          "base_uri": "https://localhost:8080/"
        },
        "id": "LHa2H0f3Qy2s",
        "outputId": "9664f3c9-3456-4007-b74a-ac40a7b150c3"
      },
      "outputs": [
        {
          "output_type": "execute_result",
          "data": {
            "text/plain": [
              "municipality\n",
              "San Carlos de Bariloche    2980\n",
              "Cordoba                    2262\n",
              "Mendoza                    2137\n",
              "Ushuaia                    2028\n",
              "Puerto Iguazu              2012\n",
              "                           ... \n",
              "Necochea                      0\n",
              "General Pico                  0\n",
              "Puerto Deseado                0\n",
              "Puerto Santa Cruz             0\n",
              "Miramar                       0\n",
              "Name: Delayed, Length: 62, dtype: int64"
            ]
          },
          "metadata": {},
          "execution_count": 47
        }
      ],
      "source": [
        "# Analizo los aeropuertos con más cantidad de vuelos demorados\n",
        "Arg_Res.groupby('municipality')['Delayed'].sum().sort_values(ascending=False)"
      ]
    },
    {
      "cell_type": "code",
      "execution_count": 48,
      "metadata": {
        "colab": {
          "base_uri": "https://localhost:8080/"
        },
        "id": "7MUpdqfDU9Ui",
        "outputId": "712b8182-bb2c-429a-edac-2113c44a3abe"
      },
      "outputs": [
        {
          "output_type": "execute_result",
          "data": {
            "text/plain": [
              "municipality\n",
              "Buenos Aires                    86.798246\n",
              "San Julian                      40.500000\n",
              "Villa Mercedes                  17.033333\n",
              "Malargue                        14.642857\n",
              "Tandil                          11.384615\n",
              "                                  ...    \n",
              "Rosario                         -5.888498\n",
              "Rawson                          -6.428276\n",
              "Termas de Río Hondo             -7.291367\n",
              "Viedma / Carmen de Patagones    -7.329749\n",
              "Rio Cuarto                     -11.078799\n",
              "Name: Demora_Min, Length: 62, dtype: float64"
            ]
          },
          "metadata": {},
          "execution_count": 48
        }
      ],
      "source": [
        "# Demora promedio de cada aeropuerto\n",
        "Arg_Res.groupby('municipality')['Demora_Min'].mean().sort_values(ascending=False)"
      ]
    },
    {
      "cell_type": "code",
      "execution_count": 49,
      "metadata": {
        "colab": {
          "base_uri": "https://localhost:8080/",
          "height": 279
        },
        "id": "8ATV7HCeQdZV",
        "outputId": "5ae4eb91-3d51-4f5c-bf3b-adea0059db80"
      },
      "outputs": [
        {
          "output_type": "display_data",
          "data": {
            "text/plain": [
              "<Figure size 432x288 with 1 Axes>"
            ],
            "image/png": "[encoded data removed]"
          },
          "metadata": {
            "needs_background": "light"
          }
        }
      ],
      "source": [
        "# Visualizo la distribución de los minutos de demoras\n",
        "sns.boxplot(data=Arg_Res[Arg_Res['Delayed']==1],\n",
        "            x=\"mes\", \n",
        "            y=\"Demora_Min\")\n",
        "plt.show()"
      ]
    },
    {
      "cell_type": "code",
      "source": [
        "# Vamos a remover los outliers\n",
        "def removeOutliers(df,col):\n",
        "\n",
        "    Q3 = np.quantile(df[col], 0.75)\n",
        "    print('quartil 3 es ', Q3)\n",
        "\n",
        "    Q1 = np.quantile(df[col], 0.25)\n",
        "    print('quartil 1 es ',Q1)\n",
        "    \n",
        "    IQR = Q3 - Q1\n",
        "    print('rango intercuartilico es ', IQR)\n",
        " \n",
        "    lower_range = Q1 - 1.5 * IQR\n",
        "    print('extremo inferior es ', lower_range)\n",
        "\n",
        "    upper_range = Q3 + 1.5 * IQR\n",
        "    print('extremo superior es ', upper_range)\n",
        "\n",
        "    df = df.loc[(df[col] > lower_range) & (df[col] < upper_range),:]\n",
        "\n",
        "    return df\n",
        " \n",
        " \n",
        "Arg_Res1=removeOutliers(Arg_Res,'Demora_Min')"
      ],
      "metadata": {
        "colab": {
          "base_uri": "https://localhost:8080/"
        },
        "id": "K3O8DAzoTT7v",
        "outputId": "a1e508d3-c8b4-4d42-f2fa-b9156773dd2b"
      },
      "execution_count": 50,
      "outputs": [
        {
          "output_type": "stream",
          "name": "stdout",
          "text": [
            "quartil 3 es  1.0\n",
            "quartil 1 es  -17.0\n",
            "rango intercuartilico es  18.0\n",
            "extremo inferior es  -44.0\n",
            "extremo superior es  28.0\n"
          ]
        }
      ]
    },
    {
      "cell_type": "code",
      "source": [
        "# Vemos la distribución de Minutos de demora\n",
        "sns.boxplot(data=Arg_Res1[Arg_Res1['Delayed']==1],\n",
        "            x=\"mes\", \n",
        "            y=\"Demora_Min\")\n",
        "plt.show()"
      ],
      "metadata": {
        "colab": {
          "base_uri": "https://localhost:8080/",
          "height": 279
        },
        "id": "c52ZGeqETmXz",
        "outputId": "0d378864-4344-416b-de30-b1797db99ae4"
      },
      "execution_count": 51,
      "outputs": [
        {
          "output_type": "display_data",
          "data": {
            "text/plain": [
              "<Figure size 432x288 with 1 Axes>"
            ],
            "image/png": "[encoded data removed]"
          },
          "metadata": {
            "needs_background": "light"
          }
        }
      ]
    },
    {
      "cell_type": "markdown",
      "source": [
        "No se observa ningún patrón de Demora que se diferencie según la época del año, la distribución es similar todos los meses"
      ],
      "metadata": {
        "id": "9_8PJOWGYsTJ"
      }
    },
    {
      "cell_type": "code",
      "execution_count": 52,
      "metadata": {
        "id": "lbuXIJV0KcTy",
        "colab": {
          "base_uri": "https://localhost:8080/",
          "height": 367
        },
        "outputId": "ac26e8bc-5c78-4652-d55b-fc4174f469b5"
      },
      "outputs": [
        {
          "output_type": "display_data",
          "data": {
            "text/plain": [
              "<Figure size 1440x360 with 1 Axes>"
            ],
            "image/png": "[encoded data removed]"
          },
          "metadata": {
            "needs_background": "light"
          }
        }
      ],
      "source": [
        "fig, axes= plt.subplots(figsize=(20, 5))\n",
        "sns.histplot(data=Arg_Res1, \n",
        "             x=\"municipality\", \n",
        "             hue=\"Delayed\",\n",
        "             stat = \"count\",\n",
        "             multiple=\"stack\",\n",
        "             )\n",
        "plt.xlabel('Ciudad', fontsize=16)\n",
        "plt.ylabel('Cantidad de Vuelos', fontsize=16)\n",
        "plt.xticks(rotation=90)\n",
        "plt.show()"
      ]
    },
    {
      "cell_type": "markdown",
      "metadata": {
        "id": "LqwkfNM8bi3_"
      },
      "source": [
        "####Qué rutas tienen más vuelos a Brasil? 🇧\n",
        "* GIG: Rio de Janeiro\n",
        "* GRU: Sao Pablo\n",
        "* BSB: Brasilia\n",
        "* CWB: Curitiba\n",
        "* FLN: Florianopolis\n",
        "* FOR: Fortaleza\n",
        "* POA: Porto Alegre"
      ]
    },
    {
      "cell_type": "code",
      "execution_count": 53,
      "metadata": {
        "id": "MJCBnzZNjTsq"
      },
      "outputs": [],
      "source": [
        "ruta = (df_Vuelos[(df_Vuelos.Origen =='GIG') | (df_Vuelos.Origen=='GRU') | (df_Vuelos.Origen=='BSB')| (df_Vuelos.Origen=='CWB')| (df_Vuelos.Origen=='FLN')| (df_Vuelos.Origen=='FOR')| (df_Vuelos.Origen=='POA')])"
      ]
    },
    {
      "cell_type": "code",
      "execution_count": 54,
      "metadata": {
        "colab": {
          "base_uri": "https://localhost:8080/",
          "height": 206
        },
        "id": "c3KScKyAazoC",
        "outputId": "6073ea81-df51-465d-8413-fc020c1886ee"
      },
      "outputs": [
        {
          "output_type": "execute_result",
          "data": {
            "text/plain": [
              "  Origen  hora  count\n",
              "0    BSB     0     46\n",
              "1    BSB     1      8\n",
              "2    BSB     2      1\n",
              "3    BSB     3      1\n",
              "4    BSB     5      2"
            ],
            "text/html": [
              "\n",
              "  <div id=\"df-2464d0ae-ce63-4a4b-a3dc-9857ffc0449d\">\n",
              "    <div class=\"colab-df-container\">\n",
              "      <div>\n",
              "<style scoped>\n",
              "    .dataframe tbody tr th:only-of-type {\n",
              "        vertical-align: middle;\n",
              "    }\n",
              "\n",
              "    .dataframe tbody tr th {\n",
              "        vertical-align: top;\n",
              "    }\n",
              "\n",
              "    .dataframe thead th {\n",
              "        text-align: right;\n",
              "    }\n",
              "</style>\n",
              "<table border=\"1\" class=\"dataframe\">\n",
              "  <thead>\n",
              "    <tr style=\"text-align: right;\">\n",
              "      <th></th>\n",
              "      <th>Origen</th>\n",
              "      <th>hora</th>\n",
              "      <th>count</th>\n",
              "    </tr>\n",
              "  </thead>\n",
              "  <tbody>\n",
              "    <tr>\n",
              "      <th>0</th>\n",
              "      <td>BSB</td>\n",
              "      <td>0</td>\n",
              "      <td>46</td>\n",
              "    </tr>\n",
              "    <tr>\n",
              "      <th>1</th>\n",
              "      <td>BSB</td>\n",
              "      <td>1</td>\n",
              "      <td>8</td>\n",
              "    </tr>\n",
              "    <tr>\n",
              "      <th>2</th>\n",
              "      <td>BSB</td>\n",
              "      <td>2</td>\n",
              "      <td>1</td>\n",
              "    </tr>\n",
              "    <tr>\n",
              "      <th>3</th>\n",
              "      <td>BSB</td>\n",
              "      <td>3</td>\n",
              "      <td>1</td>\n",
              "    </tr>\n",
              "    <tr>\n",
              "      <th>4</th>\n",
              "      <td>BSB</td>\n",
              "      <td>5</td>\n",
              "      <td>2</td>\n",
              "    </tr>\n",
              "  </tbody>\n",
              "</table>\n",
              "</div>\n",
              "      <button class=\"colab-df-convert\" onclick=\"convertToInteractive('df-2464d0ae-ce63-4a4b-a3dc-9857ffc0449d')\"\n",
              "              title=\"Convert this dataframe to an interactive table.\"\n",
              "              style=\"display:none;\">\n",
              "        \n",
              "  <svg xmlns=\"http://www.w3.org/2000/svg\" height=\"24px\"viewBox=\"0 0 24 24\"\n",
              "       width=\"24px\">\n",
              "    <path d=\"M0 0h24v24H0V0z\" fill=\"none\"/>\n",
              "    <path d=\"M18.56 5.44l.94 2.06.94-2.06 2.06-.94-2.06-.94-.94-2.06-.94 2.06-2.06.94zm-11 1L8.5 8.5l.94-2.06 2.06-.94-2.06-.94L8.5 2.5l-.94 2.06-2.06.94zm10 10l.94 2.06.94-2.06 2.06-.94-2.06-.94-.94-2.06-.94 2.06-2.06.94z\"/><path d=\"M17.41 7.96l-1.37-1.37c-.4-.4-.92-.59-1.43-.59-.52 0-1.04.2-1.43.59L10.3 9.45l-7.72 7.72c-.78.78-.78 2.05 0 2.83L4 21.41c.39.39.9.59 1.41.59.51 0 1.02-.2 1.41-.59l7.78-7.78 2.81-2.81c.8-.78.8-2.07 0-2.86zM5.41 20L4 18.59l7.72-7.72 1.47 1.35L5.41 20z\"/>\n",
              "  </svg>\n",
              "      </button>\n",
              "      \n",
              "  <style>\n",
              "    .colab-df-container {\n",
              "      display:flex;\n",
              "      flex-wrap:wrap;\n",
              "      gap: 12px;\n",
              "    }\n",
              "\n",
              "    .colab-df-convert {\n",
              "      background-color: #E8F0FE;\n",
              "      border: none;\n",
              "      border-radius: 50%;\n",
              "      cursor: pointer;\n",
              "      display: none;\n",
              "      fill: #1967D2;\n",
              "      height: 32px;\n",
              "      padding: 0 0 0 0;\n",
              "      width: 32px;\n",
              "    }\n",
              "\n",
              "    .colab-df-convert:hover {\n",
              "      background-color: #E2EBFA;\n",
              "      box-shadow: 0px 1px 2px rgba(60, 64, 67, 0.3), 0px 1px 3px 1px rgba(60, 64, 67, 0.15);\n",
              "      fill: #174EA6;\n",
              "    }\n",
              "\n",
              "    [theme=dark] .colab-df-convert {\n",
              "      background-color: #3B4455;\n",
              "      fill: #D2E3FC;\n",
              "    }\n",
              "\n",
              "    [theme=dark] .colab-df-convert:hover {\n",
              "      background-color: #434B5C;\n",
              "      box-shadow: 0px 1px 3px 1px rgba(0, 0, 0, 0.15);\n",
              "      filter: drop-shadow(0px 1px 2px rgba(0, 0, 0, 0.3));\n",
              "      fill: #FFFFFF;\n",
              "    }\n",
              "  </style>\n",
              "\n",
              "      <script>\n",
              "        const buttonEl =\n",
              "          document.querySelector('#df-2464d0ae-ce63-4a4b-a3dc-9857ffc0449d button.colab-df-convert');\n",
              "        buttonEl.style.display =\n",
              "          google.colab.kernel.accessAllowed ? 'block' : 'none';\n",
              "\n",
              "        async function convertToInteractive(key) {\n",
              "          const element = document.querySelector('#df-2464d0ae-ce63-4a4b-a3dc-9857ffc0449d');\n",
              "          const dataTable =\n",
              "            await google.colab.kernel.invokeFunction('convertToInteractive',\n",
              "                                                     [key], {});\n",
              "          if (!dataTable) return;\n",
              "\n",
              "          const docLinkHtml = 'Like what you see? Visit the ' +\n",
              "            '<a target=\"_blank\" href=https://colab.research.google.com/notebooks/data_table.ipynb>data table notebook</a>'\n",
              "            + ' to learn more about interactive tables.';\n",
              "          element.innerHTML = '';\n",
              "          dataTable['output_type'] = 'display_data';\n",
              "          await google.colab.output.renderOutput(dataTable, element);\n",
              "          const docLink = document.createElement('div');\n",
              "          docLink.innerHTML = docLinkHtml;\n",
              "          element.appendChild(docLink);\n",
              "        }\n",
              "      </script>\n",
              "    </div>\n",
              "  </div>\n",
              "  "
            ]
          },
          "metadata": {},
          "execution_count": 54
        }
      ],
      "source": [
        "df1 = pd.DataFrame({'count': ruta.groupby(['Origen', 'hora']).size()})\n",
        "df1.reset_index(inplace=True)\n",
        "df1.head(5)\n",
        "\n"
      ]
    },
    {
      "cell_type": "code",
      "execution_count": 55,
      "metadata": {
        "colab": {
          "base_uri": "https://localhost:8080/",
          "height": 137
        },
        "id": "xxlDtrKOjzGS",
        "outputId": "cc59d57e-f8f7-4484-a958-d6f81902f9f3"
      },
      "outputs": [
        {
          "output_type": "display_data",
          "data": {
            "text/plain": [
              "<Figure size 2520x360 with 7 Axes>"
            ],
            "image/png": "[encoded data removed]"
          },
          "metadata": {
            "needs_background": "light"
          }
        }
      ],
      "source": [
        "sns.catplot(data=df1, x='hora', y='count', col='Origen', kind='bar')\n",
        "plt.show()"
      ]
    },
    {
      "cell_type": "markdown",
      "metadata": {
        "id": "zuYGF8XFKwxw"
      },
      "source": [
        "## **Algoritmos y Modelos**  🔧 ⚙\n",
        "\n"
      ]
    },
    {
      "cell_type": "markdown",
      "metadata": {
        "id": "CzF8M5SnLIJ1"
      },
      "source": [
        "###Correlación entre variables"
      ]
    },
    {
      "cell_type": "code",
      "execution_count": 56,
      "metadata": {
        "id": "f8AMxVydLE0X",
        "colab": {
          "base_uri": "https://localhost:8080/",
          "height": 322
        },
        "outputId": "98156499-a3f5-4500-b42b-a1f212d938a4"
      },
      "outputs": [
        {
          "output_type": "display_data",
          "data": {
            "text/plain": [
              "<Figure size 432x288 with 2 Axes>"
            ],
            "image/png": "[encoded data removed]"
          },
          "metadata": {
            "needs_background": "light"
          }
        }
      ],
      "source": [
        "corr = Arg_Res1.loc[:,Arg_Res1.dtypes!='object'].corr() #saca la correlacion de todos los tipos de datos que no sean objeto\n",
        "\n",
        "sns.heatmap(corr, cmap='RdBu', vmin=-1, vmax=1, annot=True)\n",
        "plt.show()"
      ]
    },
    {
      "cell_type": "markdown",
      "metadata": {
        "id": "8mJ--NrYRLQ5"
      },
      "source": [
        "###Métricas algoritmos de clasificación"
      ]
    },
    {
      "cell_type": "code",
      "execution_count": 57,
      "metadata": {
        "id": "pITmFdJ7W3pS",
        "colab": {
          "base_uri": "https://localhost:8080/",
          "height": 206
        },
        "outputId": "8e183e9a-209b-4f8a-8957-9f06c0513de2"
      },
      "outputs": [
        {
          "output_type": "execute_result",
          "data": {
            "text/plain": [
              "     Pax   año  mes  hora\n",
              "0  100.0  2019    1     1\n",
              "1   36.0  2019    1     6\n",
              "2  153.0  2019    1     7\n",
              "3   28.0  2019    1     7\n",
              "4  146.0  2019    1     7"
            ],
            "text/html": [
              "\n",
              "  <div id=\"df-b307745f-3c58-4e01-8563-b87709a94b0d\">\n",
              "    <div class=\"colab-df-container\">\n",
              "      <div>\n",
              "<style scoped>\n",
              "    .dataframe tbody tr th:only-of-type {\n",
              "        vertical-align: middle;\n",
              "    }\n",
              "\n",
              "    .dataframe tbody tr th {\n",
              "        vertical-align: top;\n",
              "    }\n",
              "\n",
              "    .dataframe thead th {\n",
              "        text-align: right;\n",
              "    }\n",
              "</style>\n",
              "<table border=\"1\" class=\"dataframe\">\n",
              "  <thead>\n",
              "    <tr style=\"text-align: right;\">\n",
              "      <th></th>\n",
              "      <th>Pax</th>\n",
              "      <th>año</th>\n",
              "      <th>mes</th>\n",
              "      <th>hora</th>\n",
              "    </tr>\n",
              "  </thead>\n",
              "  <tbody>\n",
              "    <tr>\n",
              "      <th>0</th>\n",
              "      <td>100.0</td>\n",
              "      <td>2019</td>\n",
              "      <td>1</td>\n",
              "      <td>1</td>\n",
              "    </tr>\n",
              "    <tr>\n",
              "      <th>1</th>\n",
              "      <td>36.0</td>\n",
              "      <td>2019</td>\n",
              "      <td>1</td>\n",
              "      <td>6</td>\n",
              "    </tr>\n",
              "    <tr>\n",
              "      <th>2</th>\n",
              "      <td>153.0</td>\n",
              "      <td>2019</td>\n",
              "      <td>1</td>\n",
              "      <td>7</td>\n",
              "    </tr>\n",
              "    <tr>\n",
              "      <th>3</th>\n",
              "      <td>28.0</td>\n",
              "      <td>2019</td>\n",
              "      <td>1</td>\n",
              "      <td>7</td>\n",
              "    </tr>\n",
              "    <tr>\n",
              "      <th>4</th>\n",
              "      <td>146.0</td>\n",
              "      <td>2019</td>\n",
              "      <td>1</td>\n",
              "      <td>7</td>\n",
              "    </tr>\n",
              "  </tbody>\n",
              "</table>\n",
              "</div>\n",
              "      <button class=\"colab-df-convert\" onclick=\"convertToInteractive('df-b307745f-3c58-4e01-8563-b87709a94b0d')\"\n",
              "              title=\"Convert this dataframe to an interactive table.\"\n",
              "              style=\"display:none;\">\n",
              "        \n",
              "  <svg xmlns=\"http://www.w3.org/2000/svg\" height=\"24px\"viewBox=\"0 0 24 24\"\n",
              "       width=\"24px\">\n",
              "    <path d=\"M0 0h24v24H0V0z\" fill=\"none\"/>\n",
              "    <path d=\"M18.56 5.44l.94 2.06.94-2.06 2.06-.94-2.06-.94-.94-2.06-.94 2.06-2.06.94zm-11 1L8.5 8.5l.94-2.06 2.06-.94-2.06-.94L8.5 2.5l-.94 2.06-2.06.94zm10 10l.94 2.06.94-2.06 2.06-.94-2.06-.94-.94-2.06-.94 2.06-2.06.94z\"/><path d=\"M17.41 7.96l-1.37-1.37c-.4-.4-.92-.59-1.43-.59-.52 0-1.04.2-1.43.59L10.3 9.45l-7.72 7.72c-.78.78-.78 2.05 0 2.83L4 21.41c.39.39.9.59 1.41.59.51 0 1.02-.2 1.41-.59l7.78-7.78 2.81-2.81c.8-.78.8-2.07 0-2.86zM5.41 20L4 18.59l7.72-7.72 1.47 1.35L5.41 20z\"/>\n",
              "  </svg>\n",
              "      </button>\n",
              "      \n",
              "  <style>\n",
              "    .colab-df-container {\n",
              "      display:flex;\n",
              "      flex-wrap:wrap;\n",
              "      gap: 12px;\n",
              "    }\n",
              "\n",
              "    .colab-df-convert {\n",
              "      background-color: #E8F0FE;\n",
              "      border: none;\n",
              "      border-radius: 50%;\n",
              "      cursor: pointer;\n",
              "      display: none;\n",
              "      fill: #1967D2;\n",
              "      height: 32px;\n",
              "      padding: 0 0 0 0;\n",
              "      width: 32px;\n",
              "    }\n",
              "\n",
              "    .colab-df-convert:hover {\n",
              "      background-color: #E2EBFA;\n",
              "      box-shadow: 0px 1px 2px rgba(60, 64, 67, 0.3), 0px 1px 3px 1px rgba(60, 64, 67, 0.15);\n",
              "      fill: #174EA6;\n",
              "    }\n",
              "\n",
              "    [theme=dark] .colab-df-convert {\n",
              "      background-color: #3B4455;\n",
              "      fill: #D2E3FC;\n",
              "    }\n",
              "\n",
              "    [theme=dark] .colab-df-convert:hover {\n",
              "      background-color: #434B5C;\n",
              "      box-shadow: 0px 1px 3px 1px rgba(0, 0, 0, 0.15);\n",
              "      filter: drop-shadow(0px 1px 2px rgba(0, 0, 0, 0.3));\n",
              "      fill: #FFFFFF;\n",
              "    }\n",
              "  </style>\n",
              "\n",
              "      <script>\n",
              "        const buttonEl =\n",
              "          document.querySelector('#df-b307745f-3c58-4e01-8563-b87709a94b0d button.colab-df-convert');\n",
              "        buttonEl.style.display =\n",
              "          google.colab.kernel.accessAllowed ? 'block' : 'none';\n",
              "\n",
              "        async function convertToInteractive(key) {\n",
              "          const element = document.querySelector('#df-b307745f-3c58-4e01-8563-b87709a94b0d');\n",
              "          const dataTable =\n",
              "            await google.colab.kernel.invokeFunction('convertToInteractive',\n",
              "                                                     [key], {});\n",
              "          if (!dataTable) return;\n",
              "\n",
              "          const docLinkHtml = 'Like what you see? Visit the ' +\n",
              "            '<a target=\"_blank\" href=https://colab.research.google.com/notebooks/data_table.ipynb>data table notebook</a>'\n",
              "            + ' to learn more about interactive tables.';\n",
              "          element.innerHTML = '';\n",
              "          dataTable['output_type'] = 'display_data';\n",
              "          await google.colab.output.renderOutput(dataTable, element);\n",
              "          const docLink = document.createElement('div');\n",
              "          docLink.innerHTML = docLinkHtml;\n",
              "          element.appendChild(docLink);\n",
              "        }\n",
              "      </script>\n",
              "    </div>\n",
              "  </div>\n",
              "  "
            ]
          },
          "metadata": {},
          "execution_count": 57
        }
      ],
      "source": [
        "df_Resumen = df_Vuelos[['Pax','año','mes','hora','Rmk']]\n",
        "\n",
        "X = df_Resumen.drop('Rmk',axis= 1)\n",
        "y = df_Resumen['Rmk']\n",
        "\n",
        "X.head()"
      ]
    },
    {
      "cell_type": "markdown",
      "metadata": {
        "id": "H5hQYZ3esx9l"
      },
      "source": [
        "###Arbol Decisión"
      ]
    },
    {
      "cell_type": "code",
      "execution_count": 58,
      "metadata": {
        "id": "Im-M5ntyXaTJ"
      },
      "outputs": [],
      "source": [
        "X_train, X_test, y_train, y_test = train_test_split(X,y,test_size=0.2, random_state=1)\n",
        "\n",
        "#Creo un modelo:\n",
        "\n",
        "modelo = DecisionTreeClassifier(random_state=1)\n",
        "modelo.fit(X_train, y_train)\n",
        "\n",
        "#Obtenemos las predicciones:\n",
        "preds = modelo.predict(X_test) "
      ]
    },
    {
      "cell_type": "code",
      "execution_count": 60,
      "metadata": {
        "id": "kIMBlD9eYffv"
      },
      "outputs": [],
      "source": [
        "#plt.figure(figsize=(10,6))\n",
        "#metrics.plot_confusion_matrix(modelo, X_test, y_test, display_labels=['Negative', 'Positive'])\n",
        "#plt.show()"
      ]
    },
    {
      "cell_type": "markdown",
      "metadata": {
        "id": "iVbiiOzBpvIp"
      },
      "source": [
        "###Knn"
      ]
    },
    {
      "cell_type": "markdown",
      "metadata": {
        "id": "61IpsidSs3_r"
      },
      "source": [
        "Escalo el DS"
      ]
    },
    {
      "cell_type": "code",
      "execution_count": 61,
      "metadata": {
        "id": "dxFh2EQipix9"
      },
      "outputs": [],
      "source": [
        "scaler = Normalizer()\n",
        "scaler.fit(X_train) #datos de entrenamiento para saber que escalas vamos a manejar\n",
        "\n",
        "X_train = scaler.transform(X_train) \n",
        "X_test = scaler.transform(X_test)  "
      ]
    },
    {
      "cell_type": "markdown",
      "metadata": {
        "id": "wLj8TS51KjQ3"
      },
      "source": [
        "**Elijo K:** por la cantidad de variables, elijo k=2"
      ]
    },
    {
      "cell_type": "code",
      "execution_count": 62,
      "metadata": {
        "id": "qlwI-abJqf0b",
        "colab": {
          "base_uri": "https://localhost:8080/",
          "height": 74
        },
        "outputId": "ea11438f-0594-4b0f-a3dd-c0cafd005b7b"
      },
      "outputs": [
        {
          "output_type": "execute_result",
          "data": {
            "text/plain": [
              "KNeighborsClassifier(n_neighbors=2)"
            ],
            "text/html": [
              "<style>#sk-container-id-1 {color: black;background-color: white;}#sk-container-id-1 pre{padding: 0;}#sk-container-id-1 div.sk-toggleable {background-color: white;}#sk-container-id-1 label.sk-toggleable__label {cursor: pointer;display: block;width: 100%;margin-bottom: 0;padding: 0.3em;box-sizing: border-box;text-align: center;}#sk-container-id-1 label.sk-toggleable__label-arrow:before {content: \"▸\";float: left;margin-right: 0.25em;color: #696969;}#sk-container-id-1 label.sk-toggleable__label-arrow:hover:before {color: black;}#sk-container-id-1 div.sk-estimator:hover label.sk-toggleable__label-arrow:before {color: black;}#sk-container-id-1 div.sk-toggleable__content {max-height: 0;max-width: 0;overflow: hidden;text-align: left;background-color: #f0f8ff;}#sk-container-id-1 div.sk-toggleable__content pre {margin: 0.2em;color: black;border-radius: 0.25em;background-color: #f0f8ff;}#sk-container-id-1 input.sk-toggleable__control:checked~div.sk-toggleable__content {max-height: 200px;max-width: 100%;overflow: auto;}#sk-container-id-1 input.sk-toggleable__control:checked~label.sk-toggleable__label-arrow:before {content: \"▾\";}#sk-container-id-1 div.sk-estimator input.sk-toggleable__control:checked~label.sk-toggleable__label {background-color: #d4ebff;}#sk-container-id-1 div.sk-label input.sk-toggleable__control:checked~label.sk-toggleable__label {background-color: #d4ebff;}#sk-container-id-1 input.sk-hidden--visually {border: 0;clip: rect(1px 1px 1px 1px);clip: rect(1px, 1px, 1px, 1px);height: 1px;margin: -1px;overflow: hidden;padding: 0;position: absolute;width: 1px;}#sk-container-id-1 div.sk-estimator {font-family: monospace;background-color: #f0f8ff;border: 1px dotted black;border-radius: 0.25em;box-sizing: border-box;margin-bottom: 0.5em;}#sk-container-id-1 div.sk-estimator:hover {background-color: #d4ebff;}#sk-container-id-1 div.sk-parallel-item::after {content: \"\";width: 100%;border-bottom: 1px solid gray;flex-grow: 1;}#sk-container-id-1 div.sk-label:hover label.sk-toggleable__label {background-color: #d4ebff;}#sk-container-id-1 div.sk-serial::before {content: \"\";position: absolute;border-left: 1px solid gray;box-sizing: border-box;top: 0;bottom: 0;left: 50%;z-index: 0;}#sk-container-id-1 div.sk-serial {display: flex;flex-direction: column;align-items: center;background-color: white;padding-right: 0.2em;padding-left: 0.2em;position: relative;}#sk-container-id-1 div.sk-item {position: relative;z-index: 1;}#sk-container-id-1 div.sk-parallel {display: flex;align-items: stretch;justify-content: center;background-color: white;position: relative;}#sk-container-id-1 div.sk-item::before, #sk-container-id-1 div.sk-parallel-item::before {content: \"\";position: absolute;border-left: 1px solid gray;box-sizing: border-box;top: 0;bottom: 0;left: 50%;z-index: -1;}#sk-container-id-1 div.sk-parallel-item {display: flex;flex-direction: column;z-index: 1;position: relative;background-color: white;}#sk-container-id-1 div.sk-parallel-item:first-child::after {align-self: flex-end;width: 50%;}#sk-container-id-1 div.sk-parallel-item:last-child::after {align-self: flex-start;width: 50%;}#sk-container-id-1 div.sk-parallel-item:only-child::after {width: 0;}#sk-container-id-1 div.sk-dashed-wrapped {border: 1px dashed gray;margin: 0 0.4em 0.5em 0.4em;box-sizing: border-box;padding-bottom: 0.4em;background-color: white;}#sk-container-id-1 div.sk-label label {font-family: monospace;font-weight: bold;display: inline-block;line-height: 1.2em;}#sk-container-id-1 div.sk-label-container {text-align: center;}#sk-container-id-1 div.sk-container {/* jupyter's `normalize.less` sets `[hidden] { display: none; }` but bootstrap.min.css set `[hidden] { display: none !important; }` so we also need the `!important` here to be able to override the default hidden behavior on the sphinx rendered scikit-learn.org. See: https://github.com/scikit-learn/scikit-learn/issues/21755 */display: inline-block !important;position: relative;}#sk-container-id-1 div.sk-text-repr-fallback {display: none;}</style><div id=\"sk-container-id-1\" class=\"sk-top-container\"><div class=\"sk-text-repr-fallback\"><pre>KNeighborsClassifier(n_neighbors=2)</pre><b>In a Jupyter environment, please rerun this cell to show the HTML representation or trust the notebook. <br />On GitHub, the HTML representation is unable to render, please try loading this page with nbviewer.org.</b></div><div class=\"sk-container\" hidden><div class=\"sk-item\"><div class=\"sk-estimator sk-toggleable\"><input class=\"sk-toggleable__control sk-hidden--visually\" id=\"sk-estimator-id-1\" type=\"checkbox\" checked><label for=\"sk-estimator-id-1\" class=\"sk-toggleable__label sk-toggleable__label-arrow\">KNeighborsClassifier</label><div class=\"sk-toggleable__content\"><pre>KNeighborsClassifier(n_neighbors=2)</pre></div></div></div></div></div>"
            ]
          },
          "metadata": {},
          "execution_count": 62
        }
      ],
      "source": [
        "classifier = KNeighborsClassifier(n_neighbors = 2) \n",
        "classifier.fit(X_train, y_train)"
      ]
    },
    {
      "cell_type": "code",
      "execution_count": 63,
      "metadata": {
        "id": "ECpf1L48rqZq"
      },
      "outputs": [],
      "source": [
        "y_pred = classifier.predict(X_test)"
      ]
    },
    {
      "cell_type": "code",
      "execution_count": 64,
      "metadata": {
        "id": "nmKULpkBrtJ0",
        "colab": {
          "base_uri": "https://localhost:8080/"
        },
        "outputId": "f9eb6a52-b0aa-4ebd-8156-9a33f1a34a8d"
      },
      "outputs": [
        {
          "output_type": "execute_result",
          "data": {
            "text/plain": [
              "array(['ATE', 'ATE', 'ATE', ..., 'ATE', 'ATE', 'ATE'], dtype=object)"
            ]
          },
          "metadata": {},
          "execution_count": 64
        }
      ],
      "source": [
        "y_pred"
      ]
    },
    {
      "cell_type": "markdown",
      "metadata": {
        "id": "GStEp0cVtT4c"
      },
      "source": [
        "**Métricas**"
      ]
    },
    {
      "cell_type": "code",
      "execution_count": 65,
      "metadata": {
        "id": "4ZAf7locZ-cM",
        "colab": {
          "base_uri": "https://localhost:8080/"
        },
        "outputId": "12b80550-10de-4665-c9d5-d664791c5451"
      },
      "outputs": [
        {
          "output_type": "stream",
          "name": "stderr",
          "text": [
            "/usr/local/lib/python3.8/dist-packages/sklearn/metrics/_classification.py:1344: UndefinedMetricWarning: Precision and F-score are ill-defined and being set to 0.0 in labels with no predicted samples. Use `zero_division` parameter to control this behavior.\n",
            "  _warn_prf(average, modifier, msg_start, len(result))\n"
          ]
        },
        {
          "output_type": "stream",
          "name": "stdout",
          "text": [
            "              precision    recall  f1-score   support\n",
            "\n",
            "         ATE       1.00      1.00      1.00     25116\n",
            "         CAN       0.00      0.00      0.00         1\n",
            "\n",
            "    accuracy                           1.00     25117\n",
            "   macro avg       0.50      0.50      0.50     25117\n",
            "weighted avg       1.00      1.00      1.00     25117\n",
            "\n"
          ]
        },
        {
          "output_type": "stream",
          "name": "stderr",
          "text": [
            "/usr/local/lib/python3.8/dist-packages/sklearn/metrics/_classification.py:1344: UndefinedMetricWarning: Precision and F-score are ill-defined and being set to 0.0 in labels with no predicted samples. Use `zero_division` parameter to control this behavior.\n",
            "  _warn_prf(average, modifier, msg_start, len(result))\n",
            "/usr/local/lib/python3.8/dist-packages/sklearn/metrics/_classification.py:1344: UndefinedMetricWarning: Precision and F-score are ill-defined and being set to 0.0 in labels with no predicted samples. Use `zero_division` parameter to control this behavior.\n",
            "  _warn_prf(average, modifier, msg_start, len(result))\n"
          ]
        }
      ],
      "source": [
        "print(metrics.classification_report(y_test, preds))"
      ]
    },
    {
      "cell_type": "markdown",
      "metadata": {
        "id": "Ax3264VWdF5l"
      },
      "source": [
        "### Underfitting-overfitting\n",
        "\n"
      ]
    },
    {
      "cell_type": "code",
      "execution_count": 66,
      "metadata": {
        "id": "g_X1fOhmH3SG",
        "colab": {
          "base_uri": "https://localhost:8080/"
        },
        "outputId": "02646994-ea7c-4666-bc1b-b8273d2c7dfa"
      },
      "outputs": [
        {
          "output_type": "stream",
          "name": "stderr",
          "text": [
            "/usr/local/lib/python3.8/dist-packages/sklearn/base.py:420: UserWarning: X does not have valid feature names, but DecisionTreeClassifier was fitted with feature names\n",
            "  warnings.warn(\n"
          ]
        }
      ],
      "source": [
        "preds_train = modelo.predict(X_train) "
      ]
    },
    {
      "cell_type": "code",
      "execution_count": 67,
      "metadata": {
        "id": "Czf-YzeLHyRL",
        "colab": {
          "base_uri": "https://localhost:8080/"
        },
        "outputId": "3c035fe9-739f-429a-e7de-f953e734deb2"
      },
      "outputs": [
        {
          "output_type": "execute_result",
          "data": {
            "text/plain": [
              "1.0"
            ]
          },
          "metadata": {},
          "execution_count": 67
        }
      ],
      "source": [
        "train_accuracy = metrics.accuracy_score(y_train, preds_train)\n",
        "train_accuracy "
      ]
    },
    {
      "cell_type": "code",
      "execution_count": 68,
      "metadata": {
        "id": "2AHNuhnCHyOc",
        "colab": {
          "base_uri": "https://localhost:8080/"
        },
        "outputId": "023ed709-4a2f-4604-f46d-e635f3a7c7b0"
      },
      "outputs": [
        {
          "output_type": "stream",
          "name": "stderr",
          "text": [
            "/usr/local/lib/python3.8/dist-packages/sklearn/base.py:420: UserWarning: X does not have valid feature names, but DecisionTreeClassifier was fitted with feature names\n",
            "  warnings.warn(\n"
          ]
        },
        {
          "output_type": "execute_result",
          "data": {
            "text/plain": [
              "0.999960186327985"
            ]
          },
          "metadata": {},
          "execution_count": 68
        }
      ],
      "source": [
        "preds_test = modelo.predict(X_test) \n",
        "\n",
        "test_accuracy = metrics.accuracy_score(y_test, preds_test)\n",
        "test_accuracy     #cuando la diferencia entre train_accuracy y test_accuracy es muy grande es overfitting"
      ]
    }
  ],
  "metadata": {
    "accelerator": "GPU",
    "colab": {
      "provenance": [],
      "toc_visible": true,
      "include_colab_link": true
    },
    "gpuClass": "standard",
    "kernelspec": {
      "display_name": "Python 3",
      "name": "python3"
    },
    "language_info": {
      "name": "python"
    }
  },
  "nbformat": 4,
  "nbformat_minor": 0
}